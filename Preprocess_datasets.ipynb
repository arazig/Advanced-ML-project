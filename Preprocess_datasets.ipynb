{
 "cells": [
  {
   "cell_type": "markdown",
   "metadata": {},
   "source": [
    "# Notebook is dedicated to the preprocessing if the data. \n",
    "\n",
    "In this notebook, first we construct the an exploitable database for our probleme by filtering, cleaning and removing some items and users. Then, we will we do a leave-one-out split for the test set. Then, we evaluate our prediction for each user with 100 sampled items to which we add the last item bought.\n",
    "\n",
    "    -   train.csv\n",
    "    -   test.csv\n",
    "\n",
    "As in the article, we cannot make the computation in all the data for evaluating the prediction, so aiming to reduce this cost  100 non-interacted items are randomly sampled for each user and we add the test item amoung them. \n",
    "\n",
    "    -   negative_test.csv\n",
    "\n",
    "We will use two metrcis to evaluate the performance : \n",
    "\n",
    "- Hit Ratio : It check if the test item is in the top-K list \n",
    "- Normalized Discounted cumulative Gain : It considers the position of the test item by giving higher score for top ranks"
   ]
  },
  {
   "cell_type": "code",
   "execution_count": 6,
   "metadata": {},
   "outputs": [],
   "source": [
    "# Requirements\n",
    "\n",
    "import pandas as pd\n",
    "import numpy as np\n",
    "import json \n",
    "from sklearn.preprocessing import LabelEncoder"
   ]
  },
  {
   "cell_type": "code",
   "execution_count": null,
   "metadata": {},
   "outputs": [],
   "source": []
  },
  {
   "cell_type": "markdown",
   "metadata": {},
   "source": [
    "________________________________\n",
    "### **INITIAL DATABASE ( restriction by ratings per user and users per items ) :**\n",
    "\n",
    "To ensure effective utilization of the data, we remove items with fewer than 20 ratings and users who have rated fewer than 20 products. This approach helps to eliminate non-informative elements from the dataset, as such items and users provide insufficient information for meaningful analysis or recommendation generation. By focusing on more active users and frequently rated items, we aim to improve the reliability and robustness of the recommendations."
   ]
  },
  {
   "cell_type": "code",
   "execution_count": null,
   "metadata": {},
   "outputs": [],
   "source": [
    "# Import of users data : \n",
    "\n",
    "file = \"/Users/aminerazig/Desktop/ENSAE 3A/ADVANCED ML/Advanced ML-project/DATA/Musical_Instruments.jsonl\"\n",
    "\n",
    "print (f\"Loading of the data from {file}....\")\n",
    "with open(file, 'r') as file:\n",
    "    data = [json.loads(line) for line in file]\n",
    "print (f\"End of loading\")\n"
   ]
  },
  {
   "cell_type": "code",
   "execution_count": null,
   "metadata": {},
   "outputs": [],
   "source": [
    "\n",
    "df_recommendation = pd.DataFrame(\n",
    "    [{\"id\": item[\"parent_asin\"], \"user\": item[\"user_id\"], \"rating\": item[\"rating\"]} for item in data]\n",
    ")\n",
    "\n",
    "print(f\"Initial Data base shape is : {df_recommendation.shape[0]} rows and {df_recommendation.shape[1]} columns\")\n"
   ]
  },
  {
   "cell_type": "code",
   "execution_count": null,
   "metadata": {},
   "outputs": [
    {
     "name": "stdout",
     "output_type": "stream",
     "text": [
      "(77125, 3)\n"
     ]
    }
   ],
   "source": [
    "\n",
    "# First we check if there is any duplicates in the dataset (ie a user that gives a rating twice for a product)\n",
    "print(f\"{df_recommendation[df_recommendation.duplicated(subset=['user', 'id'], keep=False)].shape}\")\n",
    "\n",
    "# Then we remove those duplicates (by doing the mean of the ratings) : \n",
    "df_recommendation = df_recommendation.groupby(['user', 'id'], as_index=False)['rating'].mean()\n",
    "df_recommendation['rating'] = np.ceil(df_recommendation['rating'])\n",
    "\n",
    "print(f\"Deletion of duplicates .... Shape after deletion {df_recommendation.shape[0]} rows and {df_recommendation.shape[1]} columns\")"
   ]
  },
  {
   "cell_type": "markdown",
   "metadata": {},
   "source": [
    "#### **Filter users that have rated less than 20 products**"
   ]
  },
  {
   "cell_type": "code",
   "execution_count": null,
   "metadata": {},
   "outputs": [],
   "source": [
    "rating_counts = df_recommendation.groupby('user').size().reset_index(name='count')\n",
    "\n",
    "# Filtrer les 'user' qui ont au moins 20 ratings\n",
    "has_rated_min_nb = 20\n",
    "valid_users = rating_counts[rating_counts['count'] >= 20]['user']\n",
    "\n",
    "# Garder uniquement les lignes correspondantes dans le DataFrame original\n",
    "df_recommendation = df_recommendation[df_recommendation['user'].isin(valid_users)]\n",
    "\n",
    "print(f\"Deletion of users wich have ratings less than 20 products .... Shape after deletion {df_recommendation.shape[0]} rows and {df_recommendation.shape[1]} columns\")"
   ]
  },
  {
   "cell_type": "markdown",
   "metadata": {},
   "source": [
    "#### **Products with less than 20 ratings**"
   ]
  },
  {
   "cell_type": "code",
   "execution_count": null,
   "metadata": {},
   "outputs": [],
   "source": [
    "rating_counts = df_recommendation.groupby('id').size().reset_index(name='count')\n",
    "\n",
    "# Filtrer les 'id' qui ont au moins 20 ratings\n",
    "rating_min_nb = 20\n",
    "valid_ids = rating_counts[rating_counts['count'] >= 20]['id']\n",
    "\n",
    "# Garder uniquement les lignes correspondantes dans le DataFrame original\n",
    "df_recommendation = df_recommendation[df_recommendation['id'].isin(valid_ids)]\n",
    "\n",
    "print(f\"Deletion of items with less than 20 ratings .... Shape after deletion {df_recommendation.shape[0]} rows and {df_recommendation.shape[1]} columns\")"
   ]
  },
  {
   "cell_type": "code",
   "execution_count": null,
   "metadata": {},
   "outputs": [
    {
     "name": "stdout",
     "output_type": "stream",
     "text": [
      " Number of distincts products : 1003\n",
      " Number of distincts users : 5107\n"
     ]
    }
   ],
   "source": [
    "print (f\" Number of distincts products : {df_recommendation ['id'].nunique()}\")\n",
    "print (f\" Number of distincts users : {df_recommendation['user'].nunique()}\")"
   ]
  },
  {
   "cell_type": "code",
   "execution_count": null,
   "metadata": {},
   "outputs": [
    {
     "name": "stdout",
     "output_type": "stream",
     "text": [
      "The proportion of products rated by different users : \n",
      "\n"
     ]
    },
    {
     "data": {
      "text/html": [
       "<div>\n",
       "<style scoped>\n",
       "    .dataframe tbody tr th:only-of-type {\n",
       "        vertical-align: middle;\n",
       "    }\n",
       "\n",
       "    .dataframe tbody tr th {\n",
       "        vertical-align: top;\n",
       "    }\n",
       "\n",
       "    .dataframe thead th {\n",
       "        text-align: right;\n",
       "    }\n",
       "</style>\n",
       "<table border=\"1\" class=\"dataframe\">\n",
       "  <thead>\n",
       "    <tr style=\"text-align: right;\">\n",
       "      <th></th>\n",
       "      <th>user</th>\n",
       "    </tr>\n",
       "  </thead>\n",
       "  <tbody>\n",
       "    <tr>\n",
       "      <th>count</th>\n",
       "      <td>1003.000000</td>\n",
       "    </tr>\n",
       "    <tr>\n",
       "      <th>mean</th>\n",
       "      <td>42.498504</td>\n",
       "    </tr>\n",
       "    <tr>\n",
       "      <th>std</th>\n",
       "      <td>39.940309</td>\n",
       "    </tr>\n",
       "    <tr>\n",
       "      <th>min</th>\n",
       "      <td>20.000000</td>\n",
       "    </tr>\n",
       "    <tr>\n",
       "      <th>25%</th>\n",
       "      <td>24.000000</td>\n",
       "    </tr>\n",
       "    <tr>\n",
       "      <th>50%</th>\n",
       "      <td>31.000000</td>\n",
       "    </tr>\n",
       "    <tr>\n",
       "      <th>75%</th>\n",
       "      <td>44.000000</td>\n",
       "    </tr>\n",
       "    <tr>\n",
       "      <th>max</th>\n",
       "      <td>473.000000</td>\n",
       "    </tr>\n",
       "  </tbody>\n",
       "</table>\n",
       "</div>"
      ],
      "text/plain": [
       "              user\n",
       "count  1003.000000\n",
       "mean     42.498504\n",
       "std      39.940309\n",
       "min      20.000000\n",
       "25%      24.000000\n",
       "50%      31.000000\n",
       "75%      44.000000\n",
       "max     473.000000"
      ]
     },
     "metadata": {},
     "output_type": "display_data"
    }
   ],
   "source": [
    "ratings_per_product = df_recommendation.groupby('id')['user'].nunique()\n",
    "print(f\"The proportion of products rated by different users : \\n\")\n",
    "pd.DataFrame(ratings_per_product.describe())"
   ]
  },
  {
   "cell_type": "code",
   "execution_count": 3,
   "metadata": {},
   "outputs": [
    {
     "name": "stdout",
     "output_type": "stream",
     "text": [
      "Saving the final full data base on the csv format ( base de donnée_20_20.csv ) ...\n",
      "... Successfully saved\n"
     ]
    }
   ],
   "source": [
    "csv_name = f\"base de donnée_{str(rating_min_nb)}_{str(has_rated_min_nb )}.csv\"\n",
    "print(f\"Saving the final full data base on the csv format ( {csv_name} ) ...\")\n",
    "\n",
    "#df_recommendation.to_csv(csv_name)\n",
    "\n",
    "print(f\"... Successfully saved\")\n"
   ]
  },
  {
   "cell_type": "markdown",
   "metadata": {},
   "source": [
    "**(End preprocessing, csv database)**\n",
    "___________________________"
   ]
  },
  {
   "cell_type": "code",
   "execution_count": 8,
   "metadata": {},
   "outputs": [
    {
     "data": {
      "text/html": [
       "<div>\n",
       "<style scoped>\n",
       "    .dataframe tbody tr th:only-of-type {\n",
       "        vertical-align: middle;\n",
       "    }\n",
       "\n",
       "    .dataframe tbody tr th {\n",
       "        vertical-align: top;\n",
       "    }\n",
       "\n",
       "    .dataframe thead th {\n",
       "        text-align: right;\n",
       "    }\n",
       "</style>\n",
       "<table border=\"1\" class=\"dataframe\">\n",
       "  <thead>\n",
       "    <tr style=\"text-align: right;\">\n",
       "      <th></th>\n",
       "      <th>user</th>\n",
       "      <th>id</th>\n",
       "      <th>rating</th>\n",
       "      <th>timestamp</th>\n",
       "    </tr>\n",
       "  </thead>\n",
       "  <tbody>\n",
       "    <tr>\n",
       "      <th>0</th>\n",
       "      <td>AE23JYHGEN3D35CHE5OQQYJOW5RA</td>\n",
       "      <td>B000EEHKVY</td>\n",
       "      <td>5.0</td>\n",
       "      <td>1427926325000</td>\n",
       "    </tr>\n",
       "    <tr>\n",
       "      <th>1</th>\n",
       "      <td>AE23JYHGEN3D35CHE5OQQYJOW5RA</td>\n",
       "      <td>B000TGSM6E</td>\n",
       "      <td>5.0</td>\n",
       "      <td>1480348230000</td>\n",
       "    </tr>\n",
       "    <tr>\n",
       "      <th>2</th>\n",
       "      <td>AE23JYHGEN3D35CHE5OQQYJOW5RA</td>\n",
       "      <td>B003WZ6VVM</td>\n",
       "      <td>3.0</td>\n",
       "      <td>1425049184000</td>\n",
       "    </tr>\n",
       "    <tr>\n",
       "      <th>3</th>\n",
       "      <td>AE23JYHGEN3D35CHE5OQQYJOW5RA</td>\n",
       "      <td>B008FDSWJ0</td>\n",
       "      <td>5.0</td>\n",
       "      <td>1528832546194</td>\n",
       "    </tr>\n",
       "    <tr>\n",
       "      <th>4</th>\n",
       "      <td>AE23JYHGEN3D35CHE5OQQYJOW5RA</td>\n",
       "      <td>B00EF8VGWE</td>\n",
       "      <td>5.0</td>\n",
       "      <td>1516308993648</td>\n",
       "    </tr>\n",
       "  </tbody>\n",
       "</table>\n",
       "</div>"
      ],
      "text/plain": [
       "                           user          id  rating      timestamp\n",
       "0  AE23JYHGEN3D35CHE5OQQYJOW5RA  B000EEHKVY     5.0  1427926325000\n",
       "1  AE23JYHGEN3D35CHE5OQQYJOW5RA  B000TGSM6E     5.0  1480348230000\n",
       "2  AE23JYHGEN3D35CHE5OQQYJOW5RA  B003WZ6VVM     3.0  1425049184000\n",
       "3  AE23JYHGEN3D35CHE5OQQYJOW5RA  B008FDSWJ0     5.0  1528832546194\n",
       "4  AE23JYHGEN3D35CHE5OQQYJOW5RA  B00EF8VGWE     5.0  1516308993648"
      ]
     },
     "execution_count": 8,
     "metadata": {},
     "output_type": "execute_result"
    }
   ],
   "source": [
    "df_recommendation = pd.read_csv('/users/eleves-a/2024/amine.razig/Advanced-ML-project/base de donnée_20_10.csv')\n",
    "df_recommendation.head()"
   ]
  },
  {
   "cell_type": "markdown",
   "metadata": {},
   "source": [
    "Let's first encode the 'user' and 'item' columns. "
   ]
  },
  {
   "cell_type": "code",
   "execution_count": 9,
   "metadata": {},
   "outputs": [],
   "source": [
    "# Initialize encoder\n",
    "encoder = LabelEncoder()\n",
    "\n",
    "df_recommendation['user'] = encoder.fit_transform(df_recommendation['user'])\n",
    "\n",
    "# Reinitialize it\n",
    "encoder = LabelEncoder()\n",
    "\n",
    "df_recommendation['id'] = encoder.fit_transform(df_recommendation['id'])"
   ]
  },
  {
   "cell_type": "code",
   "execution_count": 10,
   "metadata": {},
   "outputs": [
    {
     "data": {
      "text/html": [
       "<div>\n",
       "<style scoped>\n",
       "    .dataframe tbody tr th:only-of-type {\n",
       "        vertical-align: middle;\n",
       "    }\n",
       "\n",
       "    .dataframe tbody tr th {\n",
       "        vertical-align: top;\n",
       "    }\n",
       "\n",
       "    .dataframe thead th {\n",
       "        text-align: right;\n",
       "    }\n",
       "</style>\n",
       "<table border=\"1\" class=\"dataframe\">\n",
       "  <thead>\n",
       "    <tr style=\"text-align: right;\">\n",
       "      <th></th>\n",
       "      <th>user</th>\n",
       "      <th>id</th>\n",
       "      <th>rating</th>\n",
       "      <th>timestamp</th>\n",
       "    </tr>\n",
       "  </thead>\n",
       "  <tbody>\n",
       "    <tr>\n",
       "      <th>0</th>\n",
       "      <td>0</td>\n",
       "      <td>3136</td>\n",
       "      <td>5.0</td>\n",
       "      <td>1427926325000</td>\n",
       "    </tr>\n",
       "    <tr>\n",
       "      <th>1</th>\n",
       "      <td>0</td>\n",
       "      <td>4374</td>\n",
       "      <td>5.0</td>\n",
       "      <td>1480348230000</td>\n",
       "    </tr>\n",
       "    <tr>\n",
       "      <th>2</th>\n",
       "      <td>0</td>\n",
       "      <td>9543</td>\n",
       "      <td>3.0</td>\n",
       "      <td>1425049184000</td>\n",
       "    </tr>\n",
       "    <tr>\n",
       "      <th>3</th>\n",
       "      <td>0</td>\n",
       "      <td>14360</td>\n",
       "      <td>5.0</td>\n",
       "      <td>1528832546194</td>\n",
       "    </tr>\n",
       "    <tr>\n",
       "      <th>4</th>\n",
       "      <td>0</td>\n",
       "      <td>17526</td>\n",
       "      <td>5.0</td>\n",
       "      <td>1516308993648</td>\n",
       "    </tr>\n",
       "  </tbody>\n",
       "</table>\n",
       "</div>"
      ],
      "text/plain": [
       "   user     id  rating      timestamp\n",
       "0     0   3136     5.0  1427926325000\n",
       "1     0   4374     5.0  1480348230000\n",
       "2     0   9543     3.0  1425049184000\n",
       "3     0  14360     5.0  1528832546194\n",
       "4     0  17526     5.0  1516308993648"
      ]
     },
     "execution_count": 10,
     "metadata": {},
     "output_type": "execute_result"
    }
   ],
   "source": [
    "df_recommendation.head()"
   ]
  },
  {
   "cell_type": "markdown",
   "metadata": {},
   "source": [
    "## Train / Test Split\n",
    "\n",
    "We begin by doing a train-test split to perform leave-one-out evaluation on the recommendations. Moreover, we will create a file containing negative samples.\n",
    "\n",
    "Train / Test Split\n",
    "The test set must contain the last relevant item for each user. We define a relevant item for a specific user, an item that has been rated by 4 or more by that user."
   ]
  },
  {
   "cell_type": "code",
   "execution_count": 6,
   "metadata": {},
   "outputs": [
    {
     "data": {
      "text/plain": [
       "((37580, 4), (5046, 4))"
      ]
     },
     "execution_count": 6,
     "metadata": {},
     "output_type": "execute_result"
    }
   ],
   "source": [
    "# Sort dataframe by user and timestamp\n",
    "df_recommendation = df_recommendation.sort_values(by=['user', 'timestamp'])\n",
    "\n",
    "# Filter for items with a rating greater than 4\n",
    "df_filtered = df_recommendation[df_recommendation['rating'] >= 4]\n",
    "\n",
    "# Test set: the last item with a rating greater than 4 for each user\n",
    "df_test = df_filtered.groupby('user').tail(1)\n",
    "\n",
    "#Train set\n",
    "df_train = df_recommendation.drop(df_test.index)\n",
    " \n",
    "df_train.shape, df_test.shape"
   ]
  },
  {
   "cell_type": "markdown",
   "metadata": {},
   "source": [
    "Let's create a dataset with 5 negative samples for each user that we concatenate with the test set."
   ]
  },
  {
   "cell_type": "code",
   "execution_count": 7,
   "metadata": {},
   "outputs": [
    {
     "data": {
      "text/plain": [
       "(5046, 103)"
      ]
     },
     "execution_count": 7,
     "metadata": {},
     "output_type": "execute_result"
    }
   ],
   "source": [
    "# List of all users and items\n",
    "all_users = df_recommendation['user'].unique()\n",
    "all_items = df_recommendation['id'].unique()\n",
    "\n",
    "# All existing interactions set\n",
    "interactions = set(zip(df_recommendation['user'], df_recommendation['id']))\n",
    "\n",
    "# Negative items list\n",
    "negative_samples = []\n",
    "num_negatives = 99\n",
    "\n",
    "for user in df_test['user'].unique():\n",
    "    # All negative samples for each user\n",
    "    negative_items = [item for item in all_items if (user, item) not in interactions]\n",
    "\n",
    "    # Sample from negative samples for each user\n",
    "    sampled_negatives = np.random.choice(negative_items, size=num_negatives, replace=False)\n",
    "\n",
    "    # # Add the sampled items to their list\n",
    "    # negative_samples.append({'user': user, \n",
    "    #                          'negative_1': sampled_negatives[0], \n",
    "    #                          'negative_2': sampled_negatives[1], \n",
    "    #                          'negative_3': sampled_negatives[2], \n",
    "    #                          'negative_4': sampled_negatives[3], \n",
    "    #                          'negative_5': sampled_negatives[4]})\n",
    "\n",
    "    ## POUR GENERER UN DICTIONNAIRE DE LA BONNE TAILLE AUTOMATIQUE \n",
    "\n",
    "    negative_sample = {'user': user}\n",
    "    for i in range(num_negatives):\n",
    "        negative_sample[f'negative_{i + 1}'] = sampled_negatives[i]\n",
    "\n",
    "    # adding the negative sample to the list \n",
    "    negative_samples.append(negative_sample)\n",
    "\n",
    "negative_samples_df = pd.DataFrame(negative_samples)\n",
    "\n",
    "df_test_negative = pd.merge(df_test, negative_samples_df, on='user', how='left')\n",
    "\n",
    "df_test_negative.shape"
   ]
  },
  {
   "cell_type": "code",
   "execution_count": 8,
   "metadata": {},
   "outputs": [
    {
     "data": {
      "text/html": [
       "<div>\n",
       "<style scoped>\n",
       "    .dataframe tbody tr th:only-of-type {\n",
       "        vertical-align: middle;\n",
       "    }\n",
       "\n",
       "    .dataframe tbody tr th {\n",
       "        vertical-align: top;\n",
       "    }\n",
       "\n",
       "    .dataframe thead th {\n",
       "        text-align: right;\n",
       "    }\n",
       "</style>\n",
       "<table border=\"1\" class=\"dataframe\">\n",
       "  <thead>\n",
       "    <tr style=\"text-align: right;\">\n",
       "      <th></th>\n",
       "      <th>user</th>\n",
       "      <th>id</th>\n",
       "      <th>rating</th>\n",
       "      <th>timestamp</th>\n",
       "      <th>negative_1</th>\n",
       "      <th>negative_2</th>\n",
       "      <th>negative_3</th>\n",
       "      <th>negative_4</th>\n",
       "      <th>negative_5</th>\n",
       "      <th>negative_6</th>\n",
       "      <th>...</th>\n",
       "      <th>negative_90</th>\n",
       "      <th>negative_91</th>\n",
       "      <th>negative_92</th>\n",
       "      <th>negative_93</th>\n",
       "      <th>negative_94</th>\n",
       "      <th>negative_95</th>\n",
       "      <th>negative_96</th>\n",
       "      <th>negative_97</th>\n",
       "      <th>negative_98</th>\n",
       "      <th>negative_99</th>\n",
       "    </tr>\n",
       "  </thead>\n",
       "  <tbody>\n",
       "    <tr>\n",
       "      <th>0</th>\n",
       "      <td>0</td>\n",
       "      <td>770</td>\n",
       "      <td>5.0</td>\n",
       "      <td>1642464772969</td>\n",
       "      <td>635</td>\n",
       "      <td>201</td>\n",
       "      <td>355</td>\n",
       "      <td>836</td>\n",
       "      <td>762</td>\n",
       "      <td>915</td>\n",
       "      <td>...</td>\n",
       "      <td>221</td>\n",
       "      <td>369</td>\n",
       "      <td>571</td>\n",
       "      <td>267</td>\n",
       "      <td>366</td>\n",
       "      <td>462</td>\n",
       "      <td>229</td>\n",
       "      <td>817</td>\n",
       "      <td>734</td>\n",
       "      <td>936</td>\n",
       "    </tr>\n",
       "    <tr>\n",
       "      <th>1</th>\n",
       "      <td>1</td>\n",
       "      <td>658</td>\n",
       "      <td>5.0</td>\n",
       "      <td>1664305424891</td>\n",
       "      <td>612</td>\n",
       "      <td>113</td>\n",
       "      <td>135</td>\n",
       "      <td>372</td>\n",
       "      <td>597</td>\n",
       "      <td>263</td>\n",
       "      <td>...</td>\n",
       "      <td>74</td>\n",
       "      <td>22</td>\n",
       "      <td>998</td>\n",
       "      <td>378</td>\n",
       "      <td>167</td>\n",
       "      <td>448</td>\n",
       "      <td>949</td>\n",
       "      <td>46</td>\n",
       "      <td>621</td>\n",
       "      <td>618</td>\n",
       "    </tr>\n",
       "    <tr>\n",
       "      <th>2</th>\n",
       "      <td>2</td>\n",
       "      <td>506</td>\n",
       "      <td>5.0</td>\n",
       "      <td>1631833014190</td>\n",
       "      <td>46</td>\n",
       "      <td>262</td>\n",
       "      <td>628</td>\n",
       "      <td>288</td>\n",
       "      <td>423</td>\n",
       "      <td>386</td>\n",
       "      <td>...</td>\n",
       "      <td>605</td>\n",
       "      <td>496</td>\n",
       "      <td>231</td>\n",
       "      <td>446</td>\n",
       "      <td>993</td>\n",
       "      <td>655</td>\n",
       "      <td>7</td>\n",
       "      <td>170</td>\n",
       "      <td>467</td>\n",
       "      <td>908</td>\n",
       "    </tr>\n",
       "    <tr>\n",
       "      <th>3</th>\n",
       "      <td>3</td>\n",
       "      <td>378</td>\n",
       "      <td>4.0</td>\n",
       "      <td>1549635394981</td>\n",
       "      <td>198</td>\n",
       "      <td>608</td>\n",
       "      <td>91</td>\n",
       "      <td>905</td>\n",
       "      <td>824</td>\n",
       "      <td>597</td>\n",
       "      <td>...</td>\n",
       "      <td>749</td>\n",
       "      <td>209</td>\n",
       "      <td>551</td>\n",
       "      <td>443</td>\n",
       "      <td>468</td>\n",
       "      <td>377</td>\n",
       "      <td>449</td>\n",
       "      <td>879</td>\n",
       "      <td>913</td>\n",
       "      <td>46</td>\n",
       "    </tr>\n",
       "    <tr>\n",
       "      <th>4</th>\n",
       "      <td>4</td>\n",
       "      <td>147</td>\n",
       "      <td>5.0</td>\n",
       "      <td>1647063756658</td>\n",
       "      <td>566</td>\n",
       "      <td>629</td>\n",
       "      <td>219</td>\n",
       "      <td>383</td>\n",
       "      <td>88</td>\n",
       "      <td>625</td>\n",
       "      <td>...</td>\n",
       "      <td>909</td>\n",
       "      <td>485</td>\n",
       "      <td>602</td>\n",
       "      <td>382</td>\n",
       "      <td>969</td>\n",
       "      <td>814</td>\n",
       "      <td>458</td>\n",
       "      <td>755</td>\n",
       "      <td>771</td>\n",
       "      <td>718</td>\n",
       "    </tr>\n",
       "  </tbody>\n",
       "</table>\n",
       "<p>5 rows × 103 columns</p>\n",
       "</div>"
      ],
      "text/plain": [
       "   user   id  rating      timestamp  negative_1  negative_2  negative_3  \\\n",
       "0     0  770     5.0  1642464772969         635         201         355   \n",
       "1     1  658     5.0  1664305424891         612         113         135   \n",
       "2     2  506     5.0  1631833014190          46         262         628   \n",
       "3     3  378     4.0  1549635394981         198         608          91   \n",
       "4     4  147     5.0  1647063756658         566         629         219   \n",
       "\n",
       "   negative_4  negative_5  negative_6  ...  negative_90  negative_91  \\\n",
       "0         836         762         915  ...          221          369   \n",
       "1         372         597         263  ...           74           22   \n",
       "2         288         423         386  ...          605          496   \n",
       "3         905         824         597  ...          749          209   \n",
       "4         383          88         625  ...          909          485   \n",
       "\n",
       "   negative_92  negative_93  negative_94  negative_95  negative_96  \\\n",
       "0          571          267          366          462          229   \n",
       "1          998          378          167          448          949   \n",
       "2          231          446          993          655            7   \n",
       "3          551          443          468          377          449   \n",
       "4          602          382          969          814          458   \n",
       "\n",
       "   negative_97  negative_98  negative_99  \n",
       "0          817          734          936  \n",
       "1           46          621          618  \n",
       "2          170          467          908  \n",
       "3          879          913           46  \n",
       "4          755          771          718  \n",
       "\n",
       "[5 rows x 103 columns]"
      ]
     },
     "execution_count": 8,
     "metadata": {},
     "output_type": "execute_result"
    }
   ],
   "source": [
    "df_test_negative.head()"
   ]
  },
  {
   "cell_type": "code",
   "execution_count": 9,
   "metadata": {},
   "outputs": [],
   "source": [
    "# Pandas Datframes to CSV\n",
    "df_train.to_csv('data/train.csv', index=False)\n",
    "df_test.to_csv('data/test.csv', index=False)\n",
    "df_test_negative.to_csv('data/test_negative.csv', index=False)"
   ]
  }
 ],
 "metadata": {
  "interpreter": {
   "hash": "e7370f93d1d0cde622a1f8e1c04877d8463912d04d973331ad4851f04de6915a"
  },
  "kernelspec": {
   "display_name": "Python 3.9.21 64-bit",
   "language": "python",
   "name": "python3"
  },
  "language_info": {
   "codemirror_mode": {
    "name": "ipython",
    "version": 3
   },
   "file_extension": ".py",
   "mimetype": "text/x-python",
   "name": "python",
   "nbconvert_exporter": "python",
   "pygments_lexer": "ipython3",
   "version": "3.9.21"
  }
 },
 "nbformat": 4,
 "nbformat_minor": 2
}
