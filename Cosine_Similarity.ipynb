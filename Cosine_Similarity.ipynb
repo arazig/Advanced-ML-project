{
 "cells": [
  {
   "cell_type": "markdown",
   "metadata": {},
   "source": [
    "# Advanced ML, Recomendation project : "
   ]
  },
  {
   "cell_type": "markdown",
   "metadata": {},
   "source": [
    "### Description of the General topic:  \n",
    " \n",
    "A recommendation system is a class of machine learning tools designed to suggest \n",
    "relevant items to users based on their preferences, behaviors, and other users’ \n",
    "activities. They are widely used across e-commerce, streaming platforms, social \n",
    "media, and online advertising, aiming to enhance user experience by delivering \n",
    "personalized content or product suggestions."
   ]
  },
  {
   "cell_type": "markdown",
   "metadata": {},
   "source": [
    "### Flow of the Code Project (All in Python)  :  \n",
    " \n",
    "**Data Preprocessing:** \n",
    "- Preprocess textual data using tokenization, stemming, and vectorization \n",
    "techniques like TF-IDF or word embeddings. \n",
    " \n",
    "**Building Collaborative Filtering Models:** \n",
    "- Implement SVD for matrix factorization. \n",
    "- Build user-based and item-based collaborative filtering models using \n",
    "libraries like Scikit-Learn. \n",
    " \n",
    "**Building Content-Based Filtering Models:**\n",
    "- Create item profiles using metadata. \n",
    "- Use cosine similarity or neural embeddings to identify similar items. \n",
    " \n",
    "**Combine with Hybrid Techniques:** \n",
    "- Experiment with hybrid models (weighted hybrid, feature-augmented \n",
    "collaborative filtering, etc.) to combine collaborative and content-based \n",
    "methods. \n",
    "- Train deep hybrid models if using neural networks, concatenating \n",
    "collaborative and content-based embeddings as input. \n",
    "\n",
    "**Visualization:**  \n",
    "- Récapitulatifs des des résultats et visualisation par des graphiques dans \n",
    "la mesure du possible "
   ]
  },
  {
   "cell_type": "code",
   "execution_count": 2,
   "metadata": {},
   "outputs": [],
   "source": [
    "import numpy as np\n",
    "import pandas as pd\n",
    "import json"
   ]
  },
  {
   "cell_type": "markdown",
   "metadata": {},
   "source": [
    "________________________________\n",
    "### **Import of users data :**"
   ]
  },
  {
   "cell_type": "code",
   "execution_count": 6,
   "metadata": {},
   "outputs": [],
   "source": [
    "# Import of users data : \n",
    "\n",
    "file = \"/Users/aminerazig/Desktop/ENSAE 3A/ADVANCED ML/Advanced ML-project/DATA/Musical_Instruments.jsonl\"\n",
    "\n",
    "with open(file, 'r') as file:\n",
    "    data = [json.loads(line) for line in file]\n",
    "\n"
   ]
  },
  {
   "cell_type": "code",
   "execution_count": 7,
   "metadata": {},
   "outputs": [],
   "source": [
    "df_images = pd.DataFrame(\n",
    "    [{\"id\": item[\"parent_asin\"], \"images\": item[\"images\"]} for item in data]\n",
    ")"
   ]
  },
  {
   "cell_type": "code",
   "execution_count": 12,
   "metadata": {},
   "outputs": [],
   "source": [
    "\n",
    "df_recommendation = pd.DataFrame(\n",
    "    [{\"id\": item[\"parent_asin\"], \"user\": item[\"user_id\"], \"rating\": item[\"rating\"]} for item in data]\n",
    ")"
   ]
  },
  {
   "cell_type": "code",
   "execution_count": 13,
   "metadata": {},
   "outputs": [
    {
     "name": "stdout",
     "output_type": "stream",
     "text": [
      "(77125, 3)\n"
     ]
    }
   ],
   "source": [
    "# First we check if there is any duplicates in the dataset (ie a user that gives a rating twice for a product)\n",
    "print(f\"{df_recommendation[df_recommendation.duplicated(subset=['user', 'id'], keep=False)].shape}\")\n",
    "\n",
    "# Then we remove those duplicates (by doing the mean of the ratings) : \n",
    "df_recommendation = df_recommendation.groupby(['user', 'id'], as_index=False)['rating'].mean()\n",
    "df_recommendation['rating'] = np.ceil(df_recommendation['rating'])"
   ]
  },
  {
   "cell_type": "code",
   "execution_count": 101,
   "metadata": {},
   "outputs": [
    {
     "data": {
      "text/plain": [
       "(42626, 3)"
      ]
     },
     "execution_count": 101,
     "metadata": {},
     "output_type": "execute_result"
    }
   ],
   "source": [
    "df_recommendation.shape"
   ]
  },
  {
   "cell_type": "markdown",
   "metadata": {},
   "source": [
    "#### **Filter users that have rated less than 20 products**"
   ]
  },
  {
   "cell_type": "code",
   "execution_count": 15,
   "metadata": {},
   "outputs": [],
   "source": [
    "rating_counts = df_recommendation.groupby('user').size().reset_index(name='count')\n",
    "\n",
    "# Filtrer les 'user' qui ont au moins 20 ratings\n",
    "valid_users = rating_counts[rating_counts['count'] >= 20]['user']\n",
    "\n",
    "# Garder uniquement les lignes correspondantes dans le DataFrame original\n",
    "df_recommendation = df_recommendation[df_recommendation['user'].isin(valid_users)]"
   ]
  },
  {
   "cell_type": "code",
   "execution_count": 16,
   "metadata": {},
   "outputs": [
    {
     "data": {
      "text/plain": [
       "(170027, 3)"
      ]
     },
     "execution_count": 16,
     "metadata": {},
     "output_type": "execute_result"
    }
   ],
   "source": [
    "df_recommendation.shape"
   ]
  },
  {
   "cell_type": "markdown",
   "metadata": {},
   "source": [
    "#### **Products with less than 20 ratings**"
   ]
  },
  {
   "cell_type": "code",
   "execution_count": 17,
   "metadata": {},
   "outputs": [],
   "source": [
    "rating_counts = df_recommendation.groupby('id').size().reset_index(name='count')\n",
    "\n",
    "# Filtrer les 'id' qui ont au moins 20 ratings\n",
    "valid_ids = rating_counts[rating_counts['count'] >= 20]['id']\n",
    "\n",
    "# Garder uniquement les lignes correspondantes dans le DataFrame original\n",
    "df_recommendation = df_recommendation[df_recommendation['id'].isin(valid_ids)]"
   ]
  },
  {
   "cell_type": "code",
   "execution_count": 18,
   "metadata": {},
   "outputs": [
    {
     "data": {
      "text/plain": [
       "(42626, 3)"
      ]
     },
     "execution_count": 18,
     "metadata": {},
     "output_type": "execute_result"
    }
   ],
   "source": [
    "df_recommendation.shape"
   ]
  },
  {
   "cell_type": "code",
   "execution_count": 19,
   "metadata": {},
   "outputs": [
    {
     "name": "stdout",
     "output_type": "stream",
     "text": [
      " Number of distincts products : 1003\n",
      " Number of distincts users : 5107\n"
     ]
    }
   ],
   "source": [
    "print (f\" Number of distincts products : {df_recommendation ['id'].nunique()}\")\n",
    "print (f\" Number of distincts users : {df_recommendation['user'].nunique()}\")"
   ]
  },
  {
   "cell_type": "code",
   "execution_count": 20,
   "metadata": {},
   "outputs": [
    {
     "data": {
      "text/plain": [
       "user      0\n",
       "id        0\n",
       "rating    0\n",
       "dtype: int64"
      ]
     },
     "execution_count": 20,
     "metadata": {},
     "output_type": "execute_result"
    }
   ],
   "source": [
    "df_recommendation.isna().sum() # 0 missing value"
   ]
  },
  {
   "cell_type": "code",
   "execution_count": 21,
   "metadata": {},
   "outputs": [
    {
     "name": "stdout",
     "output_type": "stream",
     "text": [
      "The proportion of products rated by different users : \n",
      "\n"
     ]
    },
    {
     "data": {
      "text/html": [
       "<div>\n",
       "<style scoped>\n",
       "    .dataframe tbody tr th:only-of-type {\n",
       "        vertical-align: middle;\n",
       "    }\n",
       "\n",
       "    .dataframe tbody tr th {\n",
       "        vertical-align: top;\n",
       "    }\n",
       "\n",
       "    .dataframe thead th {\n",
       "        text-align: right;\n",
       "    }\n",
       "</style>\n",
       "<table border=\"1\" class=\"dataframe\">\n",
       "  <thead>\n",
       "    <tr style=\"text-align: right;\">\n",
       "      <th></th>\n",
       "      <th>user</th>\n",
       "    </tr>\n",
       "  </thead>\n",
       "  <tbody>\n",
       "    <tr>\n",
       "      <th>count</th>\n",
       "      <td>1003.000000</td>\n",
       "    </tr>\n",
       "    <tr>\n",
       "      <th>mean</th>\n",
       "      <td>42.498504</td>\n",
       "    </tr>\n",
       "    <tr>\n",
       "      <th>std</th>\n",
       "      <td>39.940309</td>\n",
       "    </tr>\n",
       "    <tr>\n",
       "      <th>min</th>\n",
       "      <td>20.000000</td>\n",
       "    </tr>\n",
       "    <tr>\n",
       "      <th>25%</th>\n",
       "      <td>24.000000</td>\n",
       "    </tr>\n",
       "    <tr>\n",
       "      <th>50%</th>\n",
       "      <td>31.000000</td>\n",
       "    </tr>\n",
       "    <tr>\n",
       "      <th>75%</th>\n",
       "      <td>44.000000</td>\n",
       "    </tr>\n",
       "    <tr>\n",
       "      <th>max</th>\n",
       "      <td>473.000000</td>\n",
       "    </tr>\n",
       "  </tbody>\n",
       "</table>\n",
       "</div>"
      ],
      "text/plain": [
       "              user\n",
       "count  1003.000000\n",
       "mean     42.498504\n",
       "std      39.940309\n",
       "min      20.000000\n",
       "25%      24.000000\n",
       "50%      31.000000\n",
       "75%      44.000000\n",
       "max     473.000000"
      ]
     },
     "execution_count": 21,
     "metadata": {},
     "output_type": "execute_result"
    }
   ],
   "source": [
    "ratings_per_product = df_recommendation.groupby('id')['user'].nunique()\n",
    "print(f\"The proportion of products rated by different users : \\n\")\n",
    "pd.DataFrame(ratings_per_product.describe())"
   ]
  },
  {
   "cell_type": "code",
   "execution_count": 22,
   "metadata": {},
   "outputs": [],
   "source": [
    "df_recommendation.to_csv('base de donnée_20_20.csv')"
   ]
  },
  {
   "cell_type": "markdown",
   "metadata": {},
   "source": [
    "**(End preprocessing, csv database)**\n",
    "___________________________"
   ]
  },
  {
   "cell_type": "code",
   "execution_count": 8,
   "metadata": {},
   "outputs": [
    {
     "data": {
      "text/html": [
       "<div>\n",
       "<style scoped>\n",
       "    .dataframe tbody tr th:only-of-type {\n",
       "        vertical-align: middle;\n",
       "    }\n",
       "\n",
       "    .dataframe tbody tr th {\n",
       "        vertical-align: top;\n",
       "    }\n",
       "\n",
       "    .dataframe thead th {\n",
       "        text-align: right;\n",
       "    }\n",
       "</style>\n",
       "<table border=\"1\" class=\"dataframe\">\n",
       "  <thead>\n",
       "    <tr style=\"text-align: right;\">\n",
       "      <th></th>\n",
       "      <th>user</th>\n",
       "      <th>id</th>\n",
       "      <th>rating</th>\n",
       "    </tr>\n",
       "  </thead>\n",
       "  <tbody>\n",
       "    <tr>\n",
       "      <th>0</th>\n",
       "      <td>AE23JYHGEN3D35CHE5OQQYJOW5RA</td>\n",
       "      <td>B000EEHKVY</td>\n",
       "      <td>5.0</td>\n",
       "    </tr>\n",
       "    <tr>\n",
       "      <th>1</th>\n",
       "      <td>AE23JYHGEN3D35CHE5OQQYJOW5RA</td>\n",
       "      <td>B000TGSM6E</td>\n",
       "      <td>5.0</td>\n",
       "    </tr>\n",
       "    <tr>\n",
       "      <th>2</th>\n",
       "      <td>AE23JYHGEN3D35CHE5OQQYJOW5RA</td>\n",
       "      <td>B008FDSWJ0</td>\n",
       "      <td>5.0</td>\n",
       "    </tr>\n",
       "    <tr>\n",
       "      <th>3</th>\n",
       "      <td>AE23JYHGEN3D35CHE5OQQYJOW5RA</td>\n",
       "      <td>B012VQ5A7S</td>\n",
       "      <td>5.0</td>\n",
       "    </tr>\n",
       "    <tr>\n",
       "      <th>4</th>\n",
       "      <td>AE23JYHGEN3D35CHE5OQQYJOW5RA</td>\n",
       "      <td>B076ZSHQ47</td>\n",
       "      <td>3.0</td>\n",
       "    </tr>\n",
       "  </tbody>\n",
       "</table>\n",
       "</div>"
      ],
      "text/plain": [
       "                           user          id  rating\n",
       "0  AE23JYHGEN3D35CHE5OQQYJOW5RA  B000EEHKVY     5.0\n",
       "1  AE23JYHGEN3D35CHE5OQQYJOW5RA  B000TGSM6E     5.0\n",
       "2  AE23JYHGEN3D35CHE5OQQYJOW5RA  B008FDSWJ0     5.0\n",
       "3  AE23JYHGEN3D35CHE5OQQYJOW5RA  B012VQ5A7S     5.0\n",
       "4  AE23JYHGEN3D35CHE5OQQYJOW5RA  B076ZSHQ47     3.0"
      ]
     },
     "execution_count": 8,
     "metadata": {},
     "output_type": "execute_result"
    }
   ],
   "source": [
    "df_recommendation = pd.read_csv(\"base de donnée_20_20.csv\")\n",
    "df_recommendation.head(5)"
   ]
  },
  {
   "cell_type": "markdown",
   "metadata": {},
   "source": [
    "#### Import of products metadata : ( not used know)\n"
   ]
  },
  {
   "cell_type": "code",
   "execution_count": null,
   "metadata": {},
   "outputs": [],
   "source": [
    "# import of products metadata : \n",
    "\n",
    "products_1000_metadata = []\n",
    "file_metadata = \"Musical_Instruments.jsonl\"\n",
    "\n",
    "with open(file_metadata, 'r') as file:\n",
    "    for i, line in enumerate(file):\n",
    "        if i >= 1000:  \n",
    "            break\n",
    "        products_1000_metadata.append(json.loads(line))"
   ]
  },
  {
   "cell_type": "code",
   "execution_count": null,
   "metadata": {},
   "outputs": [],
   "source": [
    "# ### AFFICHAGE DE QUELQUES IMAGES  : \n",
    "# import json\n",
    "# import random\n",
    "# import requests\n",
    "# from PIL import Image\n",
    "# from io import BytesIO\n",
    "\n",
    "\n",
    "\n",
    "# def get_random_products_with_images(products, num_products=90):\n",
    "#     products_with_images = [p for p in products if p.get('images') and len(p['images']) > 0]\n",
    "#     return random.sample(products_with_images, min(num_products, len(products_with_images)))\n",
    "\n",
    "\n",
    "# def fetch_and_resize_image(url, size=(30, 30)):\n",
    "#     try:\n",
    "#         response = requests.get(url)\n",
    "#         response.raise_for_status()\n",
    "#         img = Image.open(BytesIO(response.content))\n",
    "#         return img.resize(size)\n",
    "#     except Exception as e:\n",
    "#         print(f\"Erreur lors du téléchargement de l'image : {e}\")\n",
    "#         return None\n",
    "\n",
    "# # mosaïque\n",
    "# def create_mosaic(images, grid_size=(10, 9), image_size=(30, 30)):\n",
    "#     mosaic = Image.new('RGB', (grid_size[0] * image_size[0], grid_size[1] * image_size[1]))\n",
    "#     for idx, img in enumerate(images):\n",
    "#         if img:\n",
    "#             x = (idx % grid_size[0]) * image_size[0]\n",
    "#             y = (idx // grid_size[0]) * image_size[1]\n",
    "#             mosaic.paste(img, (x, y))\n",
    "#     mosaic.show()\n",
    "#     return mosaic\n",
    "\n",
    "\n",
    "# selected_products = get_random_products_with_images(products_1000_metadata)\n",
    "# image_urls = [p['images'][0]['large'] for p in selected_products]\n",
    "\n",
    "# images = [fetch_and_resize_image(url) for url in image_urls]\n",
    "# mosaic = create_mosaic(images)"
   ]
  },
  {
   "cell_type": "markdown",
   "metadata": {},
   "source": [
    "# Data Fields\n",
    "\n",
    "## For User Reviews\n",
    "\n",
    "| Field              | Type   | Explanation                                                                                                                                                     |\n",
    "|--------------------|--------|-----------------------------------------------------------------------------------------------------------------------------------------------------------------|\n",
    "| `rating`           | float  | Rating of the product (from 1.0 to 5.0).                                                                                                                        |\n",
    "| `title`            | str    | Title of the user review.                                                                                                                                       |\n",
    "| `text`             | str    | Text body of the user review.                                                                                                                                   |\n",
    "| `images`           | list   | Images that users post after they have received the product. Each image has different sizes (small, medium, large), represented by `small_image_url`, `medium_image_url`, and `large_image_url`. |\n",
    "| `asin`             | str    | ID of the product.                                                                                                                                              |\n",
    "| `parent_asin`      | str    | Parent ID of the product. Note: Products with different colors, styles, sizes usually belong to the same parent ID. The “asin” in previous Amazon datasets is actually the parent ID. Please use parent ID to find product meta. |\n",
    "| `user_id`          | str    | ID of the reviewer.                                                                                                                                             |\n",
    "| `timestamp`        | int    | Time of the review (unix time).                                                                                                                                 |\n",
    "| `verified_purchase`| bool   | User purchase verification.                                                                                                                                     |\n",
    "| `helpful_vote`     | int    | Helpful votes of the review.                                                                                                                                    |\n"
   ]
  },
  {
   "cell_type": "code",
   "execution_count": 20,
   "metadata": {},
   "outputs": [
    {
     "data": {
      "text/html": [
       "<img src=\"https://images-na.ssl-images-amazon.com/images/I/71DFEoJ+Z9L._SL256_.jpg\"/>"
      ],
      "text/plain": [
       "<IPython.core.display.Image object>"
      ]
     },
     "metadata": {},
     "output_type": "display_data"
    }
   ],
   "source": [
    "import EDA_functions\n",
    "image_url = \"https://images-na.ssl-images-amazon.com/images/I/71DFEoJ+Z9L._SL256_.jpg\"\n",
    "EDA_functions.show_image(image_url)"
   ]
  },
  {
   "cell_type": "markdown",
   "metadata": {},
   "source": [
    "# I- Collaborative Filtering\n",
    "\n",
    "Collaborative filtering recommends products to users based on the behavior of other users with similar preferences. CF methods work on the principle that users who agreed on items in the past are likely to agree again. \n",
    "It is an alternative to content filtering that relies only on past user behavior—for example, previous transactions or product ratings— without requiring the creation of explicit profiles.Collaborative filtering analyzes relationships between users and interdependencies among products to identify new user-item associations.\n",
    "\n",
    "There are two main types:\n",
    "\n",
    "### a) User-Based Collaborative Filtering\n",
    "This approach identifies users who have similar preferences (based on ratings or clicks) and recommends items that similar users liked.\n",
    "\n",
    "### Implementation\n",
    "We can try to implement this method using matrix factorization techniques like **Singular Value Decomposition (SVD)**, which reduces the dimensionality of the data matrix, capturing latent factors that explain user-item interactions.\n"
   ]
  },
  {
   "cell_type": "code",
   "execution_count": 26,
   "metadata": {},
   "outputs": [
    {
     "name": "stdout",
     "output_type": "stream",
     "text": [
      "The number of unique products is : 1003\n",
      "The number of unique users is : 5107\n"
     ]
    }
   ],
   "source": [
    "print(f\"The number of unique products is : {df_recommendation.id.nunique()}\")\n",
    "print(f\"The number of unique users is : {df_recommendation.user.nunique()}\")"
   ]
  },
  {
   "cell_type": "code",
   "execution_count": null,
   "metadata": {},
   "outputs": [
    {
     "data": {
      "text/plain": [
       "id\n",
       "B09857JRP2    473\n",
       "B0BCK6L7S5    434\n",
       "B0BPJ4Q6FJ    421\n",
       "B0BSGM6CQ9    404\n",
       "B0BTC9YJ2W    299\n",
       "             ... \n",
       "B07FYL7LW1     20\n",
       "B016B6YFDO     20\n",
       "B002H3EZMC     20\n",
       "B00M9BSZMI     20\n",
       "B07H87XJ19     20\n",
       "Name: rating, Length: 1003, dtype: int64"
      ]
     },
     "execution_count": 19,
     "metadata": {},
     "output_type": "execute_result"
    }
   ],
   "source": [
    "df_recommendation.groupby('id')['rating'].count().sort_values(ascending = False)"
   ]
  },
  {
   "cell_type": "markdown",
   "metadata": {},
   "source": [
    "In the context of Collaborative Filtering, users can use cosine similarity to measure how similar their preferences are to other users preferences. Chances are you might like the same products in the selection."
   ]
  },
  {
   "cell_type": "markdown",
   "metadata": {},
   "source": []
  },
  {
   "cell_type": "code",
   "execution_count": 27,
   "metadata": {},
   "outputs": [],
   "source": [
    "df_recommendation_pivot = df_recommendation.pivot(index='user', columns='id', values='rating')"
   ]
  },
  {
   "cell_type": "code",
   "execution_count": 28,
   "metadata": {},
   "outputs": [],
   "source": [
    "df_recommendation_pivot = df_recommendation_pivot.fillna(0)"
   ]
  },
  {
   "cell_type": "code",
   "execution_count": 29,
   "metadata": {},
   "outputs": [
    {
     "data": {
      "text/html": [
       "<div>\n",
       "<style scoped>\n",
       "    .dataframe tbody tr th:only-of-type {\n",
       "        vertical-align: middle;\n",
       "    }\n",
       "\n",
       "    .dataframe tbody tr th {\n",
       "        vertical-align: top;\n",
       "    }\n",
       "\n",
       "    .dataframe thead th {\n",
       "        text-align: right;\n",
       "    }\n",
       "</style>\n",
       "<table border=\"1\" class=\"dataframe\">\n",
       "  <thead>\n",
       "    <tr style=\"text-align: right;\">\n",
       "      <th>id</th>\n",
       "      <th>1423414357</th>\n",
       "      <th>B00005ML71</th>\n",
       "      <th>B0002CZVWS</th>\n",
       "      <th>B0002D01K4</th>\n",
       "      <th>B0002D01KO</th>\n",
       "      <th>B0002D0CCQ</th>\n",
       "      <th>B0002D0CEO</th>\n",
       "      <th>B0002D0CNA</th>\n",
       "      <th>B0002D0L5E</th>\n",
       "      <th>B0002D0Q2W</th>\n",
       "      <th>...</th>\n",
       "      <th>B0C6J149WZ</th>\n",
       "      <th>B0C6J1BN77</th>\n",
       "      <th>B0C6J1X7TD</th>\n",
       "      <th>B0C6J2DPBW</th>\n",
       "      <th>B0C994NVQK</th>\n",
       "      <th>B0C9NGP88D</th>\n",
       "      <th>B0CB98SMQR</th>\n",
       "      <th>B0CBHMCGNS</th>\n",
       "      <th>B0CBK1WSMR</th>\n",
       "      <th>B0CCK4YYNM</th>\n",
       "    </tr>\n",
       "    <tr>\n",
       "      <th>user</th>\n",
       "      <th></th>\n",
       "      <th></th>\n",
       "      <th></th>\n",
       "      <th></th>\n",
       "      <th></th>\n",
       "      <th></th>\n",
       "      <th></th>\n",
       "      <th></th>\n",
       "      <th></th>\n",
       "      <th></th>\n",
       "      <th></th>\n",
       "      <th></th>\n",
       "      <th></th>\n",
       "      <th></th>\n",
       "      <th></th>\n",
       "      <th></th>\n",
       "      <th></th>\n",
       "      <th></th>\n",
       "      <th></th>\n",
       "      <th></th>\n",
       "      <th></th>\n",
       "    </tr>\n",
       "  </thead>\n",
       "  <tbody>\n",
       "    <tr>\n",
       "      <th>AE23JYHGEN3D35CHE5OQQYJOW5RA</th>\n",
       "      <td>0.0</td>\n",
       "      <td>0.0</td>\n",
       "      <td>0.0</td>\n",
       "      <td>0.0</td>\n",
       "      <td>0.0</td>\n",
       "      <td>0.0</td>\n",
       "      <td>0.0</td>\n",
       "      <td>0.0</td>\n",
       "      <td>0.0</td>\n",
       "      <td>0.0</td>\n",
       "      <td>...</td>\n",
       "      <td>0.0</td>\n",
       "      <td>0.0</td>\n",
       "      <td>0.0</td>\n",
       "      <td>0.0</td>\n",
       "      <td>0.0</td>\n",
       "      <td>0.0</td>\n",
       "      <td>0.0</td>\n",
       "      <td>0.0</td>\n",
       "      <td>0.0</td>\n",
       "      <td>0.0</td>\n",
       "    </tr>\n",
       "    <tr>\n",
       "      <th>AE23LDQTB7L76AP6E6WPBFVYL5DA</th>\n",
       "      <td>0.0</td>\n",
       "      <td>0.0</td>\n",
       "      <td>0.0</td>\n",
       "      <td>0.0</td>\n",
       "      <td>0.0</td>\n",
       "      <td>0.0</td>\n",
       "      <td>0.0</td>\n",
       "      <td>0.0</td>\n",
       "      <td>0.0</td>\n",
       "      <td>0.0</td>\n",
       "      <td>...</td>\n",
       "      <td>0.0</td>\n",
       "      <td>0.0</td>\n",
       "      <td>0.0</td>\n",
       "      <td>0.0</td>\n",
       "      <td>0.0</td>\n",
       "      <td>0.0</td>\n",
       "      <td>0.0</td>\n",
       "      <td>0.0</td>\n",
       "      <td>0.0</td>\n",
       "      <td>0.0</td>\n",
       "    </tr>\n",
       "    <tr>\n",
       "      <th>AE23WLBRYKEC67DM43M6E2MF7GPQ</th>\n",
       "      <td>5.0</td>\n",
       "      <td>0.0</td>\n",
       "      <td>0.0</td>\n",
       "      <td>0.0</td>\n",
       "      <td>0.0</td>\n",
       "      <td>0.0</td>\n",
       "      <td>0.0</td>\n",
       "      <td>0.0</td>\n",
       "      <td>0.0</td>\n",
       "      <td>0.0</td>\n",
       "      <td>...</td>\n",
       "      <td>0.0</td>\n",
       "      <td>0.0</td>\n",
       "      <td>0.0</td>\n",
       "      <td>0.0</td>\n",
       "      <td>0.0</td>\n",
       "      <td>0.0</td>\n",
       "      <td>0.0</td>\n",
       "      <td>0.0</td>\n",
       "      <td>0.0</td>\n",
       "      <td>0.0</td>\n",
       "    </tr>\n",
       "    <tr>\n",
       "      <th>AE23ZFVUOMPKR57BVSWXV34QLMVA</th>\n",
       "      <td>0.0</td>\n",
       "      <td>0.0</td>\n",
       "      <td>5.0</td>\n",
       "      <td>0.0</td>\n",
       "      <td>0.0</td>\n",
       "      <td>0.0</td>\n",
       "      <td>0.0</td>\n",
       "      <td>0.0</td>\n",
       "      <td>0.0</td>\n",
       "      <td>0.0</td>\n",
       "      <td>...</td>\n",
       "      <td>0.0</td>\n",
       "      <td>0.0</td>\n",
       "      <td>0.0</td>\n",
       "      <td>0.0</td>\n",
       "      <td>0.0</td>\n",
       "      <td>0.0</td>\n",
       "      <td>0.0</td>\n",
       "      <td>0.0</td>\n",
       "      <td>0.0</td>\n",
       "      <td>0.0</td>\n",
       "    </tr>\n",
       "    <tr>\n",
       "      <th>AE24I2EU3AJAAKBXF367XSV37U6Q</th>\n",
       "      <td>0.0</td>\n",
       "      <td>0.0</td>\n",
       "      <td>0.0</td>\n",
       "      <td>0.0</td>\n",
       "      <td>0.0</td>\n",
       "      <td>0.0</td>\n",
       "      <td>0.0</td>\n",
       "      <td>0.0</td>\n",
       "      <td>0.0</td>\n",
       "      <td>0.0</td>\n",
       "      <td>...</td>\n",
       "      <td>0.0</td>\n",
       "      <td>0.0</td>\n",
       "      <td>0.0</td>\n",
       "      <td>0.0</td>\n",
       "      <td>5.0</td>\n",
       "      <td>0.0</td>\n",
       "      <td>0.0</td>\n",
       "      <td>0.0</td>\n",
       "      <td>0.0</td>\n",
       "      <td>0.0</td>\n",
       "    </tr>\n",
       "    <tr>\n",
       "      <th>...</th>\n",
       "      <td>...</td>\n",
       "      <td>...</td>\n",
       "      <td>...</td>\n",
       "      <td>...</td>\n",
       "      <td>...</td>\n",
       "      <td>...</td>\n",
       "      <td>...</td>\n",
       "      <td>...</td>\n",
       "      <td>...</td>\n",
       "      <td>...</td>\n",
       "      <td>...</td>\n",
       "      <td>...</td>\n",
       "      <td>...</td>\n",
       "      <td>...</td>\n",
       "      <td>...</td>\n",
       "      <td>...</td>\n",
       "      <td>...</td>\n",
       "      <td>...</td>\n",
       "      <td>...</td>\n",
       "      <td>...</td>\n",
       "      <td>...</td>\n",
       "    </tr>\n",
       "    <tr>\n",
       "      <th>AHZPLXCE5YQMLXFFBSURYHZUGMTA</th>\n",
       "      <td>0.0</td>\n",
       "      <td>0.0</td>\n",
       "      <td>0.0</td>\n",
       "      <td>0.0</td>\n",
       "      <td>0.0</td>\n",
       "      <td>0.0</td>\n",
       "      <td>0.0</td>\n",
       "      <td>0.0</td>\n",
       "      <td>0.0</td>\n",
       "      <td>0.0</td>\n",
       "      <td>...</td>\n",
       "      <td>0.0</td>\n",
       "      <td>0.0</td>\n",
       "      <td>0.0</td>\n",
       "      <td>0.0</td>\n",
       "      <td>0.0</td>\n",
       "      <td>0.0</td>\n",
       "      <td>0.0</td>\n",
       "      <td>0.0</td>\n",
       "      <td>0.0</td>\n",
       "      <td>0.0</td>\n",
       "    </tr>\n",
       "    <tr>\n",
       "      <th>AHZQPH7HHSWLUIQFWEQ54NNKKN6A</th>\n",
       "      <td>0.0</td>\n",
       "      <td>0.0</td>\n",
       "      <td>0.0</td>\n",
       "      <td>0.0</td>\n",
       "      <td>0.0</td>\n",
       "      <td>0.0</td>\n",
       "      <td>0.0</td>\n",
       "      <td>0.0</td>\n",
       "      <td>0.0</td>\n",
       "      <td>0.0</td>\n",
       "      <td>...</td>\n",
       "      <td>0.0</td>\n",
       "      <td>0.0</td>\n",
       "      <td>0.0</td>\n",
       "      <td>0.0</td>\n",
       "      <td>0.0</td>\n",
       "      <td>0.0</td>\n",
       "      <td>0.0</td>\n",
       "      <td>0.0</td>\n",
       "      <td>0.0</td>\n",
       "      <td>0.0</td>\n",
       "    </tr>\n",
       "    <tr>\n",
       "      <th>AHZT6MVWNF4GG6FISMZMORKZKK4A</th>\n",
       "      <td>0.0</td>\n",
       "      <td>0.0</td>\n",
       "      <td>0.0</td>\n",
       "      <td>0.0</td>\n",
       "      <td>0.0</td>\n",
       "      <td>0.0</td>\n",
       "      <td>0.0</td>\n",
       "      <td>0.0</td>\n",
       "      <td>0.0</td>\n",
       "      <td>0.0</td>\n",
       "      <td>...</td>\n",
       "      <td>0.0</td>\n",
       "      <td>0.0</td>\n",
       "      <td>0.0</td>\n",
       "      <td>0.0</td>\n",
       "      <td>0.0</td>\n",
       "      <td>0.0</td>\n",
       "      <td>0.0</td>\n",
       "      <td>0.0</td>\n",
       "      <td>0.0</td>\n",
       "      <td>0.0</td>\n",
       "    </tr>\n",
       "    <tr>\n",
       "      <th>AHZXMBKQJTVG2J7P7EB5WCYTOLDQ</th>\n",
       "      <td>0.0</td>\n",
       "      <td>0.0</td>\n",
       "      <td>0.0</td>\n",
       "      <td>0.0</td>\n",
       "      <td>0.0</td>\n",
       "      <td>0.0</td>\n",
       "      <td>0.0</td>\n",
       "      <td>0.0</td>\n",
       "      <td>0.0</td>\n",
       "      <td>0.0</td>\n",
       "      <td>...</td>\n",
       "      <td>0.0</td>\n",
       "      <td>0.0</td>\n",
       "      <td>0.0</td>\n",
       "      <td>0.0</td>\n",
       "      <td>0.0</td>\n",
       "      <td>0.0</td>\n",
       "      <td>0.0</td>\n",
       "      <td>0.0</td>\n",
       "      <td>0.0</td>\n",
       "      <td>0.0</td>\n",
       "    </tr>\n",
       "    <tr>\n",
       "      <th>AHZYZ2BUDD7WAJPW5G6K2DK5LYPQ</th>\n",
       "      <td>0.0</td>\n",
       "      <td>0.0</td>\n",
       "      <td>0.0</td>\n",
       "      <td>0.0</td>\n",
       "      <td>0.0</td>\n",
       "      <td>0.0</td>\n",
       "      <td>0.0</td>\n",
       "      <td>0.0</td>\n",
       "      <td>0.0</td>\n",
       "      <td>0.0</td>\n",
       "      <td>...</td>\n",
       "      <td>0.0</td>\n",
       "      <td>0.0</td>\n",
       "      <td>0.0</td>\n",
       "      <td>0.0</td>\n",
       "      <td>0.0</td>\n",
       "      <td>0.0</td>\n",
       "      <td>0.0</td>\n",
       "      <td>0.0</td>\n",
       "      <td>0.0</td>\n",
       "      <td>0.0</td>\n",
       "    </tr>\n",
       "  </tbody>\n",
       "</table>\n",
       "<p>5107 rows × 1003 columns</p>\n",
       "</div>"
      ],
      "text/plain": [
       "id                            1423414357  B00005ML71  B0002CZVWS  B0002D01K4  \\\n",
       "user                                                                           \n",
       "AE23JYHGEN3D35CHE5OQQYJOW5RA         0.0         0.0         0.0         0.0   \n",
       "AE23LDQTB7L76AP6E6WPBFVYL5DA         0.0         0.0         0.0         0.0   \n",
       "AE23WLBRYKEC67DM43M6E2MF7GPQ         5.0         0.0         0.0         0.0   \n",
       "AE23ZFVUOMPKR57BVSWXV34QLMVA         0.0         0.0         5.0         0.0   \n",
       "AE24I2EU3AJAAKBXF367XSV37U6Q         0.0         0.0         0.0         0.0   \n",
       "...                                  ...         ...         ...         ...   \n",
       "AHZPLXCE5YQMLXFFBSURYHZUGMTA         0.0         0.0         0.0         0.0   \n",
       "AHZQPH7HHSWLUIQFWEQ54NNKKN6A         0.0         0.0         0.0         0.0   \n",
       "AHZT6MVWNF4GG6FISMZMORKZKK4A         0.0         0.0         0.0         0.0   \n",
       "AHZXMBKQJTVG2J7P7EB5WCYTOLDQ         0.0         0.0         0.0         0.0   \n",
       "AHZYZ2BUDD7WAJPW5G6K2DK5LYPQ         0.0         0.0         0.0         0.0   \n",
       "\n",
       "id                            B0002D01KO  B0002D0CCQ  B0002D0CEO  B0002D0CNA  \\\n",
       "user                                                                           \n",
       "AE23JYHGEN3D35CHE5OQQYJOW5RA         0.0         0.0         0.0         0.0   \n",
       "AE23LDQTB7L76AP6E6WPBFVYL5DA         0.0         0.0         0.0         0.0   \n",
       "AE23WLBRYKEC67DM43M6E2MF7GPQ         0.0         0.0         0.0         0.0   \n",
       "AE23ZFVUOMPKR57BVSWXV34QLMVA         0.0         0.0         0.0         0.0   \n",
       "AE24I2EU3AJAAKBXF367XSV37U6Q         0.0         0.0         0.0         0.0   \n",
       "...                                  ...         ...         ...         ...   \n",
       "AHZPLXCE5YQMLXFFBSURYHZUGMTA         0.0         0.0         0.0         0.0   \n",
       "AHZQPH7HHSWLUIQFWEQ54NNKKN6A         0.0         0.0         0.0         0.0   \n",
       "AHZT6MVWNF4GG6FISMZMORKZKK4A         0.0         0.0         0.0         0.0   \n",
       "AHZXMBKQJTVG2J7P7EB5WCYTOLDQ         0.0         0.0         0.0         0.0   \n",
       "AHZYZ2BUDD7WAJPW5G6K2DK5LYPQ         0.0         0.0         0.0         0.0   \n",
       "\n",
       "id                            B0002D0L5E  B0002D0Q2W  ...  B0C6J149WZ  \\\n",
       "user                                                  ...               \n",
       "AE23JYHGEN3D35CHE5OQQYJOW5RA         0.0         0.0  ...         0.0   \n",
       "AE23LDQTB7L76AP6E6WPBFVYL5DA         0.0         0.0  ...         0.0   \n",
       "AE23WLBRYKEC67DM43M6E2MF7GPQ         0.0         0.0  ...         0.0   \n",
       "AE23ZFVUOMPKR57BVSWXV34QLMVA         0.0         0.0  ...         0.0   \n",
       "AE24I2EU3AJAAKBXF367XSV37U6Q         0.0         0.0  ...         0.0   \n",
       "...                                  ...         ...  ...         ...   \n",
       "AHZPLXCE5YQMLXFFBSURYHZUGMTA         0.0         0.0  ...         0.0   \n",
       "AHZQPH7HHSWLUIQFWEQ54NNKKN6A         0.0         0.0  ...         0.0   \n",
       "AHZT6MVWNF4GG6FISMZMORKZKK4A         0.0         0.0  ...         0.0   \n",
       "AHZXMBKQJTVG2J7P7EB5WCYTOLDQ         0.0         0.0  ...         0.0   \n",
       "AHZYZ2BUDD7WAJPW5G6K2DK5LYPQ         0.0         0.0  ...         0.0   \n",
       "\n",
       "id                            B0C6J1BN77  B0C6J1X7TD  B0C6J2DPBW  B0C994NVQK  \\\n",
       "user                                                                           \n",
       "AE23JYHGEN3D35CHE5OQQYJOW5RA         0.0         0.0         0.0         0.0   \n",
       "AE23LDQTB7L76AP6E6WPBFVYL5DA         0.0         0.0         0.0         0.0   \n",
       "AE23WLBRYKEC67DM43M6E2MF7GPQ         0.0         0.0         0.0         0.0   \n",
       "AE23ZFVUOMPKR57BVSWXV34QLMVA         0.0         0.0         0.0         0.0   \n",
       "AE24I2EU3AJAAKBXF367XSV37U6Q         0.0         0.0         0.0         5.0   \n",
       "...                                  ...         ...         ...         ...   \n",
       "AHZPLXCE5YQMLXFFBSURYHZUGMTA         0.0         0.0         0.0         0.0   \n",
       "AHZQPH7HHSWLUIQFWEQ54NNKKN6A         0.0         0.0         0.0         0.0   \n",
       "AHZT6MVWNF4GG6FISMZMORKZKK4A         0.0         0.0         0.0         0.0   \n",
       "AHZXMBKQJTVG2J7P7EB5WCYTOLDQ         0.0         0.0         0.0         0.0   \n",
       "AHZYZ2BUDD7WAJPW5G6K2DK5LYPQ         0.0         0.0         0.0         0.0   \n",
       "\n",
       "id                            B0C9NGP88D  B0CB98SMQR  B0CBHMCGNS  B0CBK1WSMR  \\\n",
       "user                                                                           \n",
       "AE23JYHGEN3D35CHE5OQQYJOW5RA         0.0         0.0         0.0         0.0   \n",
       "AE23LDQTB7L76AP6E6WPBFVYL5DA         0.0         0.0         0.0         0.0   \n",
       "AE23WLBRYKEC67DM43M6E2MF7GPQ         0.0         0.0         0.0         0.0   \n",
       "AE23ZFVUOMPKR57BVSWXV34QLMVA         0.0         0.0         0.0         0.0   \n",
       "AE24I2EU3AJAAKBXF367XSV37U6Q         0.0         0.0         0.0         0.0   \n",
       "...                                  ...         ...         ...         ...   \n",
       "AHZPLXCE5YQMLXFFBSURYHZUGMTA         0.0         0.0         0.0         0.0   \n",
       "AHZQPH7HHSWLUIQFWEQ54NNKKN6A         0.0         0.0         0.0         0.0   \n",
       "AHZT6MVWNF4GG6FISMZMORKZKK4A         0.0         0.0         0.0         0.0   \n",
       "AHZXMBKQJTVG2J7P7EB5WCYTOLDQ         0.0         0.0         0.0         0.0   \n",
       "AHZYZ2BUDD7WAJPW5G6K2DK5LYPQ         0.0         0.0         0.0         0.0   \n",
       "\n",
       "id                            B0CCK4YYNM  \n",
       "user                                      \n",
       "AE23JYHGEN3D35CHE5OQQYJOW5RA         0.0  \n",
       "AE23LDQTB7L76AP6E6WPBFVYL5DA         0.0  \n",
       "AE23WLBRYKEC67DM43M6E2MF7GPQ         0.0  \n",
       "AE23ZFVUOMPKR57BVSWXV34QLMVA         0.0  \n",
       "AE24I2EU3AJAAKBXF367XSV37U6Q         0.0  \n",
       "...                                  ...  \n",
       "AHZPLXCE5YQMLXFFBSURYHZUGMTA         0.0  \n",
       "AHZQPH7HHSWLUIQFWEQ54NNKKN6A         0.0  \n",
       "AHZT6MVWNF4GG6FISMZMORKZKK4A         0.0  \n",
       "AHZXMBKQJTVG2J7P7EB5WCYTOLDQ         0.0  \n",
       "AHZYZ2BUDD7WAJPW5G6K2DK5LYPQ         0.0  \n",
       "\n",
       "[5107 rows x 1003 columns]"
      ]
     },
     "execution_count": 29,
     "metadata": {},
     "output_type": "execute_result"
    }
   ],
   "source": [
    "df_recommendation_pivot"
   ]
  },
  {
   "cell_type": "markdown",
   "metadata": {},
   "source": [
    "#### **Cosine Similarity** : \n",
    "Web page for the formula and the explaindantion about this metric :  https://en.wikipedia.org/wiki/Cosine_similarity\n",
    "\n",
    "\n",
    "$$\n",
    "\\text{cosine similarity}(A, B) = \\frac{A \\cdot B}{\\|A\\| \\|B\\|}\n",
    "$$\n",
    "\n",
    "Where:\n",
    "- \\( A \\) and \\( B \\) are vectors.\n",
    "- \\( A • B \\) is the dot product of \\( A \\) and \\( B \\).\n",
    "- \\( \\|A\\| \\) and \\( \\|B\\| \\) are the  norms of \\( A \\) and \\( B \\).\n"
   ]
  },
  {
   "cell_type": "code",
   "execution_count": null,
   "metadata": {},
   "outputs": [],
   "source": [
    "def Cosine_similarity (a,b) : \n",
    "    \"\"\"cosine similarity between two vectors\"\"\"\n",
    "\n",
    "    vec1 = np.array(a)\n",
    "    vec2 = np.array(b)\n",
    "    \n",
    "    dot_product = np.dot(vec1, vec2)\n",
    "    norm_vec1 = np.linalg.norm(vec1)\n",
    "    norm_vec2 = np.linalg.norm(vec2)\n",
    "    \n",
    "    if norm_vec1 == 0 or norm_vec2 == 0:\n",
    "        return 0  # NO division by zero\n",
    "    else:\n",
    "        return dot_product / (norm_vec1 * norm_vec2)\n"
   ]
  },
  {
   "cell_type": "code",
   "execution_count": 30,
   "metadata": {},
   "outputs": [],
   "source": [
    "from sklearn.metrics.pairwise import cosine_similarity\n",
    "# The similarity matrix is a square matrix wich gives the similaritie values between two users based on the formula (scalar product)\n",
    "similarity_matrix = cosine_similarity(df_recommendation_pivot)"
   ]
  },
  {
   "cell_type": "code",
   "execution_count": 33,
   "metadata": {},
   "outputs": [
    {
     "data": {
      "text/html": [
       "<div>\n",
       "<style scoped>\n",
       "    .dataframe tbody tr th:only-of-type {\n",
       "        vertical-align: middle;\n",
       "    }\n",
       "\n",
       "    .dataframe tbody tr th {\n",
       "        vertical-align: top;\n",
       "    }\n",
       "\n",
       "    .dataframe thead th {\n",
       "        text-align: right;\n",
       "    }\n",
       "</style>\n",
       "<table border=\"1\" class=\"dataframe\">\n",
       "  <thead>\n",
       "    <tr style=\"text-align: right;\">\n",
       "      <th>user</th>\n",
       "      <th>AE23JYHGEN3D35CHE5OQQYJOW5RA</th>\n",
       "      <th>AE23LDQTB7L76AP6E6WPBFVYL5DA</th>\n",
       "      <th>AE23WLBRYKEC67DM43M6E2MF7GPQ</th>\n",
       "      <th>AE23ZFVUOMPKR57BVSWXV34QLMVA</th>\n",
       "      <th>AE24I2EU3AJAAKBXF367XSV37U6Q</th>\n",
       "      <th>AE24ZJSXZFHFKZF3UYR5CBAYGL7A</th>\n",
       "      <th>AE25GU3LWQGZJN4NNT5GWAGBN2KA</th>\n",
       "      <th>AE27PVJOEVGOHYF5WOXQDZ5NIULA</th>\n",
       "      <th>AE2AVSTY2ZSZUSXZA7GWMXC56ITQ</th>\n",
       "      <th>AE2BCWBDERZKN3ACIXQQISI3LHPA</th>\n",
       "      <th>...</th>\n",
       "      <th>AHZJVJET7N5JKBRKL6E7SMZV6FKQ</th>\n",
       "      <th>AHZKUBNYPXGNNNH5GQKSHJH5A7IA</th>\n",
       "      <th>AHZLJECK27R55RFTZXFUEZIVGHGQ</th>\n",
       "      <th>AHZNF3H5YLL623I5C6PO3TVZFXSQ</th>\n",
       "      <th>AHZNULZBLXPYXTCJSZ6FHCFM2Y5A</th>\n",
       "      <th>AHZPLXCE5YQMLXFFBSURYHZUGMTA</th>\n",
       "      <th>AHZQPH7HHSWLUIQFWEQ54NNKKN6A</th>\n",
       "      <th>AHZT6MVWNF4GG6FISMZMORKZKK4A</th>\n",
       "      <th>AHZXMBKQJTVG2J7P7EB5WCYTOLDQ</th>\n",
       "      <th>AHZYZ2BUDD7WAJPW5G6K2DK5LYPQ</th>\n",
       "    </tr>\n",
       "    <tr>\n",
       "      <th>user</th>\n",
       "      <th></th>\n",
       "      <th></th>\n",
       "      <th></th>\n",
       "      <th></th>\n",
       "      <th></th>\n",
       "      <th></th>\n",
       "      <th></th>\n",
       "      <th></th>\n",
       "      <th></th>\n",
       "      <th></th>\n",
       "      <th></th>\n",
       "      <th></th>\n",
       "      <th></th>\n",
       "      <th></th>\n",
       "      <th></th>\n",
       "      <th></th>\n",
       "      <th></th>\n",
       "      <th></th>\n",
       "      <th></th>\n",
       "      <th></th>\n",
       "      <th></th>\n",
       "    </tr>\n",
       "  </thead>\n",
       "  <tbody>\n",
       "    <tr>\n",
       "      <th>AE23JYHGEN3D35CHE5OQQYJOW5RA</th>\n",
       "      <td>1.0</td>\n",
       "      <td>0.000000</td>\n",
       "      <td>0.000000</td>\n",
       "      <td>0.000000</td>\n",
       "      <td>0.0</td>\n",
       "      <td>0.000000</td>\n",
       "      <td>0.000000</td>\n",
       "      <td>0.0</td>\n",
       "      <td>0.000000</td>\n",
       "      <td>0.0</td>\n",
       "      <td>...</td>\n",
       "      <td>0.000000</td>\n",
       "      <td>0.20109</td>\n",
       "      <td>0.0</td>\n",
       "      <td>0.147115</td>\n",
       "      <td>0.000000</td>\n",
       "      <td>0.0</td>\n",
       "      <td>0.000000</td>\n",
       "      <td>0.000000</td>\n",
       "      <td>0.000000</td>\n",
       "      <td>0.000000</td>\n",
       "    </tr>\n",
       "    <tr>\n",
       "      <th>AE23LDQTB7L76AP6E6WPBFVYL5DA</th>\n",
       "      <td>0.0</td>\n",
       "      <td>1.000000</td>\n",
       "      <td>0.000000</td>\n",
       "      <td>0.039735</td>\n",
       "      <td>0.0</td>\n",
       "      <td>0.000000</td>\n",
       "      <td>0.109632</td>\n",
       "      <td>0.0</td>\n",
       "      <td>0.000000</td>\n",
       "      <td>0.0</td>\n",
       "      <td>...</td>\n",
       "      <td>0.221340</td>\n",
       "      <td>0.00000</td>\n",
       "      <td>0.0</td>\n",
       "      <td>0.000000</td>\n",
       "      <td>0.071853</td>\n",
       "      <td>0.0</td>\n",
       "      <td>0.000000</td>\n",
       "      <td>0.000000</td>\n",
       "      <td>0.109938</td>\n",
       "      <td>0.161294</td>\n",
       "    </tr>\n",
       "    <tr>\n",
       "      <th>AE23WLBRYKEC67DM43M6E2MF7GPQ</th>\n",
       "      <td>0.0</td>\n",
       "      <td>0.000000</td>\n",
       "      <td>1.000000</td>\n",
       "      <td>0.000000</td>\n",
       "      <td>0.0</td>\n",
       "      <td>0.000000</td>\n",
       "      <td>0.000000</td>\n",
       "      <td>0.0</td>\n",
       "      <td>0.000000</td>\n",
       "      <td>0.0</td>\n",
       "      <td>...</td>\n",
       "      <td>0.000000</td>\n",
       "      <td>0.00000</td>\n",
       "      <td>0.0</td>\n",
       "      <td>0.000000</td>\n",
       "      <td>0.000000</td>\n",
       "      <td>0.0</td>\n",
       "      <td>0.058036</td>\n",
       "      <td>0.000000</td>\n",
       "      <td>0.033162</td>\n",
       "      <td>0.000000</td>\n",
       "    </tr>\n",
       "    <tr>\n",
       "      <th>AE23ZFVUOMPKR57BVSWXV34QLMVA</th>\n",
       "      <td>0.0</td>\n",
       "      <td>0.039735</td>\n",
       "      <td>0.000000</td>\n",
       "      <td>1.000000</td>\n",
       "      <td>0.0</td>\n",
       "      <td>0.000000</td>\n",
       "      <td>0.000000</td>\n",
       "      <td>0.0</td>\n",
       "      <td>0.070186</td>\n",
       "      <td>0.0</td>\n",
       "      <td>...</td>\n",
       "      <td>0.000000</td>\n",
       "      <td>0.00000</td>\n",
       "      <td>0.0</td>\n",
       "      <td>0.000000</td>\n",
       "      <td>0.000000</td>\n",
       "      <td>0.0</td>\n",
       "      <td>0.097176</td>\n",
       "      <td>0.000000</td>\n",
       "      <td>0.000000</td>\n",
       "      <td>0.053323</td>\n",
       "    </tr>\n",
       "    <tr>\n",
       "      <th>AE24I2EU3AJAAKBXF367XSV37U6Q</th>\n",
       "      <td>0.0</td>\n",
       "      <td>0.000000</td>\n",
       "      <td>0.000000</td>\n",
       "      <td>0.000000</td>\n",
       "      <td>1.0</td>\n",
       "      <td>0.000000</td>\n",
       "      <td>0.000000</td>\n",
       "      <td>0.0</td>\n",
       "      <td>0.212814</td>\n",
       "      <td>0.0</td>\n",
       "      <td>...</td>\n",
       "      <td>0.000000</td>\n",
       "      <td>0.00000</td>\n",
       "      <td>0.0</td>\n",
       "      <td>0.000000</td>\n",
       "      <td>0.000000</td>\n",
       "      <td>0.0</td>\n",
       "      <td>0.000000</td>\n",
       "      <td>0.000000</td>\n",
       "      <td>0.000000</td>\n",
       "      <td>0.000000</td>\n",
       "    </tr>\n",
       "    <tr>\n",
       "      <th>...</th>\n",
       "      <td>...</td>\n",
       "      <td>...</td>\n",
       "      <td>...</td>\n",
       "      <td>...</td>\n",
       "      <td>...</td>\n",
       "      <td>...</td>\n",
       "      <td>...</td>\n",
       "      <td>...</td>\n",
       "      <td>...</td>\n",
       "      <td>...</td>\n",
       "      <td>...</td>\n",
       "      <td>...</td>\n",
       "      <td>...</td>\n",
       "      <td>...</td>\n",
       "      <td>...</td>\n",
       "      <td>...</td>\n",
       "      <td>...</td>\n",
       "      <td>...</td>\n",
       "      <td>...</td>\n",
       "      <td>...</td>\n",
       "      <td>...</td>\n",
       "    </tr>\n",
       "    <tr>\n",
       "      <th>AHZPLXCE5YQMLXFFBSURYHZUGMTA</th>\n",
       "      <td>0.0</td>\n",
       "      <td>0.000000</td>\n",
       "      <td>0.000000</td>\n",
       "      <td>0.000000</td>\n",
       "      <td>0.0</td>\n",
       "      <td>0.000000</td>\n",
       "      <td>0.000000</td>\n",
       "      <td>0.0</td>\n",
       "      <td>0.000000</td>\n",
       "      <td>0.0</td>\n",
       "      <td>...</td>\n",
       "      <td>0.000000</td>\n",
       "      <td>0.00000</td>\n",
       "      <td>0.0</td>\n",
       "      <td>0.000000</td>\n",
       "      <td>0.000000</td>\n",
       "      <td>1.0</td>\n",
       "      <td>0.000000</td>\n",
       "      <td>0.000000</td>\n",
       "      <td>0.000000</td>\n",
       "      <td>0.000000</td>\n",
       "    </tr>\n",
       "    <tr>\n",
       "      <th>AHZQPH7HHSWLUIQFWEQ54NNKKN6A</th>\n",
       "      <td>0.0</td>\n",
       "      <td>0.000000</td>\n",
       "      <td>0.058036</td>\n",
       "      <td>0.097176</td>\n",
       "      <td>0.0</td>\n",
       "      <td>0.089002</td>\n",
       "      <td>0.000000</td>\n",
       "      <td>0.0</td>\n",
       "      <td>0.000000</td>\n",
       "      <td>0.0</td>\n",
       "      <td>...</td>\n",
       "      <td>0.065613</td>\n",
       "      <td>0.00000</td>\n",
       "      <td>0.0</td>\n",
       "      <td>0.000000</td>\n",
       "      <td>0.000000</td>\n",
       "      <td>0.0</td>\n",
       "      <td>1.000000</td>\n",
       "      <td>0.000000</td>\n",
       "      <td>0.081474</td>\n",
       "      <td>0.000000</td>\n",
       "    </tr>\n",
       "    <tr>\n",
       "      <th>AHZT6MVWNF4GG6FISMZMORKZKK4A</th>\n",
       "      <td>0.0</td>\n",
       "      <td>0.000000</td>\n",
       "      <td>0.000000</td>\n",
       "      <td>0.000000</td>\n",
       "      <td>0.0</td>\n",
       "      <td>0.000000</td>\n",
       "      <td>0.000000</td>\n",
       "      <td>0.0</td>\n",
       "      <td>0.000000</td>\n",
       "      <td>0.0</td>\n",
       "      <td>...</td>\n",
       "      <td>0.185231</td>\n",
       "      <td>0.00000</td>\n",
       "      <td>0.0</td>\n",
       "      <td>0.000000</td>\n",
       "      <td>0.000000</td>\n",
       "      <td>0.0</td>\n",
       "      <td>0.000000</td>\n",
       "      <td>1.000000</td>\n",
       "      <td>0.184006</td>\n",
       "      <td>0.000000</td>\n",
       "    </tr>\n",
       "    <tr>\n",
       "      <th>AHZXMBKQJTVG2J7P7EB5WCYTOLDQ</th>\n",
       "      <td>0.0</td>\n",
       "      <td>0.109938</td>\n",
       "      <td>0.033162</td>\n",
       "      <td>0.000000</td>\n",
       "      <td>0.0</td>\n",
       "      <td>0.152570</td>\n",
       "      <td>0.000000</td>\n",
       "      <td>0.0</td>\n",
       "      <td>0.000000</td>\n",
       "      <td>0.0</td>\n",
       "      <td>...</td>\n",
       "      <td>0.000000</td>\n",
       "      <td>0.00000</td>\n",
       "      <td>0.0</td>\n",
       "      <td>0.000000</td>\n",
       "      <td>0.000000</td>\n",
       "      <td>0.0</td>\n",
       "      <td>0.081474</td>\n",
       "      <td>0.184006</td>\n",
       "      <td>1.000000</td>\n",
       "      <td>0.000000</td>\n",
       "    </tr>\n",
       "    <tr>\n",
       "      <th>AHZYZ2BUDD7WAJPW5G6K2DK5LYPQ</th>\n",
       "      <td>0.0</td>\n",
       "      <td>0.161294</td>\n",
       "      <td>0.000000</td>\n",
       "      <td>0.053323</td>\n",
       "      <td>0.0</td>\n",
       "      <td>0.000000</td>\n",
       "      <td>0.000000</td>\n",
       "      <td>0.0</td>\n",
       "      <td>0.000000</td>\n",
       "      <td>0.0</td>\n",
       "      <td>...</td>\n",
       "      <td>0.000000</td>\n",
       "      <td>0.00000</td>\n",
       "      <td>0.0</td>\n",
       "      <td>0.000000</td>\n",
       "      <td>0.096425</td>\n",
       "      <td>0.0</td>\n",
       "      <td>0.000000</td>\n",
       "      <td>0.000000</td>\n",
       "      <td>0.000000</td>\n",
       "      <td>1.000000</td>\n",
       "    </tr>\n",
       "  </tbody>\n",
       "</table>\n",
       "<p>5107 rows × 5107 columns</p>\n",
       "</div>"
      ],
      "text/plain": [
       "user                          AE23JYHGEN3D35CHE5OQQYJOW5RA  \\\n",
       "user                                                         \n",
       "AE23JYHGEN3D35CHE5OQQYJOW5RA                           1.0   \n",
       "AE23LDQTB7L76AP6E6WPBFVYL5DA                           0.0   \n",
       "AE23WLBRYKEC67DM43M6E2MF7GPQ                           0.0   \n",
       "AE23ZFVUOMPKR57BVSWXV34QLMVA                           0.0   \n",
       "AE24I2EU3AJAAKBXF367XSV37U6Q                           0.0   \n",
       "...                                                    ...   \n",
       "AHZPLXCE5YQMLXFFBSURYHZUGMTA                           0.0   \n",
       "AHZQPH7HHSWLUIQFWEQ54NNKKN6A                           0.0   \n",
       "AHZT6MVWNF4GG6FISMZMORKZKK4A                           0.0   \n",
       "AHZXMBKQJTVG2J7P7EB5WCYTOLDQ                           0.0   \n",
       "AHZYZ2BUDD7WAJPW5G6K2DK5LYPQ                           0.0   \n",
       "\n",
       "user                          AE23LDQTB7L76AP6E6WPBFVYL5DA  \\\n",
       "user                                                         \n",
       "AE23JYHGEN3D35CHE5OQQYJOW5RA                      0.000000   \n",
       "AE23LDQTB7L76AP6E6WPBFVYL5DA                      1.000000   \n",
       "AE23WLBRYKEC67DM43M6E2MF7GPQ                      0.000000   \n",
       "AE23ZFVUOMPKR57BVSWXV34QLMVA                      0.039735   \n",
       "AE24I2EU3AJAAKBXF367XSV37U6Q                      0.000000   \n",
       "...                                                    ...   \n",
       "AHZPLXCE5YQMLXFFBSURYHZUGMTA                      0.000000   \n",
       "AHZQPH7HHSWLUIQFWEQ54NNKKN6A                      0.000000   \n",
       "AHZT6MVWNF4GG6FISMZMORKZKK4A                      0.000000   \n",
       "AHZXMBKQJTVG2J7P7EB5WCYTOLDQ                      0.109938   \n",
       "AHZYZ2BUDD7WAJPW5G6K2DK5LYPQ                      0.161294   \n",
       "\n",
       "user                          AE23WLBRYKEC67DM43M6E2MF7GPQ  \\\n",
       "user                                                         \n",
       "AE23JYHGEN3D35CHE5OQQYJOW5RA                      0.000000   \n",
       "AE23LDQTB7L76AP6E6WPBFVYL5DA                      0.000000   \n",
       "AE23WLBRYKEC67DM43M6E2MF7GPQ                      1.000000   \n",
       "AE23ZFVUOMPKR57BVSWXV34QLMVA                      0.000000   \n",
       "AE24I2EU3AJAAKBXF367XSV37U6Q                      0.000000   \n",
       "...                                                    ...   \n",
       "AHZPLXCE5YQMLXFFBSURYHZUGMTA                      0.000000   \n",
       "AHZQPH7HHSWLUIQFWEQ54NNKKN6A                      0.058036   \n",
       "AHZT6MVWNF4GG6FISMZMORKZKK4A                      0.000000   \n",
       "AHZXMBKQJTVG2J7P7EB5WCYTOLDQ                      0.033162   \n",
       "AHZYZ2BUDD7WAJPW5G6K2DK5LYPQ                      0.000000   \n",
       "\n",
       "user                          AE23ZFVUOMPKR57BVSWXV34QLMVA  \\\n",
       "user                                                         \n",
       "AE23JYHGEN3D35CHE5OQQYJOW5RA                      0.000000   \n",
       "AE23LDQTB7L76AP6E6WPBFVYL5DA                      0.039735   \n",
       "AE23WLBRYKEC67DM43M6E2MF7GPQ                      0.000000   \n",
       "AE23ZFVUOMPKR57BVSWXV34QLMVA                      1.000000   \n",
       "AE24I2EU3AJAAKBXF367XSV37U6Q                      0.000000   \n",
       "...                                                    ...   \n",
       "AHZPLXCE5YQMLXFFBSURYHZUGMTA                      0.000000   \n",
       "AHZQPH7HHSWLUIQFWEQ54NNKKN6A                      0.097176   \n",
       "AHZT6MVWNF4GG6FISMZMORKZKK4A                      0.000000   \n",
       "AHZXMBKQJTVG2J7P7EB5WCYTOLDQ                      0.000000   \n",
       "AHZYZ2BUDD7WAJPW5G6K2DK5LYPQ                      0.053323   \n",
       "\n",
       "user                          AE24I2EU3AJAAKBXF367XSV37U6Q  \\\n",
       "user                                                         \n",
       "AE23JYHGEN3D35CHE5OQQYJOW5RA                           0.0   \n",
       "AE23LDQTB7L76AP6E6WPBFVYL5DA                           0.0   \n",
       "AE23WLBRYKEC67DM43M6E2MF7GPQ                           0.0   \n",
       "AE23ZFVUOMPKR57BVSWXV34QLMVA                           0.0   \n",
       "AE24I2EU3AJAAKBXF367XSV37U6Q                           1.0   \n",
       "...                                                    ...   \n",
       "AHZPLXCE5YQMLXFFBSURYHZUGMTA                           0.0   \n",
       "AHZQPH7HHSWLUIQFWEQ54NNKKN6A                           0.0   \n",
       "AHZT6MVWNF4GG6FISMZMORKZKK4A                           0.0   \n",
       "AHZXMBKQJTVG2J7P7EB5WCYTOLDQ                           0.0   \n",
       "AHZYZ2BUDD7WAJPW5G6K2DK5LYPQ                           0.0   \n",
       "\n",
       "user                          AE24ZJSXZFHFKZF3UYR5CBAYGL7A  \\\n",
       "user                                                         \n",
       "AE23JYHGEN3D35CHE5OQQYJOW5RA                      0.000000   \n",
       "AE23LDQTB7L76AP6E6WPBFVYL5DA                      0.000000   \n",
       "AE23WLBRYKEC67DM43M6E2MF7GPQ                      0.000000   \n",
       "AE23ZFVUOMPKR57BVSWXV34QLMVA                      0.000000   \n",
       "AE24I2EU3AJAAKBXF367XSV37U6Q                      0.000000   \n",
       "...                                                    ...   \n",
       "AHZPLXCE5YQMLXFFBSURYHZUGMTA                      0.000000   \n",
       "AHZQPH7HHSWLUIQFWEQ54NNKKN6A                      0.089002   \n",
       "AHZT6MVWNF4GG6FISMZMORKZKK4A                      0.000000   \n",
       "AHZXMBKQJTVG2J7P7EB5WCYTOLDQ                      0.152570   \n",
       "AHZYZ2BUDD7WAJPW5G6K2DK5LYPQ                      0.000000   \n",
       "\n",
       "user                          AE25GU3LWQGZJN4NNT5GWAGBN2KA  \\\n",
       "user                                                         \n",
       "AE23JYHGEN3D35CHE5OQQYJOW5RA                      0.000000   \n",
       "AE23LDQTB7L76AP6E6WPBFVYL5DA                      0.109632   \n",
       "AE23WLBRYKEC67DM43M6E2MF7GPQ                      0.000000   \n",
       "AE23ZFVUOMPKR57BVSWXV34QLMVA                      0.000000   \n",
       "AE24I2EU3AJAAKBXF367XSV37U6Q                      0.000000   \n",
       "...                                                    ...   \n",
       "AHZPLXCE5YQMLXFFBSURYHZUGMTA                      0.000000   \n",
       "AHZQPH7HHSWLUIQFWEQ54NNKKN6A                      0.000000   \n",
       "AHZT6MVWNF4GG6FISMZMORKZKK4A                      0.000000   \n",
       "AHZXMBKQJTVG2J7P7EB5WCYTOLDQ                      0.000000   \n",
       "AHZYZ2BUDD7WAJPW5G6K2DK5LYPQ                      0.000000   \n",
       "\n",
       "user                          AE27PVJOEVGOHYF5WOXQDZ5NIULA  \\\n",
       "user                                                         \n",
       "AE23JYHGEN3D35CHE5OQQYJOW5RA                           0.0   \n",
       "AE23LDQTB7L76AP6E6WPBFVYL5DA                           0.0   \n",
       "AE23WLBRYKEC67DM43M6E2MF7GPQ                           0.0   \n",
       "AE23ZFVUOMPKR57BVSWXV34QLMVA                           0.0   \n",
       "AE24I2EU3AJAAKBXF367XSV37U6Q                           0.0   \n",
       "...                                                    ...   \n",
       "AHZPLXCE5YQMLXFFBSURYHZUGMTA                           0.0   \n",
       "AHZQPH7HHSWLUIQFWEQ54NNKKN6A                           0.0   \n",
       "AHZT6MVWNF4GG6FISMZMORKZKK4A                           0.0   \n",
       "AHZXMBKQJTVG2J7P7EB5WCYTOLDQ                           0.0   \n",
       "AHZYZ2BUDD7WAJPW5G6K2DK5LYPQ                           0.0   \n",
       "\n",
       "user                          AE2AVSTY2ZSZUSXZA7GWMXC56ITQ  \\\n",
       "user                                                         \n",
       "AE23JYHGEN3D35CHE5OQQYJOW5RA                      0.000000   \n",
       "AE23LDQTB7L76AP6E6WPBFVYL5DA                      0.000000   \n",
       "AE23WLBRYKEC67DM43M6E2MF7GPQ                      0.000000   \n",
       "AE23ZFVUOMPKR57BVSWXV34QLMVA                      0.070186   \n",
       "AE24I2EU3AJAAKBXF367XSV37U6Q                      0.212814   \n",
       "...                                                    ...   \n",
       "AHZPLXCE5YQMLXFFBSURYHZUGMTA                      0.000000   \n",
       "AHZQPH7HHSWLUIQFWEQ54NNKKN6A                      0.000000   \n",
       "AHZT6MVWNF4GG6FISMZMORKZKK4A                      0.000000   \n",
       "AHZXMBKQJTVG2J7P7EB5WCYTOLDQ                      0.000000   \n",
       "AHZYZ2BUDD7WAJPW5G6K2DK5LYPQ                      0.000000   \n",
       "\n",
       "user                          AE2BCWBDERZKN3ACIXQQISI3LHPA  ...  \\\n",
       "user                                                        ...   \n",
       "AE23JYHGEN3D35CHE5OQQYJOW5RA                           0.0  ...   \n",
       "AE23LDQTB7L76AP6E6WPBFVYL5DA                           0.0  ...   \n",
       "AE23WLBRYKEC67DM43M6E2MF7GPQ                           0.0  ...   \n",
       "AE23ZFVUOMPKR57BVSWXV34QLMVA                           0.0  ...   \n",
       "AE24I2EU3AJAAKBXF367XSV37U6Q                           0.0  ...   \n",
       "...                                                    ...  ...   \n",
       "AHZPLXCE5YQMLXFFBSURYHZUGMTA                           0.0  ...   \n",
       "AHZQPH7HHSWLUIQFWEQ54NNKKN6A                           0.0  ...   \n",
       "AHZT6MVWNF4GG6FISMZMORKZKK4A                           0.0  ...   \n",
       "AHZXMBKQJTVG2J7P7EB5WCYTOLDQ                           0.0  ...   \n",
       "AHZYZ2BUDD7WAJPW5G6K2DK5LYPQ                           0.0  ...   \n",
       "\n",
       "user                          AHZJVJET7N5JKBRKL6E7SMZV6FKQ  \\\n",
       "user                                                         \n",
       "AE23JYHGEN3D35CHE5OQQYJOW5RA                      0.000000   \n",
       "AE23LDQTB7L76AP6E6WPBFVYL5DA                      0.221340   \n",
       "AE23WLBRYKEC67DM43M6E2MF7GPQ                      0.000000   \n",
       "AE23ZFVUOMPKR57BVSWXV34QLMVA                      0.000000   \n",
       "AE24I2EU3AJAAKBXF367XSV37U6Q                      0.000000   \n",
       "...                                                    ...   \n",
       "AHZPLXCE5YQMLXFFBSURYHZUGMTA                      0.000000   \n",
       "AHZQPH7HHSWLUIQFWEQ54NNKKN6A                      0.065613   \n",
       "AHZT6MVWNF4GG6FISMZMORKZKK4A                      0.185231   \n",
       "AHZXMBKQJTVG2J7P7EB5WCYTOLDQ                      0.000000   \n",
       "AHZYZ2BUDD7WAJPW5G6K2DK5LYPQ                      0.000000   \n",
       "\n",
       "user                          AHZKUBNYPXGNNNH5GQKSHJH5A7IA  \\\n",
       "user                                                         \n",
       "AE23JYHGEN3D35CHE5OQQYJOW5RA                       0.20109   \n",
       "AE23LDQTB7L76AP6E6WPBFVYL5DA                       0.00000   \n",
       "AE23WLBRYKEC67DM43M6E2MF7GPQ                       0.00000   \n",
       "AE23ZFVUOMPKR57BVSWXV34QLMVA                       0.00000   \n",
       "AE24I2EU3AJAAKBXF367XSV37U6Q                       0.00000   \n",
       "...                                                    ...   \n",
       "AHZPLXCE5YQMLXFFBSURYHZUGMTA                       0.00000   \n",
       "AHZQPH7HHSWLUIQFWEQ54NNKKN6A                       0.00000   \n",
       "AHZT6MVWNF4GG6FISMZMORKZKK4A                       0.00000   \n",
       "AHZXMBKQJTVG2J7P7EB5WCYTOLDQ                       0.00000   \n",
       "AHZYZ2BUDD7WAJPW5G6K2DK5LYPQ                       0.00000   \n",
       "\n",
       "user                          AHZLJECK27R55RFTZXFUEZIVGHGQ  \\\n",
       "user                                                         \n",
       "AE23JYHGEN3D35CHE5OQQYJOW5RA                           0.0   \n",
       "AE23LDQTB7L76AP6E6WPBFVYL5DA                           0.0   \n",
       "AE23WLBRYKEC67DM43M6E2MF7GPQ                           0.0   \n",
       "AE23ZFVUOMPKR57BVSWXV34QLMVA                           0.0   \n",
       "AE24I2EU3AJAAKBXF367XSV37U6Q                           0.0   \n",
       "...                                                    ...   \n",
       "AHZPLXCE5YQMLXFFBSURYHZUGMTA                           0.0   \n",
       "AHZQPH7HHSWLUIQFWEQ54NNKKN6A                           0.0   \n",
       "AHZT6MVWNF4GG6FISMZMORKZKK4A                           0.0   \n",
       "AHZXMBKQJTVG2J7P7EB5WCYTOLDQ                           0.0   \n",
       "AHZYZ2BUDD7WAJPW5G6K2DK5LYPQ                           0.0   \n",
       "\n",
       "user                          AHZNF3H5YLL623I5C6PO3TVZFXSQ  \\\n",
       "user                                                         \n",
       "AE23JYHGEN3D35CHE5OQQYJOW5RA                      0.147115   \n",
       "AE23LDQTB7L76AP6E6WPBFVYL5DA                      0.000000   \n",
       "AE23WLBRYKEC67DM43M6E2MF7GPQ                      0.000000   \n",
       "AE23ZFVUOMPKR57BVSWXV34QLMVA                      0.000000   \n",
       "AE24I2EU3AJAAKBXF367XSV37U6Q                      0.000000   \n",
       "...                                                    ...   \n",
       "AHZPLXCE5YQMLXFFBSURYHZUGMTA                      0.000000   \n",
       "AHZQPH7HHSWLUIQFWEQ54NNKKN6A                      0.000000   \n",
       "AHZT6MVWNF4GG6FISMZMORKZKK4A                      0.000000   \n",
       "AHZXMBKQJTVG2J7P7EB5WCYTOLDQ                      0.000000   \n",
       "AHZYZ2BUDD7WAJPW5G6K2DK5LYPQ                      0.000000   \n",
       "\n",
       "user                          AHZNULZBLXPYXTCJSZ6FHCFM2Y5A  \\\n",
       "user                                                         \n",
       "AE23JYHGEN3D35CHE5OQQYJOW5RA                      0.000000   \n",
       "AE23LDQTB7L76AP6E6WPBFVYL5DA                      0.071853   \n",
       "AE23WLBRYKEC67DM43M6E2MF7GPQ                      0.000000   \n",
       "AE23ZFVUOMPKR57BVSWXV34QLMVA                      0.000000   \n",
       "AE24I2EU3AJAAKBXF367XSV37U6Q                      0.000000   \n",
       "...                                                    ...   \n",
       "AHZPLXCE5YQMLXFFBSURYHZUGMTA                      0.000000   \n",
       "AHZQPH7HHSWLUIQFWEQ54NNKKN6A                      0.000000   \n",
       "AHZT6MVWNF4GG6FISMZMORKZKK4A                      0.000000   \n",
       "AHZXMBKQJTVG2J7P7EB5WCYTOLDQ                      0.000000   \n",
       "AHZYZ2BUDD7WAJPW5G6K2DK5LYPQ                      0.096425   \n",
       "\n",
       "user                          AHZPLXCE5YQMLXFFBSURYHZUGMTA  \\\n",
       "user                                                         \n",
       "AE23JYHGEN3D35CHE5OQQYJOW5RA                           0.0   \n",
       "AE23LDQTB7L76AP6E6WPBFVYL5DA                           0.0   \n",
       "AE23WLBRYKEC67DM43M6E2MF7GPQ                           0.0   \n",
       "AE23ZFVUOMPKR57BVSWXV34QLMVA                           0.0   \n",
       "AE24I2EU3AJAAKBXF367XSV37U6Q                           0.0   \n",
       "...                                                    ...   \n",
       "AHZPLXCE5YQMLXFFBSURYHZUGMTA                           1.0   \n",
       "AHZQPH7HHSWLUIQFWEQ54NNKKN6A                           0.0   \n",
       "AHZT6MVWNF4GG6FISMZMORKZKK4A                           0.0   \n",
       "AHZXMBKQJTVG2J7P7EB5WCYTOLDQ                           0.0   \n",
       "AHZYZ2BUDD7WAJPW5G6K2DK5LYPQ                           0.0   \n",
       "\n",
       "user                          AHZQPH7HHSWLUIQFWEQ54NNKKN6A  \\\n",
       "user                                                         \n",
       "AE23JYHGEN3D35CHE5OQQYJOW5RA                      0.000000   \n",
       "AE23LDQTB7L76AP6E6WPBFVYL5DA                      0.000000   \n",
       "AE23WLBRYKEC67DM43M6E2MF7GPQ                      0.058036   \n",
       "AE23ZFVUOMPKR57BVSWXV34QLMVA                      0.097176   \n",
       "AE24I2EU3AJAAKBXF367XSV37U6Q                      0.000000   \n",
       "...                                                    ...   \n",
       "AHZPLXCE5YQMLXFFBSURYHZUGMTA                      0.000000   \n",
       "AHZQPH7HHSWLUIQFWEQ54NNKKN6A                      1.000000   \n",
       "AHZT6MVWNF4GG6FISMZMORKZKK4A                      0.000000   \n",
       "AHZXMBKQJTVG2J7P7EB5WCYTOLDQ                      0.081474   \n",
       "AHZYZ2BUDD7WAJPW5G6K2DK5LYPQ                      0.000000   \n",
       "\n",
       "user                          AHZT6MVWNF4GG6FISMZMORKZKK4A  \\\n",
       "user                                                         \n",
       "AE23JYHGEN3D35CHE5OQQYJOW5RA                      0.000000   \n",
       "AE23LDQTB7L76AP6E6WPBFVYL5DA                      0.000000   \n",
       "AE23WLBRYKEC67DM43M6E2MF7GPQ                      0.000000   \n",
       "AE23ZFVUOMPKR57BVSWXV34QLMVA                      0.000000   \n",
       "AE24I2EU3AJAAKBXF367XSV37U6Q                      0.000000   \n",
       "...                                                    ...   \n",
       "AHZPLXCE5YQMLXFFBSURYHZUGMTA                      0.000000   \n",
       "AHZQPH7HHSWLUIQFWEQ54NNKKN6A                      0.000000   \n",
       "AHZT6MVWNF4GG6FISMZMORKZKK4A                      1.000000   \n",
       "AHZXMBKQJTVG2J7P7EB5WCYTOLDQ                      0.184006   \n",
       "AHZYZ2BUDD7WAJPW5G6K2DK5LYPQ                      0.000000   \n",
       "\n",
       "user                          AHZXMBKQJTVG2J7P7EB5WCYTOLDQ  \\\n",
       "user                                                         \n",
       "AE23JYHGEN3D35CHE5OQQYJOW5RA                      0.000000   \n",
       "AE23LDQTB7L76AP6E6WPBFVYL5DA                      0.109938   \n",
       "AE23WLBRYKEC67DM43M6E2MF7GPQ                      0.033162   \n",
       "AE23ZFVUOMPKR57BVSWXV34QLMVA                      0.000000   \n",
       "AE24I2EU3AJAAKBXF367XSV37U6Q                      0.000000   \n",
       "...                                                    ...   \n",
       "AHZPLXCE5YQMLXFFBSURYHZUGMTA                      0.000000   \n",
       "AHZQPH7HHSWLUIQFWEQ54NNKKN6A                      0.081474   \n",
       "AHZT6MVWNF4GG6FISMZMORKZKK4A                      0.184006   \n",
       "AHZXMBKQJTVG2J7P7EB5WCYTOLDQ                      1.000000   \n",
       "AHZYZ2BUDD7WAJPW5G6K2DK5LYPQ                      0.000000   \n",
       "\n",
       "user                          AHZYZ2BUDD7WAJPW5G6K2DK5LYPQ  \n",
       "user                                                        \n",
       "AE23JYHGEN3D35CHE5OQQYJOW5RA                      0.000000  \n",
       "AE23LDQTB7L76AP6E6WPBFVYL5DA                      0.161294  \n",
       "AE23WLBRYKEC67DM43M6E2MF7GPQ                      0.000000  \n",
       "AE23ZFVUOMPKR57BVSWXV34QLMVA                      0.053323  \n",
       "AE24I2EU3AJAAKBXF367XSV37U6Q                      0.000000  \n",
       "...                                                    ...  \n",
       "AHZPLXCE5YQMLXFFBSURYHZUGMTA                      0.000000  \n",
       "AHZQPH7HHSWLUIQFWEQ54NNKKN6A                      0.000000  \n",
       "AHZT6MVWNF4GG6FISMZMORKZKK4A                      0.000000  \n",
       "AHZXMBKQJTVG2J7P7EB5WCYTOLDQ                      0.000000  \n",
       "AHZYZ2BUDD7WAJPW5G6K2DK5LYPQ                      1.000000  \n",
       "\n",
       "[5107 rows x 5107 columns]"
      ]
     },
     "execution_count": 33,
     "metadata": {},
     "output_type": "execute_result"
    }
   ],
   "source": [
    "df_similarity_matrix = pd.DataFrame(similarity_matrix, index= df_recommendation_pivot.index, columns= df_recommendation_pivot.index)\n",
    "df_similarity_matrix"
   ]
  },
  {
   "cell_type": "markdown",
   "metadata": {},
   "source": [
    "#### **Selection of a user :** "
   ]
  },
  {
   "cell_type": "code",
   "execution_count": 159,
   "metadata": {},
   "outputs": [],
   "source": [
    "# Get similar users :\n",
    "select_userid = \"AE23LDQTB7L76AP6E6WPBFVYL5DA\"\n",
    "\n",
    "# Weight matrix which takes the weighted average of similarities between a user and other users. \n",
    "# The weight matrix is used to give more importance to users who provide more frequent ratings \n",
    "# than others when calculating the average similarity : \n",
    "\n",
    "similarities = df_similarity_matrix[select_userid].drop(select_userid) # Nous donne le vecteur des similarité de notre utilsateur avec les autres\n",
    "weights = similarities/similarities.sum() # calcul des poids "
   ]
  },
  {
   "cell_type": "code",
   "execution_count": 140,
   "metadata": {},
   "outputs": [
    {
     "data": {
      "text/plain": [
       "user\n",
       "AE23JYHGEN3D35CHE5OQQYJOW5RA    0.000000\n",
       "AE23WLBRYKEC67DM43M6E2MF7GPQ    0.000000\n",
       "AE23ZFVUOMPKR57BVSWXV34QLMVA    0.039735\n",
       "AE24I2EU3AJAAKBXF367XSV37U6Q    0.000000\n",
       "AE24ZJSXZFHFKZF3UYR5CBAYGL7A    0.000000\n",
       "                                  ...   \n",
       "AHZPLXCE5YQMLXFFBSURYHZUGMTA    0.000000\n",
       "AHZQPH7HHSWLUIQFWEQ54NNKKN6A    0.000000\n",
       "AHZT6MVWNF4GG6FISMZMORKZKK4A    0.000000\n",
       "AHZXMBKQJTVG2J7P7EB5WCYTOLDQ    0.109938\n",
       "AHZYZ2BUDD7WAJPW5G6K2DK5LYPQ    0.161294\n",
       "Name: AE23LDQTB7L76AP6E6WPBFVYL5DA, Length: 5106, dtype: float64"
      ]
     },
     "execution_count": 140,
     "metadata": {},
     "output_type": "execute_result"
    }
   ],
   "source": [
    "similarities"
   ]
  },
  {
   "cell_type": "code",
   "execution_count": 136,
   "metadata": {},
   "outputs": [
    {
     "name": "stdout",
     "output_type": "stream",
     "text": [
      "URL de l'image de l'objet https://images-na.ssl-images-amazon.com/images/I/61mt0r+0QQL._SL256_.jpg\n"
     ]
    },
    {
     "data": {
      "text/html": [
       "<img src=\"https://images-na.ssl-images-amazon.com/images/I/61mt0r+0QQL._SL256_.jpg\"/>"
      ],
      "text/plain": [
       "<IPython.core.display.Image object>"
      ]
     },
     "metadata": {},
     "output_type": "display_data"
    },
    {
     "name": "stdout",
     "output_type": "stream",
     "text": [
      "URL de l'image de l'objet https://images-na.ssl-images-amazon.com/images/I/710iW-iOQSL._SL256_.jpg\n"
     ]
    },
    {
     "data": {
      "text/html": [
       "<img src=\"https://images-na.ssl-images-amazon.com/images/I/710iW-iOQSL._SL256_.jpg\"/>"
      ],
      "text/plain": [
       "<IPython.core.display.Image object>"
      ]
     },
     "metadata": {},
     "output_type": "display_data"
    },
    {
     "name": "stdout",
     "output_type": "stream",
     "text": [
      "URL de l'image de l'objet https://m.media-amazon.com/images/I/81A37bd-CuL._SL256_.jpg\n"
     ]
    },
    {
     "data": {
      "text/html": [
       "<img src=\"https://m.media-amazon.com/images/I/81A37bd-CuL._SL256_.jpg\"/>"
      ],
      "text/plain": [
       "<IPython.core.display.Image object>"
      ]
     },
     "metadata": {},
     "output_type": "display_data"
    },
    {
     "name": "stdout",
     "output_type": "stream",
     "text": [
      "URL de l'image de l'objet https://m.media-amazon.com/images/I/61JHITA6ZxL._SL256_.jpg\n"
     ]
    },
    {
     "data": {
      "text/html": [
       "<img src=\"https://m.media-amazon.com/images/I/61JHITA6ZxL._SL256_.jpg\"/>"
      ],
      "text/plain": [
       "<IPython.core.display.Image object>"
      ]
     },
     "metadata": {},
     "output_type": "display_data"
    },
    {
     "name": "stdout",
     "output_type": "stream",
     "text": [
      "URL de l'image de l'objet https://m.media-amazon.com/images/I/611yOqc6B8L._SL256_.jpg\n"
     ]
    },
    {
     "data": {
      "text/html": [
       "<img src=\"https://m.media-amazon.com/images/I/611yOqc6B8L._SL256_.jpg\"/>"
      ],
      "text/plain": [
       "<IPython.core.display.Image object>"
      ]
     },
     "metadata": {},
     "output_type": "display_data"
    },
    {
     "name": "stdout",
     "output_type": "stream",
     "text": [
      "URL de l'image de l'objet https://images-na.ssl-images-amazon.com/images/I/71ToLBwHiZL._SL256_.jpg\n"
     ]
    },
    {
     "data": {
      "text/html": [
       "<img src=\"https://images-na.ssl-images-amazon.com/images/I/71ToLBwHiZL._SL256_.jpg\"/>"
      ],
      "text/plain": [
       "<IPython.core.display.Image object>"
      ]
     },
     "metadata": {},
     "output_type": "display_data"
    },
    {
     "name": "stdout",
     "output_type": "stream",
     "text": [
      "URL de l'image de l'objet https://images-na.ssl-images-amazon.com/images/I/71LuAdf274L._SL256_.jpg\n"
     ]
    },
    {
     "data": {
      "text/html": [
       "<img src=\"https://images-na.ssl-images-amazon.com/images/I/71LuAdf274L._SL256_.jpg\"/>"
      ],
      "text/plain": [
       "<IPython.core.display.Image object>"
      ]
     },
     "metadata": {},
     "output_type": "display_data"
    },
    {
     "name": "stdout",
     "output_type": "stream",
     "text": [
      "URL de l'image de l'objet https://images-na.ssl-images-amazon.com/images/I/B16ytAeKkbS._SL256_.jpg\n"
     ]
    },
    {
     "data": {
      "text/html": [
       "<img src=\"https://images-na.ssl-images-amazon.com/images/I/B16ytAeKkbS._SL256_.jpg\"/>"
      ],
      "text/plain": [
       "<IPython.core.display.Image object>"
      ]
     },
     "metadata": {},
     "output_type": "display_data"
    },
    {
     "name": "stdout",
     "output_type": "stream",
     "text": [
      "URL de l'image de l'objet https://m.media-amazon.com/images/I/612EmYtaRlL._SL256_.jpg\n"
     ]
    },
    {
     "data": {
      "text/html": [
       "<img src=\"https://m.media-amazon.com/images/I/612EmYtaRlL._SL256_.jpg\"/>"
      ],
      "text/plain": [
       "<IPython.core.display.Image object>"
      ]
     },
     "metadata": {},
     "output_type": "display_data"
    },
    {
     "name": "stdout",
     "output_type": "stream",
     "text": [
      "URL de l'image de l'objet https://images-na.ssl-images-amazon.com/images/I/91Xj+2m1pzL._SL256_.jpg\n"
     ]
    },
    {
     "data": {
      "text/html": [
       "<img src=\"https://images-na.ssl-images-amazon.com/images/I/91Xj+2m1pzL._SL256_.jpg\"/>"
      ],
      "text/plain": [
       "<IPython.core.display.Image object>"
      ]
     },
     "metadata": {},
     "output_type": "display_data"
    },
    {
     "name": "stdout",
     "output_type": "stream",
     "text": [
      "URL de l'image de l'objet https://images-na.ssl-images-amazon.com/images/I/71OF+jjxZsL._SL256_.jpg\n"
     ]
    },
    {
     "data": {
      "text/html": [
       "<img src=\"https://images-na.ssl-images-amazon.com/images/I/71OF+jjxZsL._SL256_.jpg\"/>"
      ],
      "text/plain": [
       "<IPython.core.display.Image object>"
      ]
     },
     "metadata": {},
     "output_type": "display_data"
    },
    {
     "name": "stdout",
     "output_type": "stream",
     "text": [
      "URL de l'image de l'objet https://images-na.ssl-images-amazon.com/images/I/81pTbG5M0WL._SL256_.jpg\n"
     ]
    },
    {
     "data": {
      "text/html": [
       "<img src=\"https://images-na.ssl-images-amazon.com/images/I/81pTbG5M0WL._SL256_.jpg\"/>"
      ],
      "text/plain": [
       "<IPython.core.display.Image object>"
      ]
     },
     "metadata": {},
     "output_type": "display_data"
    },
    {
     "name": "stdout",
     "output_type": "stream",
     "text": [
      "URL de l'image de l'objet https://m.media-amazon.com/images/I/919nNPuCIgL._SL256_.jpg\n"
     ]
    },
    {
     "data": {
      "text/html": [
       "<img src=\"https://m.media-amazon.com/images/I/919nNPuCIgL._SL256_.jpg\"/>"
      ],
      "text/plain": [
       "<IPython.core.display.Image object>"
      ]
     },
     "metadata": {},
     "output_type": "display_data"
    },
    {
     "name": "stdout",
     "output_type": "stream",
     "text": [
      "URL de l'image de l'objet https://images-na.ssl-images-amazon.com/images/I/719r2UVnjGL._SL256_.jpg\n"
     ]
    },
    {
     "data": {
      "text/html": [
       "<img src=\"https://images-na.ssl-images-amazon.com/images/I/719r2UVnjGL._SL256_.jpg\"/>"
      ],
      "text/plain": [
       "<IPython.core.display.Image object>"
      ]
     },
     "metadata": {},
     "output_type": "display_data"
    },
    {
     "name": "stdout",
     "output_type": "stream",
     "text": [
      "URL de l'image de l'objet https://images-na.ssl-images-amazon.com/images/I/91VL6NonjcL._SL256_.jpg\n"
     ]
    },
    {
     "data": {
      "text/html": [
       "<img src=\"https://images-na.ssl-images-amazon.com/images/I/91VL6NonjcL._SL256_.jpg\"/>"
      ],
      "text/plain": [
       "<IPython.core.display.Image object>"
      ]
     },
     "metadata": {},
     "output_type": "display_data"
    },
    {
     "name": "stdout",
     "output_type": "stream",
     "text": [
      "URL de l'image de l'objet https://m.media-amazon.com/images/I/511miE781qL._SL256_.jpg\n"
     ]
    },
    {
     "data": {
      "text/html": [
       "<img src=\"https://m.media-amazon.com/images/I/511miE781qL._SL256_.jpg\"/>"
      ],
      "text/plain": [
       "<IPython.core.display.Image object>"
      ]
     },
     "metadata": {},
     "output_type": "display_data"
    },
    {
     "name": "stdout",
     "output_type": "stream",
     "text": [
      "URL de l'image de l'objet https://images-na.ssl-images-amazon.com/images/I/71KWkPtyJnL._SL256_.jpg\n"
     ]
    },
    {
     "data": {
      "text/html": [
       "<img src=\"https://images-na.ssl-images-amazon.com/images/I/71KWkPtyJnL._SL256_.jpg\"/>"
      ],
      "text/plain": [
       "<IPython.core.display.Image object>"
      ]
     },
     "metadata": {},
     "output_type": "display_data"
    }
   ],
   "source": [
    "# products that this user have bought : \n",
    "products_rated_by_a = df_recommendation_pivot.loc[select_userid, df_recommendation_pivot.loc[select_userid, :] != 0].index\n",
    "for id in products_rated_by_a : \n",
    "    select_an_images(id)"
   ]
  },
  {
   "cell_type": "markdown",
   "metadata": {},
   "source": [
    "#### **Similar Users  :** \n",
    "\n",
    "we calculate the similarity between a **target user** and other users in the system to find similar users. The process involves creating a **weight matrix** that accounts for the similarity between the target user and other users, normalizing the similarities to give more weight to users with higher similarity.\n",
    "\n",
    "1. **Target User Selection:**\n",
    "   To begin, we first choose a **target user** (let’s denote this user as \\( u_t \\)) for whom we want to find similar users. For this example, we choose `user id = AE3335XF4PMHSXKTW5B7N7EALG3Q` as the target user:\n",
    "   \n",
    "   $$ u_t = AE3335XF4PMHSXKTW5B7N7EALG3Q $$\n",
    "\n",
    "2. **Similarity Calculation:**\n",
    "   We calculate the **similarity** between the target user \\( u_t \\) and all other users using a **similarity matrix** \\( S \\), where each entry \\( S_{ij} \\) represents the similarity between user \\( i \\) and user \\( j \\). \n",
    "\n",
    "   The **similarity vector** for the target user \\( u_t \\) is represented as:\n",
    "   \n",
    "   $$ \\text{similarities}_{u_t} = S_{u_t} $$\n",
    "   \n",
    "   we also  remove the similarity between the target user and themselves:\n",
    "   \n",
    "   $$ \\text{similarities}_{u_t, \\text{others}} = S_{u_t} \\setminus \\{ S_{u_t, u_t} \\} $$\n",
    "\n",
    "1. **Weight Calculation:**\n",
    "   After obtaining the similarity scores between the target user \\( u_t \\) and other users, we create a **weight matrix** where each user's similarity score is normalized. This ensures that users who are more similar to the target user are given higher weight. The weight for each user \\( i \\) is calculated by normalizing the similarity score:\n",
    "\n",
    "   $$ w_i = \\frac{S_{u_t, i}}{\\sum_{j \\neq u_t} S_{u_t, j}} $$\n",
    "\n",
    "   Where:\n",
    "   - \\( w_i \\) is the weight for user \\( i \\),\n",
    "   - \\( S_{u_t, i} \\) is the similarity between the target user \\( u_t \\) and user \\( i \\),\n",
    "   - The denominator is the sum of the similarities between the target user \\( u_t \\) and all other users (excluding \\( u_t \\)).\n",
    "\n"
   ]
  },
  {
   "cell_type": "markdown",
   "metadata": {},
   "source": [
    "#### **Similar users :** "
   ]
  },
  {
   "cell_type": "code",
   "execution_count": 145,
   "metadata": {},
   "outputs": [
    {
     "name": "stdout",
     "output_type": "stream",
     "text": [
      "The similar (with similarity bigger than 0.3 of cosine similarity) users to user AE23LDQTB7L76AP6E6WPBFVYL5DA are  : \n",
      "User: AE23LDQTB7L76AP6E6WPBFVYL5DA, Similarity: 1.0\n",
      "User: AGKLMAODCW3RR4EBYZHPG7VV7J6A, Similarity: 0.3138762255948909\n",
      "User: AGWSL6RCSUEPR5RGTVMO5HERQUEA, Similarity: 0.3082056047334018\n"
     ]
    }
   ],
   "source": [
    "#num of silimar users\n",
    "k = 10\n",
    "\n",
    "#set a threshold for similarity : only users with a similarity score greater than 0.5 will be considered\n",
    "user_similarity_threshold =  0.3\n",
    "\n",
    "# top k similar users\n",
    "similar_users = df_similarity_matrix[df_similarity_matrix[select_userid]>user_similarity_threshold][select_userid].sort_values(ascending=False)[:k]\n",
    "similar_users_df = similar_users.to_frame(name='similarity')\n",
    "\n",
    "print (f\"The similar (with similarity bigger than {user_similarity_threshold} of cosine similarity) users to user {select_userid} are  : \")\n",
    "\n",
    "for index, row in similar_users_df.iterrows():\n",
    "    similarity = row['similarity'] \n",
    "    print(f\"User: {index}, Similarity: {similarity}\")"
   ]
  },
  {
   "cell_type": "code",
   "execution_count": 146,
   "metadata": {},
   "outputs": [
    {
     "data": {
      "text/html": [
       "<div>\n",
       "<style scoped>\n",
       "    .dataframe tbody tr th:only-of-type {\n",
       "        vertical-align: middle;\n",
       "    }\n",
       "\n",
       "    .dataframe tbody tr th {\n",
       "        vertical-align: top;\n",
       "    }\n",
       "\n",
       "    .dataframe thead th {\n",
       "        text-align: right;\n",
       "    }\n",
       "</style>\n",
       "<table border=\"1\" class=\"dataframe\">\n",
       "  <thead>\n",
       "    <tr style=\"text-align: right;\">\n",
       "      <th></th>\n",
       "      <th>similarity</th>\n",
       "    </tr>\n",
       "    <tr>\n",
       "      <th>user</th>\n",
       "      <th></th>\n",
       "    </tr>\n",
       "  </thead>\n",
       "  <tbody>\n",
       "    <tr>\n",
       "      <th>AE23LDQTB7L76AP6E6WPBFVYL5DA</th>\n",
       "      <td>1.000000</td>\n",
       "    </tr>\n",
       "    <tr>\n",
       "      <th>AGKLMAODCW3RR4EBYZHPG7VV7J6A</th>\n",
       "      <td>0.313876</td>\n",
       "    </tr>\n",
       "    <tr>\n",
       "      <th>AGWSL6RCSUEPR5RGTVMO5HERQUEA</th>\n",
       "      <td>0.308206</td>\n",
       "    </tr>\n",
       "  </tbody>\n",
       "</table>\n",
       "</div>"
      ],
      "text/plain": [
       "                              similarity\n",
       "user                                    \n",
       "AE23LDQTB7L76AP6E6WPBFVYL5DA    1.000000\n",
       "AGKLMAODCW3RR4EBYZHPG7VV7J6A    0.313876\n",
       "AGWSL6RCSUEPR5RGTVMO5HERQUEA    0.308206"
      ]
     },
     "execution_count": 146,
     "metadata": {},
     "output_type": "execute_result"
    }
   ],
   "source": [
    "similar_users_df"
   ]
  },
  {
   "cell_type": "markdown",
   "metadata": {},
   "source": [
    "#### **Bought and not bought products :** "
   ]
  },
  {
   "cell_type": "code",
   "execution_count": 63,
   "metadata": {},
   "outputs": [
    {
     "data": {
      "text/html": [
       "<div>\n",
       "<style scoped>\n",
       "    .dataframe tbody tr th:only-of-type {\n",
       "        vertical-align: middle;\n",
       "    }\n",
       "\n",
       "    .dataframe tbody tr th {\n",
       "        vertical-align: top;\n",
       "    }\n",
       "\n",
       "    .dataframe thead th {\n",
       "        text-align: right;\n",
       "    }\n",
       "</style>\n",
       "<table border=\"1\" class=\"dataframe\">\n",
       "  <thead>\n",
       "    <tr style=\"text-align: right;\">\n",
       "      <th>id</th>\n",
       "      <th>B005M0MUQK</th>\n",
       "      <th>B007T8CUNG</th>\n",
       "      <th>B008BPI2OW</th>\n",
       "      <th>B00CGFRJ2Y</th>\n",
       "      <th>B00CRQWMYM</th>\n",
       "      <th>B015IJIO5U</th>\n",
       "      <th>B07F69KR6K</th>\n",
       "      <th>B0853X3VDC</th>\n",
       "      <th>B09198262S</th>\n",
       "      <th>B0928HW2P4</th>\n",
       "      <th>B09NLV5LBK</th>\n",
       "      <th>B0B3MWSSYF</th>\n",
       "      <th>B0B8F6LD9F</th>\n",
       "      <th>B0B95V41NR</th>\n",
       "      <th>B0BG95DG2H</th>\n",
       "      <th>B0BPJ4Q6FJ</th>\n",
       "      <th>B0BSR996X8</th>\n",
       "    </tr>\n",
       "    <tr>\n",
       "      <th>user</th>\n",
       "      <th></th>\n",
       "      <th></th>\n",
       "      <th></th>\n",
       "      <th></th>\n",
       "      <th></th>\n",
       "      <th></th>\n",
       "      <th></th>\n",
       "      <th></th>\n",
       "      <th></th>\n",
       "      <th></th>\n",
       "      <th></th>\n",
       "      <th></th>\n",
       "      <th></th>\n",
       "      <th></th>\n",
       "      <th></th>\n",
       "      <th></th>\n",
       "      <th></th>\n",
       "    </tr>\n",
       "  </thead>\n",
       "  <tbody>\n",
       "    <tr>\n",
       "      <th>AE23LDQTB7L76AP6E6WPBFVYL5DA</th>\n",
       "      <td>4.0</td>\n",
       "      <td>5.0</td>\n",
       "      <td>5.0</td>\n",
       "      <td>5.0</td>\n",
       "      <td>5.0</td>\n",
       "      <td>5.0</td>\n",
       "      <td>5.0</td>\n",
       "      <td>5.0</td>\n",
       "      <td>5.0</td>\n",
       "      <td>5.0</td>\n",
       "      <td>5.0</td>\n",
       "      <td>5.0</td>\n",
       "      <td>5.0</td>\n",
       "      <td>5.0</td>\n",
       "      <td>5.0</td>\n",
       "      <td>5.0</td>\n",
       "      <td>5.0</td>\n",
       "    </tr>\n",
       "  </tbody>\n",
       "</table>\n",
       "</div>"
      ],
      "text/plain": [
       "id                            B005M0MUQK  B007T8CUNG  B008BPI2OW  B00CGFRJ2Y  \\\n",
       "user                                                                           \n",
       "AE23LDQTB7L76AP6E6WPBFVYL5DA         4.0         5.0         5.0         5.0   \n",
       "\n",
       "id                            B00CRQWMYM  B015IJIO5U  B07F69KR6K  B0853X3VDC  \\\n",
       "user                                                                           \n",
       "AE23LDQTB7L76AP6E6WPBFVYL5DA         5.0         5.0         5.0         5.0   \n",
       "\n",
       "id                            B09198262S  B0928HW2P4  B09NLV5LBK  B0B3MWSSYF  \\\n",
       "user                                                                           \n",
       "AE23LDQTB7L76AP6E6WPBFVYL5DA         5.0         5.0         5.0         5.0   \n",
       "\n",
       "id                            B0B8F6LD9F  B0B95V41NR  B0BG95DG2H  B0BPJ4Q6FJ  \\\n",
       "user                                                                           \n",
       "AE23LDQTB7L76AP6E6WPBFVYL5DA         5.0         5.0         5.0         5.0   \n",
       "\n",
       "id                            B0BSR996X8  \n",
       "user                                      \n",
       "AE23LDQTB7L76AP6E6WPBFVYL5DA         5.0  "
      ]
     },
     "execution_count": 63,
     "metadata": {},
     "output_type": "execute_result"
    }
   ],
   "source": [
    "# The products the selected user boughts and rateed more than 3/5 :\n",
    "bought_products = df_recommendation_pivot.loc[df_recommendation_pivot.index== select_userid, df_recommendation_pivot.loc[select_userid,:]>=3]\n",
    "bought_products"
   ]
  },
  {
   "cell_type": "code",
   "execution_count": 82,
   "metadata": {},
   "outputs": [],
   "source": [
    "#list of non rated product by our user\n",
    "#not_rated_by_user = df_recommendation_pivot[df_recommendation_pivot.loc[select_userid, :] == 0]\n",
    "not_rated_by_user = df_recommendation_pivot[(df_recommendation_pivot.loc[select_userid, :] == 0).index[(df_recommendation_pivot.loc[select_userid, :] == 0).values]]"
   ]
  },
  {
   "cell_type": "code",
   "execution_count": 88,
   "metadata": {},
   "outputs": [],
   "source": [
    "not_bought_products = df_recommendation_pivot.loc[\n",
    "    df_recommendation_pivot.index != select_userid,  # Exclude selected user\n",
    "    not_rated_by_user.columns  # products not rated by the selected user\n",
    "]\n"
   ]
  },
  {
   "cell_type": "code",
   "execution_count": 141,
   "metadata": {},
   "outputs": [
    {
     "data": {
      "text/html": [
       "<div>\n",
       "<style scoped>\n",
       "    .dataframe tbody tr th:only-of-type {\n",
       "        vertical-align: middle;\n",
       "    }\n",
       "\n",
       "    .dataframe tbody tr th {\n",
       "        vertical-align: top;\n",
       "    }\n",
       "\n",
       "    .dataframe thead th {\n",
       "        text-align: right;\n",
       "    }\n",
       "</style>\n",
       "<table border=\"1\" class=\"dataframe\">\n",
       "  <thead>\n",
       "    <tr style=\"text-align: right;\">\n",
       "      <th>id</th>\n",
       "      <th>1423414357</th>\n",
       "      <th>B00005ML71</th>\n",
       "      <th>B0002CZVWS</th>\n",
       "      <th>B0002D01K4</th>\n",
       "      <th>B0002D01KO</th>\n",
       "      <th>B0002D0CCQ</th>\n",
       "      <th>B0002D0CEO</th>\n",
       "      <th>B0002D0CNA</th>\n",
       "      <th>B0002D0L5E</th>\n",
       "      <th>B0002D0Q2W</th>\n",
       "      <th>...</th>\n",
       "      <th>B0C6J149WZ</th>\n",
       "      <th>B0C6J1BN77</th>\n",
       "      <th>B0C6J1X7TD</th>\n",
       "      <th>B0C6J2DPBW</th>\n",
       "      <th>B0C994NVQK</th>\n",
       "      <th>B0C9NGP88D</th>\n",
       "      <th>B0CB98SMQR</th>\n",
       "      <th>B0CBHMCGNS</th>\n",
       "      <th>B0CBK1WSMR</th>\n",
       "      <th>B0CCK4YYNM</th>\n",
       "    </tr>\n",
       "    <tr>\n",
       "      <th>user</th>\n",
       "      <th></th>\n",
       "      <th></th>\n",
       "      <th></th>\n",
       "      <th></th>\n",
       "      <th></th>\n",
       "      <th></th>\n",
       "      <th></th>\n",
       "      <th></th>\n",
       "      <th></th>\n",
       "      <th></th>\n",
       "      <th></th>\n",
       "      <th></th>\n",
       "      <th></th>\n",
       "      <th></th>\n",
       "      <th></th>\n",
       "      <th></th>\n",
       "      <th></th>\n",
       "      <th></th>\n",
       "      <th></th>\n",
       "      <th></th>\n",
       "      <th></th>\n",
       "    </tr>\n",
       "  </thead>\n",
       "  <tbody>\n",
       "    <tr>\n",
       "      <th>AE23JYHGEN3D35CHE5OQQYJOW5RA</th>\n",
       "      <td>0.0</td>\n",
       "      <td>0.0</td>\n",
       "      <td>0.0</td>\n",
       "      <td>0.0</td>\n",
       "      <td>0.0</td>\n",
       "      <td>0.0</td>\n",
       "      <td>0.0</td>\n",
       "      <td>0.0</td>\n",
       "      <td>0.0</td>\n",
       "      <td>0.0</td>\n",
       "      <td>...</td>\n",
       "      <td>0.0</td>\n",
       "      <td>0.0</td>\n",
       "      <td>0.0</td>\n",
       "      <td>0.0</td>\n",
       "      <td>0.0</td>\n",
       "      <td>0.0</td>\n",
       "      <td>0.0</td>\n",
       "      <td>0.0</td>\n",
       "      <td>0.0</td>\n",
       "      <td>0.0</td>\n",
       "    </tr>\n",
       "    <tr>\n",
       "      <th>AE23WLBRYKEC67DM43M6E2MF7GPQ</th>\n",
       "      <td>5.0</td>\n",
       "      <td>0.0</td>\n",
       "      <td>0.0</td>\n",
       "      <td>0.0</td>\n",
       "      <td>0.0</td>\n",
       "      <td>0.0</td>\n",
       "      <td>0.0</td>\n",
       "      <td>0.0</td>\n",
       "      <td>0.0</td>\n",
       "      <td>0.0</td>\n",
       "      <td>...</td>\n",
       "      <td>0.0</td>\n",
       "      <td>0.0</td>\n",
       "      <td>0.0</td>\n",
       "      <td>0.0</td>\n",
       "      <td>0.0</td>\n",
       "      <td>0.0</td>\n",
       "      <td>0.0</td>\n",
       "      <td>0.0</td>\n",
       "      <td>0.0</td>\n",
       "      <td>0.0</td>\n",
       "    </tr>\n",
       "    <tr>\n",
       "      <th>AE23ZFVUOMPKR57BVSWXV34QLMVA</th>\n",
       "      <td>0.0</td>\n",
       "      <td>0.0</td>\n",
       "      <td>5.0</td>\n",
       "      <td>0.0</td>\n",
       "      <td>0.0</td>\n",
       "      <td>0.0</td>\n",
       "      <td>0.0</td>\n",
       "      <td>0.0</td>\n",
       "      <td>0.0</td>\n",
       "      <td>0.0</td>\n",
       "      <td>...</td>\n",
       "      <td>0.0</td>\n",
       "      <td>0.0</td>\n",
       "      <td>0.0</td>\n",
       "      <td>0.0</td>\n",
       "      <td>0.0</td>\n",
       "      <td>0.0</td>\n",
       "      <td>0.0</td>\n",
       "      <td>0.0</td>\n",
       "      <td>0.0</td>\n",
       "      <td>0.0</td>\n",
       "    </tr>\n",
       "    <tr>\n",
       "      <th>AE24I2EU3AJAAKBXF367XSV37U6Q</th>\n",
       "      <td>0.0</td>\n",
       "      <td>0.0</td>\n",
       "      <td>0.0</td>\n",
       "      <td>0.0</td>\n",
       "      <td>0.0</td>\n",
       "      <td>0.0</td>\n",
       "      <td>0.0</td>\n",
       "      <td>0.0</td>\n",
       "      <td>0.0</td>\n",
       "      <td>0.0</td>\n",
       "      <td>...</td>\n",
       "      <td>0.0</td>\n",
       "      <td>0.0</td>\n",
       "      <td>0.0</td>\n",
       "      <td>0.0</td>\n",
       "      <td>5.0</td>\n",
       "      <td>0.0</td>\n",
       "      <td>0.0</td>\n",
       "      <td>0.0</td>\n",
       "      <td>0.0</td>\n",
       "      <td>0.0</td>\n",
       "    </tr>\n",
       "    <tr>\n",
       "      <th>AE24ZJSXZFHFKZF3UYR5CBAYGL7A</th>\n",
       "      <td>0.0</td>\n",
       "      <td>0.0</td>\n",
       "      <td>0.0</td>\n",
       "      <td>0.0</td>\n",
       "      <td>0.0</td>\n",
       "      <td>0.0</td>\n",
       "      <td>0.0</td>\n",
       "      <td>0.0</td>\n",
       "      <td>0.0</td>\n",
       "      <td>0.0</td>\n",
       "      <td>...</td>\n",
       "      <td>0.0</td>\n",
       "      <td>0.0</td>\n",
       "      <td>0.0</td>\n",
       "      <td>0.0</td>\n",
       "      <td>0.0</td>\n",
       "      <td>0.0</td>\n",
       "      <td>0.0</td>\n",
       "      <td>0.0</td>\n",
       "      <td>0.0</td>\n",
       "      <td>0.0</td>\n",
       "    </tr>\n",
       "    <tr>\n",
       "      <th>...</th>\n",
       "      <td>...</td>\n",
       "      <td>...</td>\n",
       "      <td>...</td>\n",
       "      <td>...</td>\n",
       "      <td>...</td>\n",
       "      <td>...</td>\n",
       "      <td>...</td>\n",
       "      <td>...</td>\n",
       "      <td>...</td>\n",
       "      <td>...</td>\n",
       "      <td>...</td>\n",
       "      <td>...</td>\n",
       "      <td>...</td>\n",
       "      <td>...</td>\n",
       "      <td>...</td>\n",
       "      <td>...</td>\n",
       "      <td>...</td>\n",
       "      <td>...</td>\n",
       "      <td>...</td>\n",
       "      <td>...</td>\n",
       "      <td>...</td>\n",
       "    </tr>\n",
       "    <tr>\n",
       "      <th>AHZPLXCE5YQMLXFFBSURYHZUGMTA</th>\n",
       "      <td>0.0</td>\n",
       "      <td>0.0</td>\n",
       "      <td>0.0</td>\n",
       "      <td>0.0</td>\n",
       "      <td>0.0</td>\n",
       "      <td>0.0</td>\n",
       "      <td>0.0</td>\n",
       "      <td>0.0</td>\n",
       "      <td>0.0</td>\n",
       "      <td>0.0</td>\n",
       "      <td>...</td>\n",
       "      <td>0.0</td>\n",
       "      <td>0.0</td>\n",
       "      <td>0.0</td>\n",
       "      <td>0.0</td>\n",
       "      <td>0.0</td>\n",
       "      <td>0.0</td>\n",
       "      <td>0.0</td>\n",
       "      <td>0.0</td>\n",
       "      <td>0.0</td>\n",
       "      <td>0.0</td>\n",
       "    </tr>\n",
       "    <tr>\n",
       "      <th>AHZQPH7HHSWLUIQFWEQ54NNKKN6A</th>\n",
       "      <td>0.0</td>\n",
       "      <td>0.0</td>\n",
       "      <td>0.0</td>\n",
       "      <td>0.0</td>\n",
       "      <td>0.0</td>\n",
       "      <td>0.0</td>\n",
       "      <td>0.0</td>\n",
       "      <td>0.0</td>\n",
       "      <td>0.0</td>\n",
       "      <td>0.0</td>\n",
       "      <td>...</td>\n",
       "      <td>0.0</td>\n",
       "      <td>0.0</td>\n",
       "      <td>0.0</td>\n",
       "      <td>0.0</td>\n",
       "      <td>0.0</td>\n",
       "      <td>0.0</td>\n",
       "      <td>0.0</td>\n",
       "      <td>0.0</td>\n",
       "      <td>0.0</td>\n",
       "      <td>0.0</td>\n",
       "    </tr>\n",
       "    <tr>\n",
       "      <th>AHZT6MVWNF4GG6FISMZMORKZKK4A</th>\n",
       "      <td>0.0</td>\n",
       "      <td>0.0</td>\n",
       "      <td>0.0</td>\n",
       "      <td>0.0</td>\n",
       "      <td>0.0</td>\n",
       "      <td>0.0</td>\n",
       "      <td>0.0</td>\n",
       "      <td>0.0</td>\n",
       "      <td>0.0</td>\n",
       "      <td>0.0</td>\n",
       "      <td>...</td>\n",
       "      <td>0.0</td>\n",
       "      <td>0.0</td>\n",
       "      <td>0.0</td>\n",
       "      <td>0.0</td>\n",
       "      <td>0.0</td>\n",
       "      <td>0.0</td>\n",
       "      <td>0.0</td>\n",
       "      <td>0.0</td>\n",
       "      <td>0.0</td>\n",
       "      <td>0.0</td>\n",
       "    </tr>\n",
       "    <tr>\n",
       "      <th>AHZXMBKQJTVG2J7P7EB5WCYTOLDQ</th>\n",
       "      <td>0.0</td>\n",
       "      <td>0.0</td>\n",
       "      <td>0.0</td>\n",
       "      <td>0.0</td>\n",
       "      <td>0.0</td>\n",
       "      <td>0.0</td>\n",
       "      <td>0.0</td>\n",
       "      <td>0.0</td>\n",
       "      <td>0.0</td>\n",
       "      <td>0.0</td>\n",
       "      <td>...</td>\n",
       "      <td>0.0</td>\n",
       "      <td>0.0</td>\n",
       "      <td>0.0</td>\n",
       "      <td>0.0</td>\n",
       "      <td>0.0</td>\n",
       "      <td>0.0</td>\n",
       "      <td>0.0</td>\n",
       "      <td>0.0</td>\n",
       "      <td>0.0</td>\n",
       "      <td>0.0</td>\n",
       "    </tr>\n",
       "    <tr>\n",
       "      <th>AHZYZ2BUDD7WAJPW5G6K2DK5LYPQ</th>\n",
       "      <td>0.0</td>\n",
       "      <td>0.0</td>\n",
       "      <td>0.0</td>\n",
       "      <td>0.0</td>\n",
       "      <td>0.0</td>\n",
       "      <td>0.0</td>\n",
       "      <td>0.0</td>\n",
       "      <td>0.0</td>\n",
       "      <td>0.0</td>\n",
       "      <td>0.0</td>\n",
       "      <td>...</td>\n",
       "      <td>0.0</td>\n",
       "      <td>0.0</td>\n",
       "      <td>0.0</td>\n",
       "      <td>0.0</td>\n",
       "      <td>0.0</td>\n",
       "      <td>0.0</td>\n",
       "      <td>0.0</td>\n",
       "      <td>0.0</td>\n",
       "      <td>0.0</td>\n",
       "      <td>0.0</td>\n",
       "    </tr>\n",
       "  </tbody>\n",
       "</table>\n",
       "<p>5106 rows × 986 columns</p>\n",
       "</div>"
      ],
      "text/plain": [
       "id                            1423414357  B00005ML71  B0002CZVWS  B0002D01K4  \\\n",
       "user                                                                           \n",
       "AE23JYHGEN3D35CHE5OQQYJOW5RA         0.0         0.0         0.0         0.0   \n",
       "AE23WLBRYKEC67DM43M6E2MF7GPQ         5.0         0.0         0.0         0.0   \n",
       "AE23ZFVUOMPKR57BVSWXV34QLMVA         0.0         0.0         5.0         0.0   \n",
       "AE24I2EU3AJAAKBXF367XSV37U6Q         0.0         0.0         0.0         0.0   \n",
       "AE24ZJSXZFHFKZF3UYR5CBAYGL7A         0.0         0.0         0.0         0.0   \n",
       "...                                  ...         ...         ...         ...   \n",
       "AHZPLXCE5YQMLXFFBSURYHZUGMTA         0.0         0.0         0.0         0.0   \n",
       "AHZQPH7HHSWLUIQFWEQ54NNKKN6A         0.0         0.0         0.0         0.0   \n",
       "AHZT6MVWNF4GG6FISMZMORKZKK4A         0.0         0.0         0.0         0.0   \n",
       "AHZXMBKQJTVG2J7P7EB5WCYTOLDQ         0.0         0.0         0.0         0.0   \n",
       "AHZYZ2BUDD7WAJPW5G6K2DK5LYPQ         0.0         0.0         0.0         0.0   \n",
       "\n",
       "id                            B0002D01KO  B0002D0CCQ  B0002D0CEO  B0002D0CNA  \\\n",
       "user                                                                           \n",
       "AE23JYHGEN3D35CHE5OQQYJOW5RA         0.0         0.0         0.0         0.0   \n",
       "AE23WLBRYKEC67DM43M6E2MF7GPQ         0.0         0.0         0.0         0.0   \n",
       "AE23ZFVUOMPKR57BVSWXV34QLMVA         0.0         0.0         0.0         0.0   \n",
       "AE24I2EU3AJAAKBXF367XSV37U6Q         0.0         0.0         0.0         0.0   \n",
       "AE24ZJSXZFHFKZF3UYR5CBAYGL7A         0.0         0.0         0.0         0.0   \n",
       "...                                  ...         ...         ...         ...   \n",
       "AHZPLXCE5YQMLXFFBSURYHZUGMTA         0.0         0.0         0.0         0.0   \n",
       "AHZQPH7HHSWLUIQFWEQ54NNKKN6A         0.0         0.0         0.0         0.0   \n",
       "AHZT6MVWNF4GG6FISMZMORKZKK4A         0.0         0.0         0.0         0.0   \n",
       "AHZXMBKQJTVG2J7P7EB5WCYTOLDQ         0.0         0.0         0.0         0.0   \n",
       "AHZYZ2BUDD7WAJPW5G6K2DK5LYPQ         0.0         0.0         0.0         0.0   \n",
       "\n",
       "id                            B0002D0L5E  B0002D0Q2W  ...  B0C6J149WZ  \\\n",
       "user                                                  ...               \n",
       "AE23JYHGEN3D35CHE5OQQYJOW5RA         0.0         0.0  ...         0.0   \n",
       "AE23WLBRYKEC67DM43M6E2MF7GPQ         0.0         0.0  ...         0.0   \n",
       "AE23ZFVUOMPKR57BVSWXV34QLMVA         0.0         0.0  ...         0.0   \n",
       "AE24I2EU3AJAAKBXF367XSV37U6Q         0.0         0.0  ...         0.0   \n",
       "AE24ZJSXZFHFKZF3UYR5CBAYGL7A         0.0         0.0  ...         0.0   \n",
       "...                                  ...         ...  ...         ...   \n",
       "AHZPLXCE5YQMLXFFBSURYHZUGMTA         0.0         0.0  ...         0.0   \n",
       "AHZQPH7HHSWLUIQFWEQ54NNKKN6A         0.0         0.0  ...         0.0   \n",
       "AHZT6MVWNF4GG6FISMZMORKZKK4A         0.0         0.0  ...         0.0   \n",
       "AHZXMBKQJTVG2J7P7EB5WCYTOLDQ         0.0         0.0  ...         0.0   \n",
       "AHZYZ2BUDD7WAJPW5G6K2DK5LYPQ         0.0         0.0  ...         0.0   \n",
       "\n",
       "id                            B0C6J1BN77  B0C6J1X7TD  B0C6J2DPBW  B0C994NVQK  \\\n",
       "user                                                                           \n",
       "AE23JYHGEN3D35CHE5OQQYJOW5RA         0.0         0.0         0.0         0.0   \n",
       "AE23WLBRYKEC67DM43M6E2MF7GPQ         0.0         0.0         0.0         0.0   \n",
       "AE23ZFVUOMPKR57BVSWXV34QLMVA         0.0         0.0         0.0         0.0   \n",
       "AE24I2EU3AJAAKBXF367XSV37U6Q         0.0         0.0         0.0         5.0   \n",
       "AE24ZJSXZFHFKZF3UYR5CBAYGL7A         0.0         0.0         0.0         0.0   \n",
       "...                                  ...         ...         ...         ...   \n",
       "AHZPLXCE5YQMLXFFBSURYHZUGMTA         0.0         0.0         0.0         0.0   \n",
       "AHZQPH7HHSWLUIQFWEQ54NNKKN6A         0.0         0.0         0.0         0.0   \n",
       "AHZT6MVWNF4GG6FISMZMORKZKK4A         0.0         0.0         0.0         0.0   \n",
       "AHZXMBKQJTVG2J7P7EB5WCYTOLDQ         0.0         0.0         0.0         0.0   \n",
       "AHZYZ2BUDD7WAJPW5G6K2DK5LYPQ         0.0         0.0         0.0         0.0   \n",
       "\n",
       "id                            B0C9NGP88D  B0CB98SMQR  B0CBHMCGNS  B0CBK1WSMR  \\\n",
       "user                                                                           \n",
       "AE23JYHGEN3D35CHE5OQQYJOW5RA         0.0         0.0         0.0         0.0   \n",
       "AE23WLBRYKEC67DM43M6E2MF7GPQ         0.0         0.0         0.0         0.0   \n",
       "AE23ZFVUOMPKR57BVSWXV34QLMVA         0.0         0.0         0.0         0.0   \n",
       "AE24I2EU3AJAAKBXF367XSV37U6Q         0.0         0.0         0.0         0.0   \n",
       "AE24ZJSXZFHFKZF3UYR5CBAYGL7A         0.0         0.0         0.0         0.0   \n",
       "...                                  ...         ...         ...         ...   \n",
       "AHZPLXCE5YQMLXFFBSURYHZUGMTA         0.0         0.0         0.0         0.0   \n",
       "AHZQPH7HHSWLUIQFWEQ54NNKKN6A         0.0         0.0         0.0         0.0   \n",
       "AHZT6MVWNF4GG6FISMZMORKZKK4A         0.0         0.0         0.0         0.0   \n",
       "AHZXMBKQJTVG2J7P7EB5WCYTOLDQ         0.0         0.0         0.0         0.0   \n",
       "AHZYZ2BUDD7WAJPW5G6K2DK5LYPQ         0.0         0.0         0.0         0.0   \n",
       "\n",
       "id                            B0CCK4YYNM  \n",
       "user                                      \n",
       "AE23JYHGEN3D35CHE5OQQYJOW5RA         0.0  \n",
       "AE23WLBRYKEC67DM43M6E2MF7GPQ         0.0  \n",
       "AE23ZFVUOMPKR57BVSWXV34QLMVA         0.0  \n",
       "AE24I2EU3AJAAKBXF367XSV37U6Q         0.0  \n",
       "AE24ZJSXZFHFKZF3UYR5CBAYGL7A         0.0  \n",
       "...                                  ...  \n",
       "AHZPLXCE5YQMLXFFBSURYHZUGMTA         0.0  \n",
       "AHZQPH7HHSWLUIQFWEQ54NNKKN6A         0.0  \n",
       "AHZT6MVWNF4GG6FISMZMORKZKK4A         0.0  \n",
       "AHZXMBKQJTVG2J7P7EB5WCYTOLDQ         0.0  \n",
       "AHZYZ2BUDD7WAJPW5G6K2DK5LYPQ         0.0  \n",
       "\n",
       "[5106 rows x 986 columns]"
      ]
     },
     "execution_count": 141,
     "metadata": {},
     "output_type": "execute_result"
    }
   ],
   "source": [
    "# a sub-matrix of the recommendation pivot table containing only products that select_userid has not rated.\n",
    "not_bought_products"
   ]
  },
  {
   "cell_type": "code",
   "execution_count": 156,
   "metadata": {},
   "outputs": [],
   "source": [
    "selected_similar_users = df_similarity_matrix[select_userid].drop(select_userid)\n",
    "weights = selected_similar_users/selected_similar_users.sum()\n",
    "weighted_averages = pd.DataFrame(not_bought_products.T.dot(weights.to_numpy()), columns=[\"weighted_avg\"])"
   ]
  },
  {
   "cell_type": "code",
   "execution_count": 183,
   "metadata": {},
   "outputs": [],
   "source": [
    "# Select only the rows of not_bought_products for similar users\n",
    "similar_user_ids = similar_users_df.drop(select_userid).index\n",
    "filtered_not_bought_products = not_bought_products.loc[similar_user_ids]\n",
    "\n",
    "# Normalize weights\n",
    "weights = similar_users_df.drop(select_userid) / similar_users_df.drop(select_userid).sum()\n",
    "\n",
    "# Compute the weighted averages\n",
    "weighted_averages = filtered_not_bought_products.T.dot(weights.to_numpy())\n"
   ]
  },
  {
   "cell_type": "code",
   "execution_count": 193,
   "metadata": {},
   "outputs": [
    {
     "data": {
      "text/html": [
       "<div>\n",
       "<style scoped>\n",
       "    .dataframe tbody tr th:only-of-type {\n",
       "        vertical-align: middle;\n",
       "    }\n",
       "\n",
       "    .dataframe tbody tr th {\n",
       "        vertical-align: top;\n",
       "    }\n",
       "\n",
       "    .dataframe thead th {\n",
       "        text-align: right;\n",
       "    }\n",
       "</style>\n",
       "<table border=\"1\" class=\"dataframe\">\n",
       "  <thead>\n",
       "    <tr style=\"text-align: right;\">\n",
       "      <th></th>\n",
       "      <th>weighted_averages</th>\n",
       "    </tr>\n",
       "    <tr>\n",
       "      <th>id</th>\n",
       "      <th></th>\n",
       "    </tr>\n",
       "  </thead>\n",
       "  <tbody>\n",
       "    <tr>\n",
       "      <th>1423414357</th>\n",
       "      <td>0.0</td>\n",
       "    </tr>\n",
       "    <tr>\n",
       "      <th>B00005ML71</th>\n",
       "      <td>0.0</td>\n",
       "    </tr>\n",
       "    <tr>\n",
       "      <th>B0002CZVWS</th>\n",
       "      <td>0.0</td>\n",
       "    </tr>\n",
       "    <tr>\n",
       "      <th>B0002D01K4</th>\n",
       "      <td>0.0</td>\n",
       "    </tr>\n",
       "    <tr>\n",
       "      <th>B0002D01KO</th>\n",
       "      <td>0.0</td>\n",
       "    </tr>\n",
       "    <tr>\n",
       "      <th>...</th>\n",
       "      <td>...</td>\n",
       "    </tr>\n",
       "    <tr>\n",
       "      <th>B0C9NGP88D</th>\n",
       "      <td>0.0</td>\n",
       "    </tr>\n",
       "    <tr>\n",
       "      <th>B0CB98SMQR</th>\n",
       "      <td>0.0</td>\n",
       "    </tr>\n",
       "    <tr>\n",
       "      <th>B0CBHMCGNS</th>\n",
       "      <td>0.0</td>\n",
       "    </tr>\n",
       "    <tr>\n",
       "      <th>B0CBK1WSMR</th>\n",
       "      <td>0.0</td>\n",
       "    </tr>\n",
       "    <tr>\n",
       "      <th>B0CCK4YYNM</th>\n",
       "      <td>0.0</td>\n",
       "    </tr>\n",
       "  </tbody>\n",
       "</table>\n",
       "<p>986 rows × 1 columns</p>\n",
       "</div>"
      ],
      "text/plain": [
       "            weighted_averages\n",
       "id                           \n",
       "1423414357                0.0\n",
       "B00005ML71                0.0\n",
       "B0002CZVWS                0.0\n",
       "B0002D01K4                0.0\n",
       "B0002D01KO                0.0\n",
       "...                       ...\n",
       "B0C9NGP88D                0.0\n",
       "B0CB98SMQR                0.0\n",
       "B0CBHMCGNS                0.0\n",
       "B0CBK1WSMR                0.0\n",
       "B0CCK4YYNM                0.0\n",
       "\n",
       "[986 rows x 1 columns]"
      ]
     },
     "execution_count": 193,
     "metadata": {},
     "output_type": "execute_result"
    }
   ],
   "source": [
    "weighted_averages = pd.DataFrame(weighted_averages)#.sort_values(by=0, ascending=False))\n",
    "weighted_averages.columns = ['weighted_averages']\n",
    "\n",
    "weighted_averages.sort_values(by=\"weighted_averages\", ascending = False)"
   ]
  },
  {
   "cell_type": "code",
   "execution_count": 196,
   "metadata": {},
   "outputs": [],
   "source": [
    "top_7_recommendation = weighted_averages.sort_values(by=\"weighted_averages\", ascending = False).head(7)"
   ]
  },
  {
   "cell_type": "code",
   "execution_count": 133,
   "metadata": {},
   "outputs": [],
   "source": [
    "def select_an_images (id) : \n",
    "    url = df_images[df_images['id']== id][\"images\"]\n",
    "    first_non_empty = url[url.apply(lambda x: len(x) > 0)].iloc[0]  # Get the first non-empty value\n",
    "    url = first_non_empty[0].get(\"small_image_url\")\n",
    "    print(f\"URL de l'image de l'objet {url}\")\n",
    "    EDA_functions.show_image(url)\n"
   ]
  },
  {
   "cell_type": "code",
   "execution_count": 198,
   "metadata": {},
   "outputs": [
    {
     "name": "stdout",
     "output_type": "stream",
     "text": [
      "*************** Recommendation number 1 *************** : \n",
      " Product id : B0BK5CXZBT, associated weight : 2.4772111136146813\n",
      "URL de l'image de l'objet https://images-na.ssl-images-amazon.com/images/I/81Ji49dhQ4L._SL256_.jpg\n"
     ]
    },
    {
     "data": {
      "text/html": [
       "<img src=\"https://images-na.ssl-images-amazon.com/images/I/81Ji49dhQ4L._SL256_.jpg\"/>"
      ],
      "text/plain": [
       "<IPython.core.display.Image object>"
      ]
     },
     "metadata": {},
     "output_type": "display_data"
    },
    {
     "name": "stdout",
     "output_type": "stream",
     "text": [
      "*************** Recommendation number 2 *************** : \n",
      " Product id : B09M7F7LFB, associated weight : 1.981768890891745\n",
      "URL de l'image de l'objet https://images-na.ssl-images-amazon.com/images/I/B1M8J6Sk-dS._SL256_.jpg\n"
     ]
    },
    {
     "data": {
      "text/html": [
       "<img src=\"https://images-na.ssl-images-amazon.com/images/I/B1M8J6Sk-dS._SL256_.jpg\"/>"
      ],
      "text/plain": [
       "<IPython.core.display.Image object>"
      ]
     },
     "metadata": {},
     "output_type": "display_data"
    },
    {
     "name": "stdout",
     "output_type": "stream",
     "text": [
      "*************** Recommendation number 3 *************** : \n",
      " Product id : B009A5JA98, associated weight : 1.981768890891745\n",
      "URL de l'image de l'objet https://images-na.ssl-images-amazon.com/images/I/716-5TxPjKL._SL256_.jpg\n"
     ]
    },
    {
     "data": {
      "text/html": [
       "<img src=\"https://images-na.ssl-images-amazon.com/images/I/716-5TxPjKL._SL256_.jpg\"/>"
      ],
      "text/plain": [
       "<IPython.core.display.Image object>"
      ]
     },
     "metadata": {},
     "output_type": "display_data"
    },
    {
     "name": "stdout",
     "output_type": "stream",
     "text": [
      "*************** Recommendation number 4 *************** : \n",
      " Product id : B0B2LMZ9RT, associated weight : 1.5136733318311917\n",
      "URL de l'image de l'objet https://images-na.ssl-images-amazon.com/images/I/71BFlaQ-PNL._SL256_.jpg\n"
     ]
    },
    {
     "data": {
      "text/html": [
       "<img src=\"https://images-na.ssl-images-amazon.com/images/I/71BFlaQ-PNL._SL256_.jpg\"/>"
      ],
      "text/plain": [
       "<IPython.core.display.Image object>"
      ]
     },
     "metadata": {},
     "output_type": "display_data"
    },
    {
     "name": "stdout",
     "output_type": "stream",
     "text": [
      "*************** Recommendation number 5 *************** : \n",
      " Product id : B09VBWXMBC, associated weight : 0.5045577772770639\n",
      "URL de l'image de l'objet https://images-na.ssl-images-amazon.com/images/I/819XYAZuaJL._SL256_.jpg\n"
     ]
    },
    {
     "data": {
      "text/html": [
       "<img src=\"https://images-na.ssl-images-amazon.com/images/I/819XYAZuaJL._SL256_.jpg\"/>"
      ],
      "text/plain": [
       "<IPython.core.display.Image object>"
      ]
     },
     "metadata": {},
     "output_type": "display_data"
    },
    {
     "name": "stdout",
     "output_type": "stream",
     "text": [
      "*************** Recommendation number 6 *************** : \n",
      " Product id : B0BSGM6CQ9, associated weight : 0.5045577772770639\n",
      "URL de l'image de l'objet https://images-na.ssl-images-amazon.com/images/I/71-ODCpCowL._SL256_.jpg\n"
     ]
    },
    {
     "data": {
      "text/html": [
       "<img src=\"https://images-na.ssl-images-amazon.com/images/I/71-ODCpCowL._SL256_.jpg\"/>"
      ],
      "text/plain": [
       "<IPython.core.display.Image object>"
      ]
     },
     "metadata": {},
     "output_type": "display_data"
    },
    {
     "name": "stdout",
     "output_type": "stream",
     "text": [
      "*************** Recommendation number 7 *************** : \n",
      " Product id : B01LQO3GGS, associated weight : 0.49544222272293625\n",
      "URL de l'image de l'objet https://m.media-amazon.com/images/I/81ksZz+BCUL._SL256_.jpg\n"
     ]
    },
    {
     "data": {
      "text/html": [
       "<img src=\"https://m.media-amazon.com/images/I/81ksZz+BCUL._SL256_.jpg\"/>"
      ],
      "text/plain": [
       "<IPython.core.display.Image object>"
      ]
     },
     "metadata": {},
     "output_type": "display_data"
    }
   ],
   "source": [
    "import EDA_functions\n",
    "i = 1\n",
    "for index, rows in top_7_recommendation.iterrows(): \n",
    "    print (f\"*************** Recommendation number {i} *************** : \\n Product id : {index}, associated weight : {rows['weighted_averages']}\")\n",
    "    select_an_images(index)\n",
    "    i += 1"
   ]
  },
  {
   "cell_type": "code",
   "execution_count": 134,
   "metadata": {},
   "outputs": [
    {
     "name": "stdout",
     "output_type": "stream",
     "text": [
      "*************** Recommendation number 1 *************** : \n",
      " Product id : B0BSGM6CQ9, associated weight : 0.648158443276254\n",
      "URL de l'image de l'objet https://images-na.ssl-images-amazon.com/images/I/71-ODCpCowL._SL256_.jpg\n"
     ]
    },
    {
     "data": {
      "text/html": [
       "<img src=\"https://images-na.ssl-images-amazon.com/images/I/71-ODCpCowL._SL256_.jpg\"/>"
      ],
      "text/plain": [
       "<IPython.core.display.Image object>"
      ]
     },
     "metadata": {},
     "output_type": "display_data"
    },
    {
     "name": "stdout",
     "output_type": "stream",
     "text": [
      "*************** Recommendation number 2 *************** : \n",
      " Product id : B09857JRP2, associated weight : 0.5771212710125483\n",
      "URL de l'image de l'objet https://images-na.ssl-images-amazon.com/images/I/91mFvYib+XL._SL256_.jpg\n"
     ]
    },
    {
     "data": {
      "text/html": [
       "<img src=\"https://images-na.ssl-images-amazon.com/images/I/91mFvYib+XL._SL256_.jpg\"/>"
      ],
      "text/plain": [
       "<IPython.core.display.Image object>"
      ]
     },
     "metadata": {},
     "output_type": "display_data"
    },
    {
     "name": "stdout",
     "output_type": "stream",
     "text": [
      "*************** Recommendation number 3 *************** : \n",
      " Product id : B0BCK6L7S5, associated weight : 0.44555057965388223\n",
      "URL de l'image de l'objet https://images-na.ssl-images-amazon.com/images/I/71CPiMwVvjL._SL256_.jpg\n"
     ]
    },
    {
     "data": {
      "text/html": [
       "<img src=\"https://images-na.ssl-images-amazon.com/images/I/71CPiMwVvjL._SL256_.jpg\"/>"
      ],
      "text/plain": [
       "<IPython.core.display.Image object>"
      ]
     },
     "metadata": {},
     "output_type": "display_data"
    },
    {
     "name": "stdout",
     "output_type": "stream",
     "text": [
      "*************** Recommendation number 4 *************** : \n",
      " Product id : B0BTC9YJ2W, associated weight : 0.44049313275962226\n",
      "URL de l'image de l'objet https://images-na.ssl-images-amazon.com/images/I/81j-j-I7uIL._SL256_.jpg\n"
     ]
    },
    {
     "data": {
      "text/html": [
       "<img src=\"https://images-na.ssl-images-amazon.com/images/I/81j-j-I7uIL._SL256_.jpg\"/>"
      ],
      "text/plain": [
       "<IPython.core.display.Image object>"
      ]
     },
     "metadata": {},
     "output_type": "display_data"
    },
    {
     "name": "stdout",
     "output_type": "stream",
     "text": [
      "*************** Recommendation number 5 *************** : \n",
      " Product id : B08R5GM6YB, associated weight : 0.3170638682729171\n",
      "URL de l'image de l'objet https://images-na.ssl-images-amazon.com/images/I/91RgxhgU3HL._SL256_.jpg\n"
     ]
    },
    {
     "data": {
      "text/html": [
       "<img src=\"https://images-na.ssl-images-amazon.com/images/I/91RgxhgU3HL._SL256_.jpg\"/>"
      ],
      "text/plain": [
       "<IPython.core.display.Image object>"
      ]
     },
     "metadata": {},
     "output_type": "display_data"
    },
    {
     "name": "stdout",
     "output_type": "stream",
     "text": [
      "*************** Recommendation number 6 *************** : \n",
      " Product id : B0BKR2ZM9X, associated weight : 0.26326062306415404\n",
      "URL de l'image de l'objet https://images-na.ssl-images-amazon.com/images/I/61n284XL9HL._SL256_.jpg\n"
     ]
    },
    {
     "data": {
      "text/html": [
       "<img src=\"https://images-na.ssl-images-amazon.com/images/I/61n284XL9HL._SL256_.jpg\"/>"
      ],
      "text/plain": [
       "<IPython.core.display.Image object>"
      ]
     },
     "metadata": {},
     "output_type": "display_data"
    },
    {
     "name": "stdout",
     "output_type": "stream",
     "text": [
      "*************** Recommendation number 7 *************** : \n",
      " Product id : B09V91H5XM, associated weight : 0.24941302291764603\n",
      "URL de l'image de l'objet https://images-na.ssl-images-amazon.com/images/I/71c2CHulg4L._SL256_.jpg\n"
     ]
    },
    {
     "data": {
      "text/html": [
       "<img src=\"https://images-na.ssl-images-amazon.com/images/I/71c2CHulg4L._SL256_.jpg\"/>"
      ],
      "text/plain": [
       "<IPython.core.display.Image object>"
      ]
     },
     "metadata": {},
     "output_type": "display_data"
    }
   ],
   "source": [
    "import EDA_functions\n",
    "i = 1\n",
    "for index, rows in top_7_recommendation.iterrows(): \n",
    "    print (f\"*************** Recommendation number {i} *************** : \\n Product id : {index}, associated weight : {rows['weighted_avg']}\")\n",
    "    select_an_images(index)\n",
    "    i += 1"
   ]
  },
  {
   "cell_type": "markdown",
   "metadata": {},
   "source": []
  },
  {
   "cell_type": "markdown",
   "metadata": {},
   "source": []
  },
  {
   "cell_type": "markdown",
   "metadata": {},
   "source": [
    "#### **Recommendation de manière automatique** : "
   ]
  },
  {
   "cell_type": "code",
   "execution_count": 13,
   "metadata": {},
   "outputs": [
    {
     "name": "stdout",
     "output_type": "stream",
     "text": [
      "The number of unique products is : 1003\n",
      "The number of unique users is : 5107 \n",
      "\n",
      "URL de l'image de l'objet https://images-na.ssl-images-amazon.com/images/I/81M3vFhTSKL._SL256_.jpg\n"
     ]
    },
    {
     "data": {
      "text/html": [
       "<img src=\"https://images-na.ssl-images-amazon.com/images/I/81M3vFhTSKL._SL256_.jpg\"/>"
      ],
      "text/plain": [
       "<IPython.core.display.Image object>"
      ]
     },
     "metadata": {},
     "output_type": "display_data"
    },
    {
     "name": "stdout",
     "output_type": "stream",
     "text": [
      "URL de l'image de l'objet https://images-na.ssl-images-amazon.com/images/I/61mt0r+0QQL._SL256_.jpg\n"
     ]
    },
    {
     "data": {
      "text/html": [
       "<img src=\"https://images-na.ssl-images-amazon.com/images/I/61mt0r+0QQL._SL256_.jpg\"/>"
      ],
      "text/plain": [
       "<IPython.core.display.Image object>"
      ]
     },
     "metadata": {},
     "output_type": "display_data"
    },
    {
     "name": "stdout",
     "output_type": "stream",
     "text": [
      "URL de l'image de l'objet https://images-na.ssl-images-amazon.com/images/I/51swrTvyx+L._SL256_.jpg\n"
     ]
    },
    {
     "data": {
      "text/html": [
       "<img src=\"https://images-na.ssl-images-amazon.com/images/I/51swrTvyx+L._SL256_.jpg\"/>"
      ],
      "text/plain": [
       "<IPython.core.display.Image object>"
      ]
     },
     "metadata": {},
     "output_type": "display_data"
    },
    {
     "name": "stdout",
     "output_type": "stream",
     "text": [
      "URL de l'image de l'objet https://images-na.ssl-images-amazon.com/images/I/71GJ6vRLD3L._SL256_.jpg\n"
     ]
    },
    {
     "data": {
      "text/html": [
       "<img src=\"https://images-na.ssl-images-amazon.com/images/I/71GJ6vRLD3L._SL256_.jpg\"/>"
      ],
      "text/plain": [
       "<IPython.core.display.Image object>"
      ]
     },
     "metadata": {},
     "output_type": "display_data"
    },
    {
     "name": "stdout",
     "output_type": "stream",
     "text": [
      "URL de l'image de l'objet https://images-na.ssl-images-amazon.com/images/I/71wUv7yqe7L._SL256_.jpg\n"
     ]
    },
    {
     "data": {
      "text/html": [
       "<img src=\"https://images-na.ssl-images-amazon.com/images/I/71wUv7yqe7L._SL256_.jpg\"/>"
      ],
      "text/plain": [
       "<IPython.core.display.Image object>"
      ]
     },
     "metadata": {},
     "output_type": "display_data"
    },
    {
     "name": "stdout",
     "output_type": "stream",
     "text": [
      "URL de l'image de l'objet https://m.media-amazon.com/images/I/818ulEonBFL._SL256_.jpg\n"
     ]
    },
    {
     "data": {
      "text/html": [
       "<img src=\"https://m.media-amazon.com/images/I/818ulEonBFL._SL256_.jpg\"/>"
      ],
      "text/plain": [
       "<IPython.core.display.Image object>"
      ]
     },
     "metadata": {},
     "output_type": "display_data"
    },
    {
     "name": "stdout",
     "output_type": "stream",
     "text": [
      "URL de l'image de l'objet https://m.media-amazon.com/images/I/612EmYtaRlL._SL256_.jpg\n"
     ]
    },
    {
     "data": {
      "text/html": [
       "<img src=\"https://m.media-amazon.com/images/I/612EmYtaRlL._SL256_.jpg\"/>"
      ],
      "text/plain": [
       "<IPython.core.display.Image object>"
      ]
     },
     "metadata": {},
     "output_type": "display_data"
    },
    {
     "name": "stdout",
     "output_type": "stream",
     "text": [
      "URL de l'image de l'objet https://m.media-amazon.com/images/I/81eghTWnlcL._SL256_.jpg\n"
     ]
    },
    {
     "data": {
      "text/html": [
       "<img src=\"https://m.media-amazon.com/images/I/81eghTWnlcL._SL256_.jpg\"/>"
      ],
      "text/plain": [
       "<IPython.core.display.Image object>"
      ]
     },
     "metadata": {},
     "output_type": "display_data"
    },
    {
     "name": "stdout",
     "output_type": "stream",
     "text": [
      "The similar (with similarity bigger than 0.3 of cosine similarity) users to user AHZXMBKQJTVG2J7P7EB5WCYTOLDQ are  : \n",
      "User: AHZXMBKQJTVG2J7P7EB5WCYTOLDQ, Similarity: 0.9999999999999999\n",
      "User: AEPL7HRZFXZPV4HRLAVLIPG6SWMA, Similarity: 0.48791905846982475\n",
      "User: AH24AXIG2WSMXXKEJWCZOCCBYP4A, Similarity: 0.48578324309888404\n",
      "User: AEJQKRNJPIVHWSTSY3LBUTISJX2A, Similarity: 0.37371754637596794\n",
      "User: AHEESJDW67WKM4PH5VA6VLWJWI6Q, Similarity: 0.37371754637596794\n",
      "User: AGT4CKMXVZIC3HN6VXSIKKYURVSA, Similarity: 0.37371754637596794\n",
      "User: AG3DT2NJL6FIRTCNKPJPB6FB7YGQ, Similarity: 0.37371754637596794\n",
      "User: AEFB2SANVBGRV67PYAPK7VWNSFZQ, Similarity: 0.37371754637596794\n",
      "User: AFJVVDPUVIX2RVK5R3J53FS62IZQ, Similarity: 0.37371754637596794\n",
      "User: AEXDQ3ET3KGPPTZNC5U72WED6HEA, Similarity: 0.37371754637596794\n",
      "*************** Recommendation number 1 *************** : \n",
      " Product id : B0007OGTGS, associated weight : 0.6796050412169841\n",
      "URL de l'image de l'objet https://images-na.ssl-images-amazon.com/images/I/71DBEmcr0OL._SL256_.jpg\n"
     ]
    },
    {
     "data": {
      "text/html": [
       "<img src=\"https://images-na.ssl-images-amazon.com/images/I/71DBEmcr0OL._SL256_.jpg\"/>"
      ],
      "text/plain": [
       "<IPython.core.display.Image object>"
      ]
     },
     "metadata": {},
     "output_type": "display_data"
    },
    {
     "name": "stdout",
     "output_type": "stream",
     "text": [
      "*************** Recommendation number 2 *************** : \n",
      " Product id : B0B52FBC66, associated weight : 0.6766301402205931\n",
      "URL de l'image de l'objet https://m.media-amazon.com/images/I/B1fvzQ6xvGS._SL256_.jpg\n"
     ]
    },
    {
     "data": {
      "text/html": [
       "<img src=\"https://m.media-amazon.com/images/I/B1fvzQ6xvGS._SL256_.jpg\"/>"
      ],
      "text/plain": [
       "<IPython.core.display.Image object>"
      ]
     },
     "metadata": {},
     "output_type": "display_data"
    },
    {
     "name": "stdout",
     "output_type": "stream",
     "text": [
      "*************** Recommendation number 3 *************** : \n",
      " Product id : B0027V760M, associated weight : 0.6766301402205931\n",
      "URL de l'image de l'objet https://images-na.ssl-images-amazon.com/images/I/31em1bAem5L._SL256_.jpg\n"
     ]
    },
    {
     "data": {
      "text/html": [
       "<img src=\"https://images-na.ssl-images-amazon.com/images/I/31em1bAem5L._SL256_.jpg\"/>"
      ],
      "text/plain": [
       "<IPython.core.display.Image object>"
      ]
     },
     "metadata": {},
     "output_type": "display_data"
    },
    {
     "name": "stdout",
     "output_type": "stream",
     "text": [
      "*************** Recommendation number 4 *************** : \n",
      " Product id : B097Q9W8MW, associated weight : 0.5436840329735873\n",
      "URL de l'image de l'objet https://images-na.ssl-images-amazon.com/images/I/81gvUTxTdQL._SL256_.jpg\n"
     ]
    },
    {
     "data": {
      "text/html": [
       "<img src=\"https://images-na.ssl-images-amazon.com/images/I/81gvUTxTdQL._SL256_.jpg\"/>"
      ],
      "text/plain": [
       "<IPython.core.display.Image object>"
      ]
     },
     "metadata": {},
     "output_type": "display_data"
    },
    {
     "name": "stdout",
     "output_type": "stream",
     "text": [
      "*************** Recommendation number 5 *************** : \n",
      " Product id : B000V1K7FG, associated weight : 0.5436840329735873\n",
      "URL de l'image de l'objet https://images-na.ssl-images-amazon.com/images/I/71EBehc9WGL._SL256_.jpg\n"
     ]
    },
    {
     "data": {
      "text/html": [
       "<img src=\"https://images-na.ssl-images-amazon.com/images/I/71EBehc9WGL._SL256_.jpg\"/>"
      ],
      "text/plain": [
       "<IPython.core.display.Image object>"
      ]
     },
     "metadata": {},
     "output_type": "display_data"
    },
    {
     "name": "stdout",
     "output_type": "stream",
     "text": [
      "*************** Recommendation number 6 *************** : \n",
      " Product id : B089QY6YYQ, associated weight : 0.5205378312232032\n",
      "URL de l'image de l'objet https://images-na.ssl-images-amazon.com/images/I/710uwv-+sxL._SL256_.jpg\n"
     ]
    },
    {
     "data": {
      "text/html": [
       "<img src=\"https://images-na.ssl-images-amazon.com/images/I/710uwv-+sxL._SL256_.jpg\"/>"
      ],
      "text/plain": [
       "<IPython.core.display.Image object>"
      ]
     },
     "metadata": {},
     "output_type": "display_data"
    },
    {
     "name": "stdout",
     "output_type": "stream",
     "text": [
      "*************** Recommendation number 7 *************** : \n",
      " Product id : B09Y1QWK5W, associated weight : 0.41643026497856256\n",
      "URL de l'image de l'objet https://images-na.ssl-images-amazon.com/images/I/81lBvHI7BDL._SL256_.jpg\n"
     ]
    },
    {
     "data": {
      "text/html": [
       "<img src=\"https://images-na.ssl-images-amazon.com/images/I/81lBvHI7BDL._SL256_.jpg\"/>"
      ],
      "text/plain": [
       "<IPython.core.display.Image object>"
      ]
     },
     "metadata": {},
     "output_type": "display_data"
    },
    {
     "data": {
      "text/html": [
       "<div>\n",
       "<style scoped>\n",
       "    .dataframe tbody tr th:only-of-type {\n",
       "        vertical-align: middle;\n",
       "    }\n",
       "\n",
       "    .dataframe tbody tr th {\n",
       "        vertical-align: top;\n",
       "    }\n",
       "\n",
       "    .dataframe thead th {\n",
       "        text-align: right;\n",
       "    }\n",
       "</style>\n",
       "<table border=\"1\" class=\"dataframe\">\n",
       "  <thead>\n",
       "    <tr style=\"text-align: right;\">\n",
       "      <th></th>\n",
       "      <th>weighted_averages</th>\n",
       "    </tr>\n",
       "    <tr>\n",
       "      <th>id</th>\n",
       "      <th></th>\n",
       "    </tr>\n",
       "  </thead>\n",
       "  <tbody>\n",
       "    <tr>\n",
       "      <th>B0007OGTGS</th>\n",
       "      <td>0.679605</td>\n",
       "    </tr>\n",
       "    <tr>\n",
       "      <th>B0B52FBC66</th>\n",
       "      <td>0.676630</td>\n",
       "    </tr>\n",
       "    <tr>\n",
       "      <th>B0027V760M</th>\n",
       "      <td>0.676630</td>\n",
       "    </tr>\n",
       "    <tr>\n",
       "      <th>B097Q9W8MW</th>\n",
       "      <td>0.543684</td>\n",
       "    </tr>\n",
       "    <tr>\n",
       "      <th>B000V1K7FG</th>\n",
       "      <td>0.543684</td>\n",
       "    </tr>\n",
       "    <tr>\n",
       "      <th>B089QY6YYQ</th>\n",
       "      <td>0.520538</td>\n",
       "    </tr>\n",
       "    <tr>\n",
       "      <th>B09Y1QWK5W</th>\n",
       "      <td>0.416430</td>\n",
       "    </tr>\n",
       "  </tbody>\n",
       "</table>\n",
       "</div>"
      ],
      "text/plain": [
       "            weighted_averages\n",
       "id                           \n",
       "B0007OGTGS           0.679605\n",
       "B0B52FBC66           0.676630\n",
       "B0027V760M           0.676630\n",
       "B097Q9W8MW           0.543684\n",
       "B000V1K7FG           0.543684\n",
       "B089QY6YYQ           0.520538\n",
       "B09Y1QWK5W           0.416430"
      ]
     },
     "execution_count": 13,
     "metadata": {},
     "output_type": "execute_result"
    }
   ],
   "source": [
    "import recommendations\n",
    "\n",
    "recommendations.Csimilarity_user_recommendation(df_recommendation, \"AHZXMBKQJTVG2J7P7EB5WCYTOLDQ\", df_images)\n",
    "# Attention certains users n'ont pas de similaires au dessus de 0.3 : \"AHZQPH7HHSWLUIQFWEQ54NNKKN6A\"\n",
    "# ok : AG622C3E6PARXNYNYPZ6OWJZ4SHQ"
   ]
  },
  {
   "cell_type": "markdown",
   "metadata": {},
   "source": []
  },
  {
   "cell_type": "markdown",
   "metadata": {},
   "source": []
  },
  {
   "cell_type": "markdown",
   "metadata": {},
   "source": [
    "As it is doing in the paper : **Empirical Analysis of Predictive Algorithms for Collaborative Filtering by John S. Breese David Heckerman Carl Kadie**\n",
    "We deal with the multiples grades by doing the mean of the grading by users, It a kind of Memory based algorithm. Maybe a user bought a product in the past and his opinion changed.\n",
    "$$\n",
    "\\bar{v}_i = \\frac{1}{|I_i|} \\sum_{j \\in I_i} v_{i,j}\n",
    "$$\n",
    "\n",
    "$$were \\quad v_{i,j} \\quad are \\quad the \\quad gradings \\quad that \\quad the \\quad user \\quad i \\quad has \\quad done \\quad before.\n",
    "$$"
   ]
  },
  {
   "cell_type": "markdown",
   "metadata": {},
   "source": []
  },
  {
   "cell_type": "code",
   "execution_count": 20,
   "metadata": {},
   "outputs": [
    {
     "name": "stdout",
     "output_type": "stream",
     "text": [
      "AG622C3E6PARXNYNYPZ6OWJZ4SHQ\n",
      "The number of unique products is : 1003\n",
      "The number of unique users is : 5107 \n",
      "\n",
      "URL de l'image de l'objet https://m.media-amazon.com/images/I/61OYM7JBOnL._SL256_.jpg\n"
     ]
    },
    {
     "data": {
      "text/html": [
       "<img src=\"https://m.media-amazon.com/images/I/61OYM7JBOnL._SL256_.jpg\"/>"
      ],
      "text/plain": [
       "<IPython.core.display.Image object>"
      ]
     },
     "metadata": {},
     "output_type": "display_data"
    },
    {
     "name": "stdout",
     "output_type": "stream",
     "text": [
      "URL de l'image de l'objet https://images-na.ssl-images-amazon.com/images/I/710tQqz6WdL._SL256_.jpg\n"
     ]
    },
    {
     "data": {
      "text/html": [
       "<img src=\"https://images-na.ssl-images-amazon.com/images/I/710tQqz6WdL._SL256_.jpg\"/>"
      ],
      "text/plain": [
       "<IPython.core.display.Image object>"
      ]
     },
     "metadata": {},
     "output_type": "display_data"
    },
    {
     "name": "stdout",
     "output_type": "stream",
     "text": [
      "URL de l'image de l'objet https://images-na.ssl-images-amazon.com/images/I/718MzeCyYbL._SL256_.jpg\n"
     ]
    },
    {
     "data": {
      "text/html": [
       "<img src=\"https://images-na.ssl-images-amazon.com/images/I/718MzeCyYbL._SL256_.jpg\"/>"
      ],
      "text/plain": [
       "<IPython.core.display.Image object>"
      ]
     },
     "metadata": {},
     "output_type": "display_data"
    },
    {
     "name": "stdout",
     "output_type": "stream",
     "text": [
      "URL de l'image de l'objet https://images-na.ssl-images-amazon.com/images/I/817kKHTU-FL._SL256_.jpg\n"
     ]
    },
    {
     "data": {
      "text/html": [
       "<img src=\"https://images-na.ssl-images-amazon.com/images/I/817kKHTU-FL._SL256_.jpg\"/>"
      ],
      "text/plain": [
       "<IPython.core.display.Image object>"
      ]
     },
     "metadata": {},
     "output_type": "display_data"
    },
    {
     "name": "stdout",
     "output_type": "stream",
     "text": [
      "URL de l'image de l'objet https://images-na.ssl-images-amazon.com/images/I/71SOIq8ZkuL._SL256_.jpg\n"
     ]
    },
    {
     "data": {
      "text/html": [
       "<img src=\"https://images-na.ssl-images-amazon.com/images/I/71SOIq8ZkuL._SL256_.jpg\"/>"
      ],
      "text/plain": [
       "<IPython.core.display.Image object>"
      ]
     },
     "metadata": {},
     "output_type": "display_data"
    },
    {
     "name": "stdout",
     "output_type": "stream",
     "text": [
      "URL de l'image de l'objet https://images-na.ssl-images-amazon.com/images/I/81j-j-I7uIL._SL256_.jpg\n"
     ]
    },
    {
     "data": {
      "text/html": [
       "<img src=\"https://images-na.ssl-images-amazon.com/images/I/81j-j-I7uIL._SL256_.jpg\"/>"
      ],
      "text/plain": [
       "<IPython.core.display.Image object>"
      ]
     },
     "metadata": {},
     "output_type": "display_data"
    },
    {
     "name": "stdout",
     "output_type": "stream",
     "text": [
      "The similar (with similarity bigger than 0.3 of cosine similarity) users to user AG622C3E6PARXNYNYPZ6OWJZ4SHQ are  : \n",
      "User: AG622C3E6PARXNYNYPZ6OWJZ4SHQ, Similarity: 0.9999999999999999\n",
      "User: AHEPLA43HWNAN5VRVBK457ILTEVQ, Similarity: 0.4472135954999579\n",
      "User: AGWA5ARINY5E3E3MH43OXEDZ6ZBA, Similarity: 0.40451991747794525\n",
      "User: AEHTPUOE73PH7X3FN2222VWRVJBQ, Similarity: 0.40249223594996214\n",
      "User: AECEYRS5X2CFMDC43NZWL3KGVVUA, Similarity: 0.36\n",
      "User: AEZ37PNFAOEH33X7MJZI2JJL5WQQ, Similarity: 0.35777087639996635\n",
      "User: AF4OPEDBV52TDNGHJL7MV7IRIAPQ, Similarity: 0.35777087639996635\n",
      "User: AGQ4KUC5JAXB3A6UGXUM5DIPW4LQ, Similarity: 0.35777087639996635\n",
      "User: AGV2W5HDU3JDLPVV2H5TWEONRKCA, Similarity: 0.3530090432487313\n",
      "User: AHR64MUEH6REYKTCJ5RWCM5MOAUQ, Similarity: 0.35032452487268534\n",
      "*************** Recommendation number 1 *************** : \n",
      " Product id : B08JMQR2JK, associated weight : 0.6349425980625089\n",
      "URL de l'image de l'objet https://images-na.ssl-images-amazon.com/images/I/712zdUra7hL._SL256_.jpg\n"
     ]
    },
    {
     "data": {
      "text/html": [
       "<img src=\"https://images-na.ssl-images-amazon.com/images/I/712zdUra7hL._SL256_.jpg\"/>"
      ],
      "text/plain": [
       "<IPython.core.display.Image object>"
      ]
     },
     "metadata": {},
     "output_type": "display_data"
    },
    {
     "name": "stdout",
     "output_type": "stream",
     "text": [
      "*************** Recommendation number 2 *************** : \n",
      " Product id : B0C6J1X7TD, associated weight : 0.5934937124287156\n",
      "URL de l'image de l'objet https://images-na.ssl-images-amazon.com/images/I/61Czp0iMtxL._SL256_.jpg\n"
     ]
    },
    {
     "data": {
      "text/html": [
       "<img src=\"https://images-na.ssl-images-amazon.com/images/I/61Czp0iMtxL._SL256_.jpg\"/>"
      ],
      "text/plain": [
       "<IPython.core.display.Image object>"
      ]
     },
     "metadata": {},
     "output_type": "display_data"
    },
    {
     "name": "stdout",
     "output_type": "stream",
     "text": [
      "*************** Recommendation number 3 *************** : \n",
      " Product id : B008BPI2OW, associated weight : 0.5934937124287156\n",
      "URL de l'image de l'objet https://m.media-amazon.com/images/I/81A37bd-CuL._SL256_.jpg\n"
     ]
    },
    {
     "data": {
      "text/html": [
       "<img src=\"https://m.media-amazon.com/images/I/81A37bd-CuL._SL256_.jpg\"/>"
      ],
      "text/plain": [
       "<IPython.core.display.Image object>"
      ]
     },
     "metadata": {},
     "output_type": "display_data"
    },
    {
     "name": "stdout",
     "output_type": "stream",
     "text": [
      "*************** Recommendation number 4 *************** : \n",
      " Product id : B01LVXOO61, associated weight : 0.5308369140837279\n",
      "URL de l'image de l'objet https://images-na.ssl-images-amazon.com/images/I/71HA4QYM1VL._SL256_.jpg\n"
     ]
    },
    {
     "data": {
      "text/html": [
       "<img src=\"https://images-na.ssl-images-amazon.com/images/I/71HA4QYM1VL._SL256_.jpg\"/>"
      ],
      "text/plain": [
       "<IPython.core.display.Image object>"
      ]
     },
     "metadata": {},
     "output_type": "display_data"
    },
    {
     "name": "stdout",
     "output_type": "stream",
     "text": [
      "*************** Recommendation number 5 *************** : \n",
      " Product id : B07PPHHG34, associated weight : 0.5308369140837279\n",
      "URL de l'image de l'objet https://images-na.ssl-images-amazon.com/images/I/716PuuF2EbL._SL256_.jpg\n"
     ]
    },
    {
     "data": {
      "text/html": [
       "<img src=\"https://images-na.ssl-images-amazon.com/images/I/716PuuF2EbL._SL256_.jpg\"/>"
      ],
      "text/plain": [
       "<IPython.core.display.Image object>"
      ]
     },
     "metadata": {},
     "output_type": "display_data"
    },
    {
     "name": "stdout",
     "output_type": "stream",
     "text": [
      "*************** Recommendation number 6 *************** : \n",
      " Product id : B00P6ZOPP0, associated weight : 0.520528419893905\n",
      "URL de l'image de l'objet https://images-na.ssl-images-amazon.com/images/I/71qMtuDODiL._SL256_.jpg\n"
     ]
    },
    {
     "data": {
      "text/html": [
       "<img src=\"https://images-na.ssl-images-amazon.com/images/I/71qMtuDODiL._SL256_.jpg\"/>"
      ],
      "text/plain": [
       "<IPython.core.display.Image object>"
      ]
     },
     "metadata": {},
     "output_type": "display_data"
    },
    {
     "name": "stdout",
     "output_type": "stream",
     "text": [
      "*************** Recommendation number 7 *************** : \n",
      " Product id : B09PWCF6T9, associated weight : 0.520528419893905\n",
      "URL de l'image de l'objet https://images-na.ssl-images-amazon.com/images/I/71comUxJc5L._SL256_.jpg\n"
     ]
    },
    {
     "data": {
      "text/html": [
       "<img src=\"https://images-na.ssl-images-amazon.com/images/I/71comUxJc5L._SL256_.jpg\"/>"
      ],
      "text/plain": [
       "<IPython.core.display.Image object>"
      ]
     },
     "metadata": {},
     "output_type": "display_data"
    },
    {
     "data": {
      "text/html": [
       "<div>\n",
       "<style scoped>\n",
       "    .dataframe tbody tr th:only-of-type {\n",
       "        vertical-align: middle;\n",
       "    }\n",
       "\n",
       "    .dataframe tbody tr th {\n",
       "        vertical-align: top;\n",
       "    }\n",
       "\n",
       "    .dataframe thead th {\n",
       "        text-align: right;\n",
       "    }\n",
       "</style>\n",
       "<table border=\"1\" class=\"dataframe\">\n",
       "  <thead>\n",
       "    <tr style=\"text-align: right;\">\n",
       "      <th></th>\n",
       "      <th>weighted_averages</th>\n",
       "    </tr>\n",
       "    <tr>\n",
       "      <th>id</th>\n",
       "      <th></th>\n",
       "    </tr>\n",
       "  </thead>\n",
       "  <tbody>\n",
       "    <tr>\n",
       "      <th>B08JMQR2JK</th>\n",
       "      <td>0.634943</td>\n",
       "    </tr>\n",
       "    <tr>\n",
       "      <th>B0C6J1X7TD</th>\n",
       "      <td>0.593494</td>\n",
       "    </tr>\n",
       "    <tr>\n",
       "      <th>B008BPI2OW</th>\n",
       "      <td>0.593494</td>\n",
       "    </tr>\n",
       "    <tr>\n",
       "      <th>B01LVXOO61</th>\n",
       "      <td>0.530837</td>\n",
       "    </tr>\n",
       "    <tr>\n",
       "      <th>B07PPHHG34</th>\n",
       "      <td>0.530837</td>\n",
       "    </tr>\n",
       "    <tr>\n",
       "      <th>B00P6ZOPP0</th>\n",
       "      <td>0.520528</td>\n",
       "    </tr>\n",
       "    <tr>\n",
       "      <th>B09PWCF6T9</th>\n",
       "      <td>0.520528</td>\n",
       "    </tr>\n",
       "  </tbody>\n",
       "</table>\n",
       "</div>"
      ],
      "text/plain": [
       "            weighted_averages\n",
       "id                           \n",
       "B08JMQR2JK           0.634943\n",
       "B0C6J1X7TD           0.593494\n",
       "B008BPI2OW           0.593494\n",
       "B01LVXOO61           0.530837\n",
       "B07PPHHG34           0.530837\n",
       "B00P6ZOPP0           0.520528\n",
       "B09PWCF6T9           0.520528"
      ]
     },
     "execution_count": 20,
     "metadata": {},
     "output_type": "execute_result"
    }
   ],
   "source": [
    "random_user = df_recommendation['user'].sample(n=1).iloc[0]\n",
    "print(random_user)\n",
    "recommendations.Csimilarity_user_recommendation(df_recommendation, random_user, df_images)"
   ]
  },
  {
   "cell_type": "code",
   "execution_count": 15,
   "metadata": {},
   "outputs": [
    {
     "name": "stdout",
     "output_type": "stream",
     "text": [
      "AECRYQALXW35XL4PXVO3VEOC2CUA\n"
     ]
    }
   ],
   "source": []
  },
  {
   "cell_type": "markdown",
   "metadata": {},
   "source": []
  },
  {
   "cell_type": "markdown",
   "metadata": {},
   "source": []
  },
  {
   "cell_type": "markdown",
   "metadata": {},
   "source": [
    "### b) Item-Based Collaborative Filtering\n",
    "Instead of focusing on user similarity, this method finds items that are similar based on user ratings or interactions.\n",
    "\n",
    "    -> https://datajobs.com/data-science-repo/Recommender-Systems-%5BNetflix%5D.pdf "
   ]
  },
  {
   "cell_type": "code",
   "execution_count": null,
   "metadata": {},
   "outputs": [],
   "source": []
  },
  {
   "cell_type": "markdown",
   "metadata": {},
   "source": [
    "# II- Content based filtering "
   ]
  },
  {
   "cell_type": "code",
   "execution_count": null,
   "metadata": {},
   "outputs": [],
   "source": []
  },
  {
   "cell_type": "markdown",
   "metadata": {},
   "source": [
    "# III - Hybrid Recommender Systems "
   ]
  },
  {
   "cell_type": "markdown",
   "metadata": {},
   "source": []
  }
 ],
 "metadata": {
  "kernelspec": {
   "display_name": "Python 3",
   "language": "python",
   "name": "python3"
  },
  "language_info": {
   "codemirror_mode": {
    "name": "ipython",
    "version": 3
   },
   "file_extension": ".py",
   "mimetype": "text/x-python",
   "name": "python",
   "nbconvert_exporter": "python",
   "pygments_lexer": "ipython3",
   "version": "3.10.4"
  },
  "orig_nbformat": 4
 },
 "nbformat": 4,
 "nbformat_minor": 2
}
