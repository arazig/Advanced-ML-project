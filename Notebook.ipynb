{
 "cells": [
  {
   "cell_type": "markdown",
   "metadata": {},
   "source": [
    "# Advanced ML, Recomendation project : "
   ]
  },
  {
   "cell_type": "markdown",
   "metadata": {},
   "source": [
    "### Description of the General topic:  \n",
    " \n",
    "A recommendation system is a class of machine learning tools designed to suggest \n",
    "relevant items to users based on their preferences, behaviors, and other users’ \n",
    "activities. They are widely used across e-commerce, streaming platforms, social \n",
    "media, and online advertising, aiming to enhance user experience by delivering \n",
    "personalized content or product suggestions."
   ]
  },
  {
   "cell_type": "markdown",
   "metadata": {},
   "source": [
    "### Flow of the Code Project (All in Python)  :  \n",
    " \n",
    "**Data Preprocessing:** \n",
    "- Preprocess textual data using tokenization, stemming, and vectorization \n",
    "techniques like TF-IDF or word embeddings. \n",
    " \n",
    "**Building Collaborative Filtering Models:** \n",
    "- Implement SVD for matrix factorization. \n",
    "- Build user-based and item-based collaborative filtering models using \n",
    "libraries like Scikit-Learn. \n",
    " \n",
    "**Building Content-Based Filtering Models:**\n",
    "- Create item profiles using metadata. \n",
    "- Use cosine similarity or neural embeddings to identify similar items. \n",
    " \n",
    "**Combine with Hybrid Techniques:** \n",
    "- Experiment with hybrid models (weighted hybrid, feature-augmented \n",
    "collaborative filtering, etc.) to combine collaborative and content-based \n",
    "methods. \n",
    "- Train deep hybrid models if using neural networks, concatenating \n",
    "collaborative and content-based embeddings as input. \n",
    "\n",
    "**Visualization:**  \n",
    "- Récapitulatifs des des résultats et visualisation par des graphiques dans \n",
    "la mesure du possible "
   ]
  },
  {
   "cell_type": "code",
   "execution_count": 1,
   "metadata": {},
   "outputs": [],
   "source": [
    "# Import of users data : \n",
    "import pandas as pd\n",
    "import json\n",
    "\n",
    "file = \"/Users/aminerazig/Desktop/ENSAE 3A/ADVANCED ML/Advanced ML-project/DATA/Health_and_Personal_Care.jsonl\"\n",
    "\n",
    "with open(file, 'r') as file:\n",
    "    data = [json.loads(line) for line in file]\n",
    "\n",
    "# first 1000 products\n",
    "products_1000_usersdata = data[:1000]"
   ]
  },
  {
   "cell_type": "code",
   "execution_count": 6,
   "metadata": {},
   "outputs": [
    {
     "data": {
      "text/plain": [
       "1000"
      ]
     },
     "execution_count": 6,
     "metadata": {},
     "output_type": "execute_result"
    }
   ],
   "source": [
    "len(products_1000_usersdata)"
   ]
  },
  {
   "cell_type": "code",
   "execution_count": 18,
   "metadata": {},
   "outputs": [],
   "source": [
    "# import of products metadata : \n",
    "\n",
    "products_1000_metadata = []\n",
    "file_metadata = \"/Users/aminerazig/Desktop/ENSAE 3A/ADVANCED ML/Advanced ML-project/DATA/meta_Health_and_Personal_Care.jsonl\"\n",
    "\n",
    "with open(file_metadata, 'r') as file:\n",
    "    for i, line in enumerate(file):\n",
    "        if i >= 1000:  \n",
    "            break\n",
    "        products_1000_metadata.append(json.loads(line))"
   ]
  },
  {
   "cell_type": "code",
   "execution_count": 22,
   "metadata": {},
   "outputs": [],
   "source": [
    "### AFFICHAGE DE QUELQUES IMAGES  : \n",
    "import json\n",
    "import random\n",
    "import requests\n",
    "from PIL import Image\n",
    "from io import BytesIO\n",
    "\n",
    "\n",
    "\n",
    "def get_random_products_with_images(products, num_products=90):\n",
    "    products_with_images = [p for p in products if p.get('images') and len(p['images']) > 0]\n",
    "    return random.sample(products_with_images, min(num_products, len(products_with_images)))\n",
    "\n",
    "\n",
    "def fetch_and_resize_image(url, size=(30, 30)):\n",
    "    try:\n",
    "        response = requests.get(url)\n",
    "        response.raise_for_status()\n",
    "        img = Image.open(BytesIO(response.content))\n",
    "        return img.resize(size)\n",
    "    except Exception as e:\n",
    "        print(f\"Erreur lors du téléchargement de l'image : {e}\")\n",
    "        return None\n",
    "\n",
    "# mosaïque\n",
    "def create_mosaic(images, grid_size=(10, 9), image_size=(30, 30)):\n",
    "    mosaic = Image.new('RGB', (grid_size[0] * image_size[0], grid_size[1] * image_size[1]))\n",
    "    for idx, img in enumerate(images):\n",
    "        if img:\n",
    "            x = (idx % grid_size[0]) * image_size[0]\n",
    "            y = (idx // grid_size[0]) * image_size[1]\n",
    "            mosaic.paste(img, (x, y))\n",
    "    mosaic.show()\n",
    "    return mosaic\n",
    "\n",
    "\n",
    "selected_products = get_random_products_with_images(products_1000_metadata)\n",
    "image_urls = [p['images'][0]['large'] for p in selected_products]\n",
    "\n",
    "images = [fetch_and_resize_image(url) for url in image_urls]\n",
    "mosaic = create_mosaic(images)"
   ]
  },
  {
   "cell_type": "markdown",
   "metadata": {},
   "source": [
    "# Data Fields\n",
    "\n",
    "## For User Reviews\n",
    "\n",
    "| Field              | Type   | Explanation                                                                                                                                                     |\n",
    "|--------------------|--------|-----------------------------------------------------------------------------------------------------------------------------------------------------------------|\n",
    "| `rating`           | float  | Rating of the product (from 1.0 to 5.0).                                                                                                                        |\n",
    "| `title`            | str    | Title of the user review.                                                                                                                                       |\n",
    "| `text`             | str    | Text body of the user review.                                                                                                                                   |\n",
    "| `images`           | list   | Images that users post after they have received the product. Each image has different sizes (small, medium, large), represented by `small_image_url`, `medium_image_url`, and `large_image_url`. |\n",
    "| `asin`             | str    | ID of the product.                                                                                                                                              |\n",
    "| `parent_asin`      | str    | Parent ID of the product. Note: Products with different colors, styles, sizes usually belong to the same parent ID. The “asin” in previous Amazon datasets is actually the parent ID. Please use parent ID to find product meta. |\n",
    "| `user_id`          | str    | ID of the reviewer.                                                                                                                                             |\n",
    "| `timestamp`        | int    | Time of the review (unix time).                                                                                                                                 |\n",
    "| `verified_purchase`| bool   | User purchase verification.                                                                                                                                     |\n",
    "| `helpful_vote`     | int    | Helpful votes of the review.                                                                                                                                    |\n"
   ]
  },
  {
   "cell_type": "code",
   "execution_count": 17,
   "metadata": {},
   "outputs": [
    {
     "data": {
      "text/html": [
       "<img src=\"https://images-na.ssl-images-amazon.com/images/I/71DFEoJ+Z9L._SL256_.jpg\"/>"
      ],
      "text/plain": [
       "<IPython.core.display.Image object>"
      ]
     },
     "metadata": {},
     "output_type": "display_data"
    }
   ],
   "source": [
    "import EDA_functions\n",
    "image_url = \"https://images-na.ssl-images-amazon.com/images/I/71DFEoJ+Z9L._SL256_.jpg\"\n",
    "EDA_functions.show_image(image_url)"
   ]
  },
  {
   "cell_type": "markdown",
   "metadata": {},
   "source": [
    "# I- Collaborative Filtering\n",
    "\n",
    "Collaborative filtering recommends products to users based on the behavior of other users with similar preferences. CF methods work on the principle that users who agreed on items in the past are likely to agree again. There are two main types:\n",
    "\n",
    "### a) User-Based Collaborative Filtering\n",
    "This approach identifies users who have similar preferences (based on ratings or clicks) and recommends items that similar users liked.\n",
    "\n",
    "### Implementation\n",
    "We can try to implement this method using matrix factorization techniques like **Singular Value Decomposition (SVD)**, which reduces the dimensionality of the data matrix, capturing latent factors that explain user-item interactions.\n"
   ]
  },
  {
   "cell_type": "code",
   "execution_count": 18,
   "metadata": {},
   "outputs": [],
   "source": [
    "df_recommendation = pd.DataFrame(\n",
    "    [{\"id\": item[\"parent_asin\"], \"user\": item[\"user_id\"], \"rating\": item[\"rating\"]} for item in data])\n"
   ]
  },
  {
   "cell_type": "code",
   "execution_count": 19,
   "metadata": {},
   "outputs": [
    {
     "data": {
      "text/html": [
       "<div>\n",
       "<style scoped>\n",
       "    .dataframe tbody tr th:only-of-type {\n",
       "        vertical-align: middle;\n",
       "    }\n",
       "\n",
       "    .dataframe tbody tr th {\n",
       "        vertical-align: top;\n",
       "    }\n",
       "\n",
       "    .dataframe thead th {\n",
       "        text-align: right;\n",
       "    }\n",
       "</style>\n",
       "<table border=\"1\" class=\"dataframe\">\n",
       "  <thead>\n",
       "    <tr style=\"text-align: right;\">\n",
       "      <th></th>\n",
       "      <th>id</th>\n",
       "      <th>user</th>\n",
       "      <th>rating</th>\n",
       "    </tr>\n",
       "  </thead>\n",
       "  <tbody>\n",
       "    <tr>\n",
       "      <th>0</th>\n",
       "      <td>B07TDSJZMR</td>\n",
       "      <td>AFKZENTNBQ7A7V7UXW5JJI6UGRYQ</td>\n",
       "      <td>4.0</td>\n",
       "    </tr>\n",
       "    <tr>\n",
       "      <th>1</th>\n",
       "      <td>B08637FWWF</td>\n",
       "      <td>AEVWAM3YWN5URJVJIZZ6XPD2MKIA</td>\n",
       "      <td>5.0</td>\n",
       "    </tr>\n",
       "    <tr>\n",
       "      <th>2</th>\n",
       "      <td>B07KJVGNN5</td>\n",
       "      <td>AHSPLDNW5OOUK2PLH7GXLACFBZNQ</td>\n",
       "      <td>5.0</td>\n",
       "    </tr>\n",
       "    <tr>\n",
       "      <th>3</th>\n",
       "      <td>B092RP73CX</td>\n",
       "      <td>AEZGPLOYTSAPR3DHZKKXEFPAXUAA</td>\n",
       "      <td>4.0</td>\n",
       "    </tr>\n",
       "    <tr>\n",
       "      <th>4</th>\n",
       "      <td>B08KYJLF5T</td>\n",
       "      <td>AEQAYV7RXZEBXMQIQPL6KCT2CFWQ</td>\n",
       "      <td>1.0</td>\n",
       "    </tr>\n",
       "  </tbody>\n",
       "</table>\n",
       "</div>"
      ],
      "text/plain": [
       "           id                          user  rating\n",
       "0  B07TDSJZMR  AFKZENTNBQ7A7V7UXW5JJI6UGRYQ     4.0\n",
       "1  B08637FWWF  AEVWAM3YWN5URJVJIZZ6XPD2MKIA     5.0\n",
       "2  B07KJVGNN5  AHSPLDNW5OOUK2PLH7GXLACFBZNQ     5.0\n",
       "3  B092RP73CX  AEZGPLOYTSAPR3DHZKKXEFPAXUAA     4.0\n",
       "4  B08KYJLF5T  AEQAYV7RXZEBXMQIQPL6KCT2CFWQ     1.0"
      ]
     },
     "execution_count": 19,
     "metadata": {},
     "output_type": "execute_result"
    }
   ],
   "source": [
    "df_recommendation.head(5)"
   ]
  },
  {
   "cell_type": "code",
   "execution_count": 20,
   "metadata": {},
   "outputs": [
    {
     "name": "stdout",
     "output_type": "stream",
     "text": [
      "The number of unique products is : 60274\n",
      "The number of unique users is : 461656\n",
      "The number of products rated by different users is: 488188\n"
     ]
    }
   ],
   "source": [
    "print(f\"The number of unique products is : {df_recommendation.id.nunique()}\")\n",
    "print(f\"The number of unique users is : {df_recommendation.user.nunique()}\")\n",
    "print(f\"The number of products rated by different users)\n"
   ]
  },
  {
   "cell_type": "code",
   "execution_count": 24,
   "metadata": {},
   "outputs": [
    {
     "name": "stdout",
     "output_type": "stream",
     "text": [
      "The proportion of products rated by different users : \n",
      "\n",
      "count    60274.000000\n",
      "mean         8.099479\n",
      "std         45.797194\n",
      "min          1.000000\n",
      "25%          1.000000\n",
      "50%          2.000000\n",
      "75%          5.000000\n",
      "max       3147.000000\n",
      "Name: user, dtype: float64\n"
     ]
    }
   ],
   "source": [
    "ratings_per_product = df_recommendation.groupby('id')['user'].nunique()\n",
    "print(f\"The proportion of products rated by different users : \\n\")\n",
    "print(ratings_per_product.describe())\n",
    "\n",
    "## Sur l'echantillon selectionné on remarque que plus de 50% des produits ne sont évalué que par une deux personnes ... \n"
   ]
  },
  {
   "cell_type": "markdown",
   "metadata": {},
   "source": [
    "### b) Item-Based Collaborative Filtering\n",
    "Instead of focusing on user similarity, this method finds items that are similar based on user ratings or interactions."
   ]
  },
  {
   "cell_type": "code",
   "execution_count": null,
   "metadata": {},
   "outputs": [],
   "source": []
  },
  {
   "cell_type": "markdown",
   "metadata": {},
   "source": [
    "# II- Content based filtering "
   ]
  },
  {
   "cell_type": "code",
   "execution_count": null,
   "metadata": {},
   "outputs": [],
   "source": []
  },
  {
   "cell_type": "markdown",
   "metadata": {},
   "source": [
    "# III - Hybrid Recommender Systems "
   ]
  },
  {
   "cell_type": "markdown",
   "metadata": {},
   "source": []
  }
 ],
 "metadata": {
  "interpreter": {
   "hash": "5e59cd04a9cdc53c5128ea57bd8f9b712fba8f1ae7bfd07c006521541be527e5"
  },
  "kernelspec": {
   "display_name": "Python 3.11.5 ('base')",
   "language": "python",
   "name": "python3"
  },
  "language_info": {
   "codemirror_mode": {
    "name": "ipython",
    "version": 3
   },
   "file_extension": ".py",
   "mimetype": "text/x-python",
   "name": "python",
   "nbconvert_exporter": "python",
   "pygments_lexer": "ipython3",
   "version": "3.11.5"
  },
  "orig_nbformat": 4
 },
 "nbformat": 4,
 "nbformat_minor": 2
}
