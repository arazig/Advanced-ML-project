{
 "cells": [
  {
   "cell_type": "markdown",
   "metadata": {},
   "source": [
    "# MLP and NEUMF Test\n",
    "\n",
    "In this notebook, we will test the MLP and NeuMF methods to predict top recommendations for each user. First, we do a leave-one-out split for the test set. Then, we evaluate our prediction for each user with 100 sampled items to which we add the last item bought."
   ]
  },
  {
   "cell_type": "code",
   "execution_count": 2,
   "metadata": {},
   "outputs": [],
   "source": [
    "# Requirements\n",
    "\n",
    "import pandas as pd\n",
    "import numpy as np\n",
    "import matplotlib.pyplot as plt\n",
    "import seaborn as sns\n",
    "\n",
    "from sklearn.preprocessing import LabelEncoder"
   ]
  },
  {
   "cell_type": "code",
   "execution_count": 3,
   "metadata": {},
   "outputs": [
    {
     "data": {
      "text/html": [
       "<div>\n",
       "<style scoped>\n",
       "    .dataframe tbody tr th:only-of-type {\n",
       "        vertical-align: middle;\n",
       "    }\n",
       "\n",
       "    .dataframe tbody tr th {\n",
       "        vertical-align: top;\n",
       "    }\n",
       "\n",
       "    .dataframe thead th {\n",
       "        text-align: right;\n",
       "    }\n",
       "</style>\n",
       "<table border=\"1\" class=\"dataframe\">\n",
       "  <thead>\n",
       "    <tr style=\"text-align: right;\">\n",
       "      <th></th>\n",
       "      <th>user</th>\n",
       "      <th>id</th>\n",
       "      <th>rating</th>\n",
       "      <th>timestamp</th>\n",
       "    </tr>\n",
       "  </thead>\n",
       "  <tbody>\n",
       "    <tr>\n",
       "      <th>0</th>\n",
       "      <td>AE23JYHGEN3D35CHE5OQQYJOW5RA</td>\n",
       "      <td>B000EEHKVY</td>\n",
       "      <td>5.0</td>\n",
       "      <td>1427926325000</td>\n",
       "    </tr>\n",
       "    <tr>\n",
       "      <th>1</th>\n",
       "      <td>AE23JYHGEN3D35CHE5OQQYJOW5RA</td>\n",
       "      <td>B000TGSM6E</td>\n",
       "      <td>5.0</td>\n",
       "      <td>1480348230000</td>\n",
       "    </tr>\n",
       "    <tr>\n",
       "      <th>2</th>\n",
       "      <td>AE23JYHGEN3D35CHE5OQQYJOW5RA</td>\n",
       "      <td>B008FDSWJ0</td>\n",
       "      <td>5.0</td>\n",
       "      <td>1528832546194</td>\n",
       "    </tr>\n",
       "    <tr>\n",
       "      <th>3</th>\n",
       "      <td>AE23JYHGEN3D35CHE5OQQYJOW5RA</td>\n",
       "      <td>B012VQ5A7S</td>\n",
       "      <td>5.0</td>\n",
       "      <td>1528829957330</td>\n",
       "    </tr>\n",
       "    <tr>\n",
       "      <th>4</th>\n",
       "      <td>AE23JYHGEN3D35CHE5OQQYJOW5RA</td>\n",
       "      <td>B076ZSHQ47</td>\n",
       "      <td>3.0</td>\n",
       "      <td>1583185764147</td>\n",
       "    </tr>\n",
       "  </tbody>\n",
       "</table>\n",
       "</div>"
      ],
      "text/plain": [
       "                           user          id  rating      timestamp\n",
       "0  AE23JYHGEN3D35CHE5OQQYJOW5RA  B000EEHKVY     5.0  1427926325000\n",
       "1  AE23JYHGEN3D35CHE5OQQYJOW5RA  B000TGSM6E     5.0  1480348230000\n",
       "2  AE23JYHGEN3D35CHE5OQQYJOW5RA  B008FDSWJ0     5.0  1528832546194\n",
       "3  AE23JYHGEN3D35CHE5OQQYJOW5RA  B012VQ5A7S     5.0  1528829957330\n",
       "4  AE23JYHGEN3D35CHE5OQQYJOW5RA  B076ZSHQ47     3.0  1583185764147"
      ]
     },
     "execution_count": 3,
     "metadata": {},
     "output_type": "execute_result"
    }
   ],
   "source": [
    "df_recommendation = pd.read_csv('base de donnée_20_20.csv')\n",
    "df_recommendation.head()"
   ]
  },
  {
   "cell_type": "markdown",
   "metadata": {},
   "source": [
    "Let's first encode the 'user' and 'item' columns. "
   ]
  },
  {
   "cell_type": "code",
   "execution_count": 4,
   "metadata": {},
   "outputs": [],
   "source": [
    "# Initialize encoder\n",
    "encoder = LabelEncoder()\n",
    "\n",
    "df_recommendation['user'] = encoder.fit_transform(df_recommendation['user'])\n",
    "\n",
    "# Reinitialize it\n",
    "encoder = LabelEncoder()\n",
    "\n",
    "df_recommendation['id'] = encoder.fit_transform(df_recommendation['id'])"
   ]
  },
  {
   "cell_type": "code",
   "execution_count": 5,
   "metadata": {},
   "outputs": [
    {
     "data": {
      "text/html": [
       "<div>\n",
       "<style scoped>\n",
       "    .dataframe tbody tr th:only-of-type {\n",
       "        vertical-align: middle;\n",
       "    }\n",
       "\n",
       "    .dataframe tbody tr th {\n",
       "        vertical-align: top;\n",
       "    }\n",
       "\n",
       "    .dataframe thead th {\n",
       "        text-align: right;\n",
       "    }\n",
       "</style>\n",
       "<table border=\"1\" class=\"dataframe\">\n",
       "  <thead>\n",
       "    <tr style=\"text-align: right;\">\n",
       "      <th></th>\n",
       "      <th>user</th>\n",
       "      <th>id</th>\n",
       "      <th>rating</th>\n",
       "      <th>timestamp</th>\n",
       "    </tr>\n",
       "  </thead>\n",
       "  <tbody>\n",
       "    <tr>\n",
       "      <th>0</th>\n",
       "      <td>0</td>\n",
       "      <td>30</td>\n",
       "      <td>5.0</td>\n",
       "      <td>1427926325000</td>\n",
       "    </tr>\n",
       "    <tr>\n",
       "      <th>1</th>\n",
       "      <td>0</td>\n",
       "      <td>43</td>\n",
       "      <td>5.0</td>\n",
       "      <td>1480348230000</td>\n",
       "    </tr>\n",
       "    <tr>\n",
       "      <th>2</th>\n",
       "      <td>0</td>\n",
       "      <td>110</td>\n",
       "      <td>5.0</td>\n",
       "      <td>1528832546194</td>\n",
       "    </tr>\n",
       "    <tr>\n",
       "      <th>3</th>\n",
       "      <td>0</td>\n",
       "      <td>233</td>\n",
       "      <td>5.0</td>\n",
       "      <td>1528829957330</td>\n",
       "    </tr>\n",
       "    <tr>\n",
       "      <th>4</th>\n",
       "      <td>0</td>\n",
       "      <td>418</td>\n",
       "      <td>3.0</td>\n",
       "      <td>1583185764147</td>\n",
       "    </tr>\n",
       "  </tbody>\n",
       "</table>\n",
       "</div>"
      ],
      "text/plain": [
       "   user   id  rating      timestamp\n",
       "0     0   30     5.0  1427926325000\n",
       "1     0   43     5.0  1480348230000\n",
       "2     0  110     5.0  1528832546194\n",
       "3     0  233     5.0  1528829957330\n",
       "4     0  418     3.0  1583185764147"
      ]
     },
     "execution_count": 5,
     "metadata": {},
     "output_type": "execute_result"
    }
   ],
   "source": [
    "df_recommendation.head()"
   ]
  },
  {
   "cell_type": "markdown",
   "metadata": {},
   "source": [
    "## Train / Test Split\n",
    "\n",
    "We begin by doing a train-test split to perform leave-one-out evaluation on the recommendations. Moreover, we will create a file containing negative samples.\n",
    "\n",
    "Train / Test Split\n",
    "The test set must contain the last relevant item for each user. We define a relevant item for a specific user, an item that has been rated by 4 or more by that user."
   ]
  },
  {
   "cell_type": "code",
   "execution_count": 6,
   "metadata": {},
   "outputs": [
    {
     "data": {
      "text/plain": [
       "((37580, 4), (5046, 4))"
      ]
     },
     "execution_count": 6,
     "metadata": {},
     "output_type": "execute_result"
    }
   ],
   "source": [
    "# Sort dataframe by user and timestamp\n",
    "df_recommendation = df_recommendation.sort_values(by=['user', 'timestamp'])\n",
    "\n",
    "# Filter for items with a rating greater than 4\n",
    "df_filtered = df_recommendation[df_recommendation['rating'] >= 4]\n",
    "\n",
    "# Test set: the last item with a rating greater than 4 for each user\n",
    "df_test = df_filtered.groupby('user').tail(1)\n",
    "\n",
    "#Train set\n",
    "df_train = df_recommendation.drop(df_test.index)\n",
    "\n",
    "df_train.shape, df_test.shape"
   ]
  },
  {
   "cell_type": "markdown",
   "metadata": {},
   "source": [
    "Let's create a dataset with 5 negative samples for each user that we concatenate with the test set."
   ]
  },
  {
   "cell_type": "code",
   "execution_count": 12,
   "metadata": {},
   "outputs": [
    {
     "data": {
      "text/plain": [
       "(5046, 9)"
      ]
     },
     "execution_count": 12,
     "metadata": {},
     "output_type": "execute_result"
    }
   ],
   "source": [
    "# List of all users and items\n",
    "all_users = df_recommendation['user'].unique()\n",
    "all_items = df_recommendation['id'].unique()\n",
    "\n",
    "# All existing interactions set\n",
    "interactions = set(zip(df_recommendation['user'], df_recommendation['id']))\n",
    "\n",
    "# Negative items list\n",
    "negative_samples = []\n",
    "num_negatives = 5\n",
    "\n",
    "for user in df_test['user'].unique():\n",
    "    # All negative samples for each user\n",
    "    negative_items = [item for item in all_items if (user, item) not in interactions]\n",
    "\n",
    "    # Sample from negative samples for each user\n",
    "    sampled_negatives = np.random.choice(negative_items, size=num_negatives, replace=False)\n",
    "\n",
    "    # # Add the sampled items to their list\n",
    "    # negative_samples.append({'user': user, \n",
    "    #                          'negative_1': sampled_negatives[0], \n",
    "    #                          'negative_2': sampled_negatives[1], \n",
    "    #                          'negative_3': sampled_negatives[2], \n",
    "    #                          'negative_4': sampled_negatives[3], \n",
    "    #                          'negative_5': sampled_negatives[4]})\n",
    "\n",
    "    ## POUR GENERER UN DICTIONNAIRE DE LA BONNE TAILLE AUTOMATIQUE \n",
    "\n",
    "    negative_sample = {'user': user}\n",
    "    for i in range(num_negatives):\n",
    "        negative_sample[f'negative_{i + 1}'] = sampled_negatives[i]\n",
    "\n",
    "    # adding the negative sample to the list \n",
    "    negative_samples.append(negative_sample)\n",
    "\n",
    "negative_samples_df = pd.DataFrame(negative_samples)\n",
    "\n",
    "df_test_negative = pd.merge(df_test, negative_samples_df, on='user', how='left')\n",
    "\n",
    "df_test_negative.shape"
   ]
  },
  {
   "cell_type": "code",
   "execution_count": 17,
   "metadata": {},
   "outputs": [
    {
     "data": {
      "text/html": [
       "<div>\n",
       "<style scoped>\n",
       "    .dataframe tbody tr th:only-of-type {\n",
       "        vertical-align: middle;\n",
       "    }\n",
       "\n",
       "    .dataframe tbody tr th {\n",
       "        vertical-align: top;\n",
       "    }\n",
       "\n",
       "    .dataframe thead th {\n",
       "        text-align: right;\n",
       "    }\n",
       "</style>\n",
       "<table border=\"1\" class=\"dataframe\">\n",
       "  <thead>\n",
       "    <tr style=\"text-align: right;\">\n",
       "      <th></th>\n",
       "      <th>user</th>\n",
       "      <th>id</th>\n",
       "      <th>rating</th>\n",
       "      <th>timestamp</th>\n",
       "      <th>negative_1</th>\n",
       "      <th>negative_2</th>\n",
       "      <th>negative_3</th>\n",
       "      <th>negative_4</th>\n",
       "      <th>negative_5</th>\n",
       "    </tr>\n",
       "  </thead>\n",
       "  <tbody>\n",
       "    <tr>\n",
       "      <th>0</th>\n",
       "      <td>0</td>\n",
       "      <td>770</td>\n",
       "      <td>5.0</td>\n",
       "      <td>1642464772969</td>\n",
       "      <td>161</td>\n",
       "      <td>411</td>\n",
       "      <td>82</td>\n",
       "      <td>714</td>\n",
       "      <td>594</td>\n",
       "    </tr>\n",
       "    <tr>\n",
       "      <th>1</th>\n",
       "      <td>1</td>\n",
       "      <td>658</td>\n",
       "      <td>5.0</td>\n",
       "      <td>1664305424891</td>\n",
       "      <td>654</td>\n",
       "      <td>603</td>\n",
       "      <td>967</td>\n",
       "      <td>73</td>\n",
       "      <td>287</td>\n",
       "    </tr>\n",
       "    <tr>\n",
       "      <th>2</th>\n",
       "      <td>2</td>\n",
       "      <td>506</td>\n",
       "      <td>5.0</td>\n",
       "      <td>1631833014190</td>\n",
       "      <td>891</td>\n",
       "      <td>752</td>\n",
       "      <td>78</td>\n",
       "      <td>997</td>\n",
       "      <td>741</td>\n",
       "    </tr>\n",
       "    <tr>\n",
       "      <th>3</th>\n",
       "      <td>3</td>\n",
       "      <td>700</td>\n",
       "      <td>5.0</td>\n",
       "      <td>1478657366000</td>\n",
       "      <td>199</td>\n",
       "      <td>832</td>\n",
       "      <td>746</td>\n",
       "      <td>975</td>\n",
       "      <td>163</td>\n",
       "    </tr>\n",
       "    <tr>\n",
       "      <th>4</th>\n",
       "      <td>4</td>\n",
       "      <td>147</td>\n",
       "      <td>5.0</td>\n",
       "      <td>1647063756658</td>\n",
       "      <td>37</td>\n",
       "      <td>424</td>\n",
       "      <td>167</td>\n",
       "      <td>265</td>\n",
       "      <td>56</td>\n",
       "    </tr>\n",
       "  </tbody>\n",
       "</table>\n",
       "</div>"
      ],
      "text/plain": [
       "   user   id  rating      timestamp  negative_1  negative_2  negative_3  \\\n",
       "0     0  770     5.0  1642464772969         161         411          82   \n",
       "1     1  658     5.0  1664305424891         654         603         967   \n",
       "2     2  506     5.0  1631833014190         891         752          78   \n",
       "3     3  700     5.0  1478657366000         199         832         746   \n",
       "4     4  147     5.0  1647063756658          37         424         167   \n",
       "\n",
       "   negative_4  negative_5  \n",
       "0         714         594  \n",
       "1          73         287  \n",
       "2         997         741  \n",
       "3         975         163  \n",
       "4         265          56  "
      ]
     },
     "execution_count": 17,
     "metadata": {},
     "output_type": "execute_result"
    }
   ],
   "source": [
    "df_test_negative.head()"
   ]
  },
  {
   "cell_type": "code",
   "execution_count": 18,
   "metadata": {},
   "outputs": [],
   "source": [
    "# Pandas Datframes to CSV\n",
    "df_train.to_csv('data/train.csv', index=False)\n",
    "df_test.to_csv('data/test.csv', index=False)\n",
    "df_test_negative.to_csv('data/test_negative.csv', index=False)"
   ]
  }
 ],
 "metadata": {
  "interpreter": {
   "hash": "31f2aee4e71d21fbe5cf8b01ff0e069b9275f58929596ceb00d14d90e3e16cd6"
  },
  "kernelspec": {
   "display_name": "Python 3.9.6 64-bit",
   "language": "python",
   "name": "python3"
  },
  "language_info": {
   "codemirror_mode": {
    "name": "ipython",
    "version": 3
   },
   "file_extension": ".py",
   "mimetype": "text/x-python",
   "name": "python",
   "nbconvert_exporter": "python",
   "pygments_lexer": "ipython3",
   "version": "3.9.21"
  }
 },
 "nbformat": 4,
 "nbformat_minor": 2
}
