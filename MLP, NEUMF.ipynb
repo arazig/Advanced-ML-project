{
 "cells": [
  {
   "cell_type": "markdown",
   "metadata": {},
   "source": [
    "# MLP and NEUMF Test\n",
    "\n",
    "In this notebook, we will test the MLP and NeuMF methods to predict top recommendations for each user. First, we do a leave-one-out split for the test set. Then, we evaluate our prediction for each user with 100 sampled items to which we add the last item bought."
   ]
  },
  {
   "cell_type": "code",
   "execution_count": 8,
   "metadata": {},
   "outputs": [],
   "source": [
    "# Requirements\n",
    "\n",
    "import pandas as pd\n",
    "import numpy as np\n",
    "import matplotlib.pyplot as plt\n",
    "import seaborn as sns"
   ]
  },
  {
   "cell_type": "code",
   "execution_count": 9,
   "metadata": {},
   "outputs": [
    {
     "data": {
      "text/html": [
       "<div>\n",
       "<style scoped>\n",
       "    .dataframe tbody tr th:only-of-type {\n",
       "        vertical-align: middle;\n",
       "    }\n",
       "\n",
       "    .dataframe tbody tr th {\n",
       "        vertical-align: top;\n",
       "    }\n",
       "\n",
       "    .dataframe thead th {\n",
       "        text-align: right;\n",
       "    }\n",
       "</style>\n",
       "<table border=\"1\" class=\"dataframe\">\n",
       "  <thead>\n",
       "    <tr style=\"text-align: right;\">\n",
       "      <th></th>\n",
       "      <th>user</th>\n",
       "      <th>id</th>\n",
       "      <th>rating</th>\n",
       "      <th>timestamp</th>\n",
       "    </tr>\n",
       "  </thead>\n",
       "  <tbody>\n",
       "    <tr>\n",
       "      <th>0</th>\n",
       "      <td>AE23JYHGEN3D35CHE5OQQYJOW5RA</td>\n",
       "      <td>B000EEHKVY</td>\n",
       "      <td>5.0</td>\n",
       "      <td>1427926325000</td>\n",
       "    </tr>\n",
       "    <tr>\n",
       "      <th>1</th>\n",
       "      <td>AE23JYHGEN3D35CHE5OQQYJOW5RA</td>\n",
       "      <td>B000TGSM6E</td>\n",
       "      <td>5.0</td>\n",
       "      <td>1480348230000</td>\n",
       "    </tr>\n",
       "    <tr>\n",
       "      <th>2</th>\n",
       "      <td>AE23JYHGEN3D35CHE5OQQYJOW5RA</td>\n",
       "      <td>B008FDSWJ0</td>\n",
       "      <td>5.0</td>\n",
       "      <td>1528832546194</td>\n",
       "    </tr>\n",
       "    <tr>\n",
       "      <th>3</th>\n",
       "      <td>AE23JYHGEN3D35CHE5OQQYJOW5RA</td>\n",
       "      <td>B012VQ5A7S</td>\n",
       "      <td>5.0</td>\n",
       "      <td>1528829957330</td>\n",
       "    </tr>\n",
       "    <tr>\n",
       "      <th>4</th>\n",
       "      <td>AE23JYHGEN3D35CHE5OQQYJOW5RA</td>\n",
       "      <td>B076ZSHQ47</td>\n",
       "      <td>3.0</td>\n",
       "      <td>1583185764147</td>\n",
       "    </tr>\n",
       "  </tbody>\n",
       "</table>\n",
       "</div>"
      ],
      "text/plain": [
       "                           user          id  rating      timestamp\n",
       "0  AE23JYHGEN3D35CHE5OQQYJOW5RA  B000EEHKVY     5.0  1427926325000\n",
       "1  AE23JYHGEN3D35CHE5OQQYJOW5RA  B000TGSM6E     5.0  1480348230000\n",
       "2  AE23JYHGEN3D35CHE5OQQYJOW5RA  B008FDSWJ0     5.0  1528832546194\n",
       "3  AE23JYHGEN3D35CHE5OQQYJOW5RA  B012VQ5A7S     5.0  1528829957330\n",
       "4  AE23JYHGEN3D35CHE5OQQYJOW5RA  B076ZSHQ47     3.0  1583185764147"
      ]
     },
     "execution_count": 9,
     "metadata": {},
     "output_type": "execute_result"
    }
   ],
   "source": [
    "df_recommendation = pd.read_csv('base de donnée_20_20.csv')\n",
    "df_recommendation.head()"
   ]
  },
  {
   "cell_type": "markdown",
   "metadata": {},
   "source": [
    "## Train / Test Split\n",
    "\n",
    "We begin by doing a train-test split to perform leave-one-out evaluation on the recommendations. Moreover, we will create a file containing negative samples.\n",
    "\n",
    "Train / Test Split"
   ]
  },
  {
   "cell_type": "code",
   "execution_count": 10,
   "metadata": {},
   "outputs": [
    {
     "data": {
      "text/plain": [
       "((37519, 4), (5107, 4))"
      ]
     },
     "execution_count": 10,
     "metadata": {},
     "output_type": "execute_result"
    }
   ],
   "source": [
    "# Sort dataframe by user and timestamp\n",
    "df_recommendation = df_recommendation.sort_values(by=['user', 'timestamp'])\n",
    "\n",
    "# Test set\n",
    "df_test = df_recommendation.groupby('user').tail(1)\n",
    "\n",
    "#Train set\n",
    "df_train = df_recommendation.drop(df_test.index)\n",
    "\n",
    "df_train.shape, df_test.shape"
   ]
  },
  {
   "cell_type": "markdown",
   "metadata": {},
   "source": [
    "Let's create a dataset with 5 negative samples for each user that we concatenate with the test set."
   ]
  },
  {
   "cell_type": "code",
   "execution_count": 15,
   "metadata": {},
   "outputs": [],
   "source": [
    "# List of all users and items\n",
    "all_users = df_recommendation['user'].unique()\n",
    "all_items = df_recommendation['id'].unique()\n",
    "\n",
    "# All existing interactions set\n",
    "interactions = set(zip(df_recommendation['user'], df_recommendation['id']))\n",
    "\n",
    "# Negative items list\n",
    "negative_samples = []\n",
    "num_negatives = 5\n",
    "\n",
    "for user in df_test['user'].unique():\n",
    "    # All negative samples for each user\n",
    "    negative_items = [item for item in all_items if (user, item) not in interactions]\n",
    "\n",
    "    # Sample from negative samples for each user\n",
    "    sampled_negatives = np.random.choice(negative_items, size=num_negatives, replace=False)\n",
    "\n",
    "    # Add the sampled items to their list\n",
    "    negative_samples.append({'user': user, \n",
    "                             'negative_1': sampled_negatives[0], \n",
    "                             'negative_2': sampled_negatives[1], \n",
    "                             'negative_3': sampled_negatives[2], \n",
    "                             'negative_4': sampled_negatives[3], \n",
    "                             'negative_5': sampled_negatives[4]})\n",
    "\n",
    "negative_samples_df = pd.DataFrame(negative_samples)\n",
    "\n",
    "df_test_negative = pd.merge(df_test, negative_samples_df, on='user', how='left')\n",
    "\n",
    "df_test_negative.shape()"
   ]
  },
  {
   "cell_type": "code",
   "execution_count": 19,
   "metadata": {},
   "outputs": [
    {
     "data": {
      "text/html": [
       "<div>\n",
       "<style scoped>\n",
       "    .dataframe tbody tr th:only-of-type {\n",
       "        vertical-align: middle;\n",
       "    }\n",
       "\n",
       "    .dataframe tbody tr th {\n",
       "        vertical-align: top;\n",
       "    }\n",
       "\n",
       "    .dataframe thead th {\n",
       "        text-align: right;\n",
       "    }\n",
       "</style>\n",
       "<table border=\"1\" class=\"dataframe\">\n",
       "  <thead>\n",
       "    <tr style=\"text-align: right;\">\n",
       "      <th></th>\n",
       "      <th>user</th>\n",
       "      <th>id</th>\n",
       "      <th>rating</th>\n",
       "      <th>timestamp</th>\n",
       "      <th>negative_1</th>\n",
       "      <th>negative_2</th>\n",
       "      <th>negative_3</th>\n",
       "      <th>negative_4</th>\n",
       "      <th>negative_5</th>\n",
       "    </tr>\n",
       "  </thead>\n",
       "  <tbody>\n",
       "    <tr>\n",
       "      <th>0</th>\n",
       "      <td>AE23JYHGEN3D35CHE5OQQYJOW5RA</td>\n",
       "      <td>B09YDBKT7M</td>\n",
       "      <td>5.0</td>\n",
       "      <td>1642464772969</td>\n",
       "      <td>B081592T7F</td>\n",
       "      <td>B0098DFNY8</td>\n",
       "      <td>B01DN7OC00</td>\n",
       "      <td>B0BR2VHR6T</td>\n",
       "      <td>B07MZYNZ1C</td>\n",
       "    </tr>\n",
       "    <tr>\n",
       "      <th>1</th>\n",
       "      <td>AE23LDQTB7L76AP6E6WPBFVYL5DA</td>\n",
       "      <td>B09198262S</td>\n",
       "      <td>5.0</td>\n",
       "      <td>1664305424891</td>\n",
       "      <td>B00HTWQWFO</td>\n",
       "      <td>B00B1ZONFG</td>\n",
       "      <td>B079P9LDHN</td>\n",
       "      <td>B0BHG58G2F</td>\n",
       "      <td>B00IPHITHG</td>\n",
       "    </tr>\n",
       "    <tr>\n",
       "      <th>2</th>\n",
       "      <td>AE23WLBRYKEC67DM43M6E2MF7GPQ</td>\n",
       "      <td>B07JL1KFT3</td>\n",
       "      <td>5.0</td>\n",
       "      <td>1631833014190</td>\n",
       "      <td>B01CS87OLO</td>\n",
       "      <td>B07HGRFG5J</td>\n",
       "      <td>B0B176CWVM</td>\n",
       "      <td>B0791VK6D9</td>\n",
       "      <td>B0B8Z4YV4T</td>\n",
       "    </tr>\n",
       "    <tr>\n",
       "      <th>3</th>\n",
       "      <td>AE23ZFVUOMPKR57BVSWXV34QLMVA</td>\n",
       "      <td>B0719KM5Y8</td>\n",
       "      <td>4.0</td>\n",
       "      <td>1549635394981</td>\n",
       "      <td>B095QBH5ZB</td>\n",
       "      <td>B015WD6FIK</td>\n",
       "      <td>B00K17YFC6</td>\n",
       "      <td>B0C6HXYY3R</td>\n",
       "      <td>B0BT84L827</td>\n",
       "    </tr>\n",
       "    <tr>\n",
       "      <th>4</th>\n",
       "      <td>AE24I2EU3AJAAKBXF367XSV37U6Q</td>\n",
       "      <td>B00GG20DJ4</td>\n",
       "      <td>5.0</td>\n",
       "      <td>1647063756658</td>\n",
       "      <td>B076K32CH1</td>\n",
       "      <td>B0C4GR5C3L</td>\n",
       "      <td>B09VP6F1DV</td>\n",
       "      <td>B0BXT6TM6N</td>\n",
       "      <td>B09JJ784V5</td>\n",
       "    </tr>\n",
       "  </tbody>\n",
       "</table>\n",
       "</div>"
      ],
      "text/plain": [
       "                           user          id  rating      timestamp  \\\n",
       "0  AE23JYHGEN3D35CHE5OQQYJOW5RA  B09YDBKT7M     5.0  1642464772969   \n",
       "1  AE23LDQTB7L76AP6E6WPBFVYL5DA  B09198262S     5.0  1664305424891   \n",
       "2  AE23WLBRYKEC67DM43M6E2MF7GPQ  B07JL1KFT3     5.0  1631833014190   \n",
       "3  AE23ZFVUOMPKR57BVSWXV34QLMVA  B0719KM5Y8     4.0  1549635394981   \n",
       "4  AE24I2EU3AJAAKBXF367XSV37U6Q  B00GG20DJ4     5.0  1647063756658   \n",
       "\n",
       "   negative_1  negative_2  negative_3  negative_4  negative_5  \n",
       "0  B081592T7F  B0098DFNY8  B01DN7OC00  B0BR2VHR6T  B07MZYNZ1C  \n",
       "1  B00HTWQWFO  B00B1ZONFG  B079P9LDHN  B0BHG58G2F  B00IPHITHG  \n",
       "2  B01CS87OLO  B07HGRFG5J  B0B176CWVM  B0791VK6D9  B0B8Z4YV4T  \n",
       "3  B095QBH5ZB  B015WD6FIK  B00K17YFC6  B0C6HXYY3R  B0BT84L827  \n",
       "4  B076K32CH1  B0C4GR5C3L  B09VP6F1DV  B0BXT6TM6N  B09JJ784V5  "
      ]
     },
     "execution_count": 19,
     "metadata": {},
     "output_type": "execute_result"
    }
   ],
   "source": [
    "df_test_negative.head()"
   ]
  },
  {
   "cell_type": "code",
   "execution_count": 20,
   "metadata": {},
   "outputs": [],
   "source": [
    "# Pandas Datframes to CSV\n",
    "df_train.to_csv('train.csv', index=False)\n",
    "df_test.to_csv('test.csv', index=False)\n",
    "df_test_negative.to_csv('test_negative.csv', index=False)"
   ]
  }
 ],
 "metadata": {
  "kernelspec": {
   "display_name": "base",
   "language": "python",
   "name": "python3"
  },
  "language_info": {
   "codemirror_mode": {
    "name": "ipython",
    "version": 3
   },
   "file_extension": ".py",
   "mimetype": "text/x-python",
   "name": "python",
   "nbconvert_exporter": "python",
   "pygments_lexer": "ipython3",
   "version": "3.12.3"
  }
 },
 "nbformat": 4,
 "nbformat_minor": 2
}
