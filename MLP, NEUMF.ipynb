{
 "cells": [
  {
   "cell_type": "markdown",
   "metadata": {},
   "source": [
    "# Multi-Layer Perceptron and Neural Matrix Factorization\n",
    "\n",
    "In this notebook, we implement in Pytorch the two Neural Collaborative Filtering models discussed. First, we use the non-linearities in a Multi-Layer Perceptron (MLP) to estimate the user-item interaction. Then, we implement a fusion of matrix factorization and this MLP method. \n",
    "\n",
    "We will conduct our different experiments on both these models. We will first test the recommendations with fixed parameters for both models, then we will test our models for different values of K where K is the number of recommended items. Here, the recommended items are topK items in terms of the probability of interaction (given by the final sigmoid function)."
   ]
  },
  {
   "cell_type": "code",
   "execution_count": 1,
   "metadata": {},
   "outputs": [],
   "source": [
    "import torch\n",
    "import torch.nn as nn\n",
    "import torch.optim as optim\n",
    "from time import time\n",
    "import numpy as np\n",
    "import pandas as pd\n",
    "from load_dataset import Dataset\n",
    "import math\n",
    "import heapq\n",
    "import matplotlib.pyplot as plt\n",
    "import seaborn as sns"
   ]
  },
  {
   "cell_type": "code",
   "execution_count": 2,
   "metadata": {},
   "outputs": [
    {
     "name": "stdout",
     "output_type": "stream",
     "text": [
      "Using device: cuda\n"
     ]
    }
   ],
   "source": [
    "# Setting device to GPU\n",
    "device = torch.device(\"cuda\" if torch.cuda.is_available() else \"cpu\")\n",
    "print(f\"Using device: {device}\")"
   ]
  },
  {
   "cell_type": "markdown",
   "metadata": {},
   "source": [
    "## Multi-Layer Perceptron Implementation"
   ]
  },
  {
   "cell_type": "code",
   "execution_count": 3,
   "metadata": {},
   "outputs": [],
   "source": [
    "class MLPModel(nn.Module):\n",
    "    def __init__(self, num_users, num_items, layers=[64, 32, 16, 8]):\n",
    "        super(MLPModel, self).__init__()\n",
    "        \n",
    "        # Embedding layers\n",
    "        self.user_embedding = nn.Embedding(num_users, layers[0] // 2)\n",
    "        self.item_embedding = nn.Embedding(num_items, layers[0] // 2)\n",
    "        \n",
    "        # Fully connected layers\n",
    "        layer_sizes = [layers[0]] + layers\n",
    "        self.fc_layers = nn.ModuleList()\n",
    "        \n",
    "        for i in range(1, len(layer_sizes)):\n",
    "            self.fc_layers.append(\n",
    "                nn.Linear(layer_sizes[i-1], layer_sizes[i])\n",
    "            )\n",
    "            self.fc_layers.append(nn.ReLU())\n",
    "        \n",
    "        # Final prediction layer\n",
    "        self.prediction = nn.Linear(layers[-1], 1)\n",
    "\n",
    "    def forward(self, user_input, item_input):\n",
    "        user_latent = self.user_embedding(user_input)\n",
    "        item_latent = self.item_embedding(item_input)\n",
    "        \n",
    "        # Concatenate both latent vectors of users and items\n",
    "        vector = torch.cat([user_latent, item_latent], dim=-1)\n",
    "        \n",
    "        # Forward propagation\n",
    "        for layer in self.fc_layers:\n",
    "            vector = layer(vector)\n",
    "        \n",
    "        prediction = self.prediction(vector)\n",
    "        \n",
    "        return prediction\n",
    "    \n",
    "    def predict(self, user_input, item_input, batch_size=256):\n",
    "        self.eval()  # Setting model to evaluation\n",
    "        all_predictions = []\n",
    "\n",
    "        # Batch prediction\n",
    "        for i in range(0, len(user_input), batch_size):\n",
    "            batch_user_input = torch.tensor(user_input[i:i + batch_size], dtype=torch.long).to(device)\n",
    "            batch_item_input = torch.tensor(item_input[i:i + batch_size], dtype=torch.long).to(device)\n",
    "\n",
    "            with torch.no_grad(): \n",
    "                batch_preds = self.forward(batch_user_input, batch_item_input)\n",
    "                all_predictions.append(batch_preds)\n",
    "\n",
    "        return torch.cat(all_predictions, dim=0)"
   ]
  },
  {
   "cell_type": "markdown",
   "metadata": {},
   "source": [
    "## Neural Matrix Factorization Implementation"
   ]
  },
  {
   "cell_type": "code",
   "execution_count": 4,
   "metadata": {},
   "outputs": [],
   "source": [
    "class NeuMF(nn.Module):\n",
    "    def __init__(self, num_users, num_items, mf_dim, layers):\n",
    "        super(NeuMF, self).__init__()\n",
    "        \n",
    "        # MF Embeddings\n",
    "        self.mf_user_embedding = nn.Embedding(num_users, mf_dim)\n",
    "        self.mf_item_embedding = nn.Embedding(num_items, mf_dim)\n",
    "        \n",
    "        # MLP Embeddings\n",
    "        self.mlp_user_embedding = nn.Embedding(num_users, layers[0] // 2)\n",
    "        self.mlp_item_embedding = nn.Embedding(num_items, layers[0] // 2)\n",
    "        \n",
    "        # MLP layers\n",
    "        self.mlp_layers = nn.Sequential()\n",
    "        for i in range(1, len(layers)):\n",
    "            self.mlp_layers.add_module(f\"linear_{i}\", nn.Linear(layers[i-1], layers[i]))\n",
    "            self.mlp_layers.add_module(f\"relu_{i}\", nn.ReLU())\n",
    "        \n",
    "        # Final prediction layer (applied on the concatenation of MLP and MF outputs)\n",
    "        predict_size = mf_dim + layers[-1]\n",
    "        self.final_layer = nn.Linear(predict_size, 1)\n",
    "        self.sigmoid = nn.Sigmoid()\n",
    "\n",
    "    def forward(self, user_input, item_input):\n",
    "        # MF part\n",
    "        mf_user_latent = self.mf_user_embedding(user_input)\n",
    "        mf_item_latent = self.mf_item_embedding(item_input)\n",
    "        mf_vector = mf_user_latent * mf_item_latent  # Element-wise multiplication\n",
    "        \n",
    "        # MLP part\n",
    "        mlp_user_latent = self.mlp_user_embedding(user_input)\n",
    "        mlp_item_latent = self.mlp_item_embedding(item_input)\n",
    "        mlp_vector = torch.cat((mlp_user_latent, mlp_item_latent), dim=-1)\n",
    "        mlp_vector = self.mlp_layers(mlp_vector)\n",
    "        \n",
    "        # Concatenate MF and MLP parts\n",
    "        predict_vector = torch.cat((mf_vector, mlp_vector), dim=-1)\n",
    "        \n",
    "        # Final prediction\n",
    "        prediction = self.final_layer(predict_vector)\n",
    "        return prediction\n",
    "    \n",
    "    def predict(self, user_input, item_input, batch_size=256):\n",
    "        self.eval()  # Setting model to evaluation\n",
    "        all_predictions = []\n",
    "\n",
    "        # Batch prediction\n",
    "        for i in range(0, len(user_input), batch_size):\n",
    "            batch_user_input = torch.tensor(user_input[i:i + batch_size], dtype=torch.long).to(device)\n",
    "            batch_item_input = torch.tensor(item_input[i:i + batch_size], dtype=torch.long).to(device)\n",
    "\n",
    "            with torch.no_grad(): # Disable retropapagation to save memory\n",
    "                batch_preds = self.forward(batch_user_input, batch_item_input)\n",
    "                all_predictions.append(batch_preds)\n",
    "\n",
    "        return torch.cat(all_predictions, dim=0)"
   ]
  },
  {
   "cell_type": "markdown",
   "metadata": {},
   "source": [
    "## Testing the models\n",
    "\n",
    "We will now test the models on the musical instruments dataset. For the evaluation protocol, we opted for a leave-two-out evaluation : for each user we use as a test set his two last interesting items. Moreover, we sample 99 negative items for each user (no interaction between them). After the prediction on these 101 items for each user, we recommend the top K items and evaluate the recommendations with our two test items for each users with the following metrics: Hit-Ratio, NDCG@K, Precision@K, Recall@K. "
   ]
  },
  {
   "cell_type": "markdown",
   "metadata": {},
   "source": [
    "### Defining the metrics"
   ]
  },
  {
   "cell_type": "code",
   "execution_count": 5,
   "metadata": {},
   "outputs": [],
   "source": [
    "def getHR(ranklist, gtItems):\n",
    "    for item in ranklist:\n",
    "        if item in gtItems:\n",
    "            return 1\n",
    "    return 0\n",
    "\n",
    "def get_precision(ranklist, gtItems):\n",
    "    relevant = 0\n",
    "    for item in ranklist:\n",
    "        if item in gtItems:\n",
    "            relevant += 1\n",
    "    return relevant / len(ranklist)\n",
    "\n",
    "def getNDCG(ranklist, gtItems):\n",
    "    dcg = 0.0\n",
    "    for i, item in enumerate(ranklist):\n",
    "        if item in gtItems:\n",
    "            dcg += math.log(2) / math.log(i + 2)  # DCG pour cet item trouvé\n",
    "    \n",
    "    # Calcul de l'IDCG (DCG idéal)\n",
    "    idcg = sum(math.log(2) / math.log(i + 2) for i in range(len(gtItems)))\n",
    "\n",
    "    return dcg / idcg if idcg > 0 else 0.0\n",
    "\n",
    "def get_recall(ranklist, gtItems):\n",
    "    relevant = 0\n",
    "    for item in ranklist:\n",
    "        if item in gtItems:\n",
    "            relevant += 1\n",
    "    return relevant / len(gtItems)"
   ]
  },
  {
   "cell_type": "markdown",
   "metadata": {},
   "source": [
    "### Evaluating the model"
   ]
  },
  {
   "cell_type": "code",
   "execution_count": 6,
   "metadata": {},
   "outputs": [],
   "source": [
    "def evaluate_model(model, testRatings, testNegatives, K):\n",
    "    \"\"\"\n",
    "    Evaluate the performance (HR, NDCG@k, precision@k, recall@k) of top-K recommendation\n",
    "    Return: score of each test rating.\n",
    "    \"\"\"\n",
    "    global _model\n",
    "    global _testRatings\n",
    "    global _testNegatives\n",
    "    global _K\n",
    "    _model = model\n",
    "    _testRatings = testRatings\n",
    "    _testNegatives = testNegatives\n",
    "    _K = K\n",
    "        \n",
    "    hits, ndcgs, precisions, recalls = [],[], [], []\n",
    "    for idx in range(len(_testRatings)):\n",
    "        (hr,ndcg,p,r) = eval_one_user(idx)\n",
    "        hits.append(hr)\n",
    "        ndcgs.append(ndcg)   \n",
    "        precisions.append(p)\n",
    "        recalls.append(r)   \n",
    "    return (hits, ndcgs,precisions,recalls)\n",
    "\n",
    "def eval_one_user(idx):\n",
    "    rating = _testRatings[idx]\n",
    "    items = _testNegatives[idx]\n",
    "    u = rating[0]\n",
    "    gtItems = rating[1:]\n",
    "    items += gtItems\n",
    "    # Get prediction scores\n",
    "    map_item_score = {}\n",
    "    users = np.full(len(items), u, dtype = 'int32')\n",
    "    predictions = _model.predict(users, np.array(items), batch_size=100)\n",
    "    for i in range(len(items)):\n",
    "        item = items[i]\n",
    "        map_item_score[item] = predictions[i].max()\n",
    "    items.pop()\n",
    "    \n",
    "    # Evaluate top rank list\n",
    "    ranklist = heapq.nlargest(_K, map_item_score, key=map_item_score.get)\n",
    "    hr = getHR(ranklist, gtItems)\n",
    "    ndcg = getNDCG(ranklist, gtItems)\n",
    "    precision = get_precision(ranklist, gtItems)\n",
    "    recall = get_recall(ranklist, gtItems)\n",
    "    return (hr, ndcg, precision, recall)"
   ]
  },
  {
   "cell_type": "markdown",
   "metadata": {},
   "source": [
    "### Loading the dataset"
   ]
  },
  {
   "cell_type": "code",
   "execution_count": 7,
   "metadata": {},
   "outputs": [
    {
     "name": "stdout",
     "output_type": "stream",
     "text": [
      "Load data done [0.7 s]. #user=5107, #item=1003, #train=32644, #test=5107\n"
     ]
    }
   ],
   "source": [
    "t1 = time()\n",
    "dataset = Dataset('data/')\n",
    "train, testRatings, testNegatives = dataset.trainMatrix, dataset.testRatings, dataset.testNegatives\n",
    "num_users, num_items = train.shape\n",
    "print(\"Load data done [%.1f s]. #user=%d, #item=%d, #train=%d, #test=%d\" \n",
    "          %(time()-t1, num_users, num_items, train.nnz, len(testRatings)))"
   ]
  },
  {
   "cell_type": "code",
   "execution_count": 8,
   "metadata": {},
   "outputs": [],
   "source": [
    "def get_train_instances(train, num_negatives):\n",
    "    user_input, item_input, labels = [], [], []\n",
    "    num_items = train.shape[1]\n",
    "    for (u, i) in train.keys():\n",
    "        # Positive instance\n",
    "        user_input.append(u)\n",
    "        item_input.append(i)\n",
    "        labels.append(1)  # Positive instance label = 1\n",
    "        \n",
    "        # Negative instances\n",
    "        for t in range(num_negatives):\n",
    "            j = np.random.randint(num_items)\n",
    "            while (u, j) in train:\n",
    "                j = np.random.randint(num_items)\n",
    "            user_input.append(u)\n",
    "            item_input.append(j)\n",
    "            labels.append(0)  # Negative instance label = 0\n",
    "    return user_input, item_input, labels"
   ]
  },
  {
   "cell_type": "markdown",
   "metadata": {},
   "source": [
    "### Evaluating models"
   ]
  },
  {
   "cell_type": "code",
   "execution_count": 12,
   "metadata": {},
   "outputs": [],
   "source": [
    "# Setting parameters\n",
    "layers = [64,32,16,8]\n",
    "mf_dim = 8\n",
    "num_negatives = 3\n",
    "learning_rate = 0.001\n",
    "batch_size = 256\n",
    "epochs = 20\n",
    "verbose = 1\n",
    "topK = 10 # Here, we recommend 10 items"
   ]
  },
  {
   "cell_type": "code",
   "execution_count": 10,
   "metadata": {},
   "outputs": [],
   "source": [
    "# Fonction d'initialisation des poids\n",
    "def initialize_weights_normal(model, mean=0.0, std=0.01):\n",
    "    for module in model.modules():\n",
    "        if isinstance(module, nn.Linear):  # Appliquer uniquement aux couches linéaires\n",
    "            nn.init.normal_(module.weight, mean=mean, std=std)\n",
    "            if module.bias is not None:  # Initialiser les biais à zéro\n",
    "                nn.init.constant_(module.bias, 0.0)"
   ]
  },
  {
   "cell_type": "code",
   "execution_count": null,
   "metadata": {},
   "outputs": [
    {
     "name": "stdout",
     "output_type": "stream",
     "text": [
      "Init: HR = 0.1843, NDCG = 0.0547, Precision@k = 0.0196, Recall@k = 0.0978 [17.4]\n",
      "Iteration 0 [0.1 s]: HR = 0.1974, NDCG = 0.0598, Precision@k = 0.0211, Recall@k = 0.1053, loss = 0.6780 [16.7 s]\n",
      "Iteration 1 [0.1 s]: HR = 0.1653, NDCG = 0.0468, Precision@k = 0.0173, Recall@k = 0.0864, loss = 0.7732 [16.5 s]\n",
      "Iteration 2 [0.1 s]: HR = 0.1698, NDCG = 0.0497, Precision@k = 0.0177, Recall@k = 0.0887, loss = 0.6327 [17.0 s]\n",
      "Iteration 3 [0.1 s]: HR = 0.1492, NDCG = 0.0439, Precision@k = 0.0155, Recall@k = 0.0777, loss = 0.6186 [12.8 s]\n",
      "Iteration 4 [0.1 s]: HR = 0.0127, NDCG = 0.0057, Precision@k = 0.0013, Recall@k = 0.0064, loss = 0.5991 [9.8 s]\n",
      "Iteration 5 [0.1 s]: HR = 0.0027, NDCG = 0.0013, Precision@k = 0.0003, Recall@k = 0.0015, loss = 0.5808 [8.8 s]\n"
     ]
    }
   ],
   "source": [
    "# Build model and move it to GPU if available\n",
    "model = MLPModel(num_users, num_items, layers).to(device)\n",
    "    \n",
    "optimizer = optim.Adam(model.parameters(), lr=0.1)\n",
    "\n",
    "# Check Init performance\n",
    "t1 = time()\n",
    "(hits, ndcgs, precisions, recalls) = evaluate_model(model, testRatings, testNegatives, topK)\n",
    "hr, ndcg, p, r = np.array(hits).mean(), np.array(ndcgs).mean(), np.array(precisions).mean(), np.array(recalls).mean()\n",
    "print('Init: HR = %.4f, NDCG = %.4f, Precision@k = %.4f, Recall@k = %.4f [%.1f]' %(hr, ndcg, p, r, time()-t1))\n",
    "    \n",
    "# Train model\n",
    "best_hr, best_ndcg, best_p, best_r, best_iter = hr, ndcg, p, r, -1\n",
    "loss_mlp = []\n",
    "hr_mlp = []\n",
    "recall_mlp = []\n",
    "\n",
    "\n",
    "for epoch in range(100):\n",
    "    t1 = time()\n",
    "    # Generate training instances\n",
    "    user_input, item_input, labels = get_train_instances(train, num_negatives)\n",
    "        \n",
    "    # Convert to tensors and move to GPU\n",
    "    user_input = torch.LongTensor(user_input).to(device)\n",
    "    item_input = torch.LongTensor(item_input).to(device)\n",
    "\n",
    "    labels = torch.FloatTensor(labels).to(device)  # Labels should be LongTensor for CrossEntropyLoss\n",
    "    \n",
    "    # Training        \n",
    "    model.train()\n",
    "    optimizer.zero_grad()\n",
    "    predictions = model(user_input, item_input)\n",
    "        \n",
    "    # Compute loss\n",
    "    labels = labels.unsqueeze(1)\n",
    "    loss_fn = nn.BCEWithLogitsLoss()\n",
    "    loss = loss_fn(predictions, labels)\n",
    "    loss.backward()\n",
    "    optimizer.step()\n",
    "\n",
    "    t2 = time()\n",
    "\n",
    "    # Evaluation\n",
    "    if epoch % verbose == 0:  # Utilisation de verbose pour afficher les résultats chaque X epochs\n",
    "        model.eval()\n",
    "        (hits, ndcgs, precisions, recalls) = evaluate_model(model, testRatings, testNegatives, topK)\n",
    "        hr, ndcg, p, r, loss_val = np.array(hits).mean(), np.array(ndcgs).mean(), np.array(precisions).mean(), np.array(recalls).mean(), loss.item()\n",
    "        print('Iteration %d [%.1f s]: HR = %.4f, NDCG = %.4f, Precision@k = %.4f, Recall@k = %.4f, loss = %.4f [%.1f s]' \n",
    "                % (epoch,  t2-t1, hr, ndcg, p, r, loss_val, time()-t2))\n",
    "        loss_mlp.append(loss_val)\n",
    "        recall_mlp.append(r)\n",
    "        hr_mlp.append(hr)\n",
    "        if hr > best_hr:\n",
    "            best_hr, best_ndcg, best_p, best_r, best_iter = hr, ndcg, p, r, epoch\n",
    "\n",
    "print(\"End. Best Iteration %d:  HR = %.4f, NDCG = %.4f, Precision@k = %.4f, Recall@k = %.4f. \" %(best_iter, best_hr, best_ndcg, best_p, best_r))\n"
   ]
  },
  {
   "cell_type": "code",
   "execution_count": 12,
   "metadata": {},
   "outputs": [
    {
     "name": "stdout",
     "output_type": "stream",
     "text": [
      "Init: HR = 0.1845, NDCG = 0.0536, Precision@k = 0.0192, Recall@k = 0.0962 [24.2]\n",
      "Iteration 0 [0.1 s]: HR = 0.2125, NDCG = 0.0647, Precision@k = 0.0225, Recall@k = 0.1126, loss = 0.6704 [19.0 s]\n",
      "Iteration 1 [0.1 s]: HR = 0.2130, NDCG = 0.0625, Precision@k = 0.0225, Recall@k = 0.1126, loss = 0.8521 [17.4 s]\n",
      "Iteration 2 [0.1 s]: HR = 0.1995, NDCG = 0.0598, Precision@k = 0.0209, Recall@k = 0.1047, loss = 0.5857 [16.6 s]\n",
      "Iteration 3 [0.1 s]: HR = 0.1939, NDCG = 0.0579, Precision@k = 0.0205, Recall@k = 0.1027, loss = 0.6235 [16.7 s]\n",
      "Iteration 4 [0.1 s]: HR = 0.1931, NDCG = 0.0568, Precision@k = 0.0205, Recall@k = 0.1024, loss = 0.6293 [16.5 s]\n",
      "Iteration 5 [0.1 s]: HR = 0.1817, NDCG = 0.0518, Precision@k = 0.0189, Recall@k = 0.0945, loss = 0.6224 [17.0 s]\n",
      "Iteration 6 [0.1 s]: HR = 0.1794, NDCG = 0.0517, Precision@k = 0.0186, Recall@k = 0.0932, loss = 0.6115 [16.7 s]\n",
      "Iteration 7 [0.1 s]: HR = 0.1880, NDCG = 0.0533, Precision@k = 0.0195, Recall@k = 0.0977, loss = 0.6001 [17.2 s]\n",
      "Iteration 8 [0.1 s]: HR = 0.1888, NDCG = 0.0534, Precision@k = 0.0198, Recall@k = 0.0988, loss = 0.5885 [17.0 s]\n",
      "Iteration 9 [0.1 s]: HR = 0.1939, NDCG = 0.0553, Precision@k = 0.0203, Recall@k = 0.1016, loss = 0.5755 [16.9 s]\n",
      "Iteration 10 [0.1 s]: HR = 0.2134, NDCG = 0.0620, Precision@k = 0.0224, Recall@k = 0.1121, loss = 0.5625 [16.9 s]\n",
      "Iteration 11 [0.1 s]: HR = 0.2399, NDCG = 0.0718, Precision@k = 0.0253, Recall@k = 0.1264, loss = 0.5493 [17.1 s]\n",
      "Iteration 12 [0.1 s]: HR = 0.2577, NDCG = 0.0792, Precision@k = 0.0274, Recall@k = 0.1369, loss = 0.5465 [16.9 s]\n",
      "Iteration 13 [0.1 s]: HR = 0.2455, NDCG = 0.0755, Precision@k = 0.0261, Recall@k = 0.1307, loss = 0.5503 [16.9 s]\n",
      "Iteration 14 [0.1 s]: HR = 0.2271, NDCG = 0.0701, Precision@k = 0.0241, Recall@k = 0.1205, loss = 0.5330 [16.8 s]\n",
      "Iteration 15 [0.1 s]: HR = 0.2222, NDCG = 0.0673, Precision@k = 0.0234, Recall@k = 0.1172, loss = 0.5213 [16.7 s]\n",
      "Iteration 16 [0.1 s]: HR = 0.2226, NDCG = 0.0683, Precision@k = 0.0236, Recall@k = 0.1181, loss = 0.5167 [16.7 s]\n",
      "Iteration 17 [0.1 s]: HR = 0.2266, NDCG = 0.0712, Precision@k = 0.0244, Recall@k = 0.1218, loss = 0.5116 [16.8 s]\n",
      "Iteration 18 [0.1 s]: HR = 0.2407, NDCG = 0.0771, Precision@k = 0.0261, Recall@k = 0.1303, loss = 0.4998 [16.9 s]\n"
     ]
    },
    {
     "ename": "KeyboardInterrupt",
     "evalue": "",
     "output_type": "error",
     "traceback": [
      "\u001b[0;31m---------------------------------------------------------------------------\u001b[0m",
      "\u001b[0;31mKeyboardInterrupt\u001b[0m                         Traceback (most recent call last)",
      "Cell \u001b[0;32mIn[12], line 47\u001b[0m\n\u001b[1;32m     45\u001b[0m \u001b[38;5;28;01mif\u001b[39;00m epoch \u001b[38;5;241m%\u001b[39m verbose \u001b[38;5;241m==\u001b[39m \u001b[38;5;241m0\u001b[39m:  \u001b[38;5;66;03m# Utilisation de verbose pour afficher les résultats chaque X epochs\u001b[39;00m\n\u001b[1;32m     46\u001b[0m     model\u001b[38;5;241m.\u001b[39meval()\n\u001b[0;32m---> 47\u001b[0m     (hits, ndcgs, precisions, recalls) \u001b[38;5;241m=\u001b[39m \u001b[43mevaluate_model\u001b[49m\u001b[43m(\u001b[49m\u001b[43mmodel\u001b[49m\u001b[43m,\u001b[49m\u001b[43m \u001b[49m\u001b[43mtestRatings\u001b[49m\u001b[43m,\u001b[49m\u001b[43m \u001b[49m\u001b[43mtestNegatives\u001b[49m\u001b[43m,\u001b[49m\u001b[43m \u001b[49m\u001b[43mtopK\u001b[49m\u001b[43m)\u001b[49m\n\u001b[1;32m     48\u001b[0m     hr, ndcg, p, r, loss_val \u001b[38;5;241m=\u001b[39m np\u001b[38;5;241m.\u001b[39marray(hits)\u001b[38;5;241m.\u001b[39mmean(), np\u001b[38;5;241m.\u001b[39marray(ndcgs)\u001b[38;5;241m.\u001b[39mmean(), np\u001b[38;5;241m.\u001b[39marray(precisions)\u001b[38;5;241m.\u001b[39mmean(), np\u001b[38;5;241m.\u001b[39marray(recalls)\u001b[38;5;241m.\u001b[39mmean(), loss\u001b[38;5;241m.\u001b[39mitem()\n\u001b[1;32m     49\u001b[0m     \u001b[38;5;28mprint\u001b[39m(\u001b[38;5;124m'\u001b[39m\u001b[38;5;124mIteration \u001b[39m\u001b[38;5;132;01m%d\u001b[39;00m\u001b[38;5;124m [\u001b[39m\u001b[38;5;132;01m%.1f\u001b[39;00m\u001b[38;5;124m s]: HR = \u001b[39m\u001b[38;5;132;01m%.4f\u001b[39;00m\u001b[38;5;124m, NDCG = \u001b[39m\u001b[38;5;132;01m%.4f\u001b[39;00m\u001b[38;5;124m, Precision@k = \u001b[39m\u001b[38;5;132;01m%.4f\u001b[39;00m\u001b[38;5;124m, Recall@k = \u001b[39m\u001b[38;5;132;01m%.4f\u001b[39;00m\u001b[38;5;124m, loss = \u001b[39m\u001b[38;5;132;01m%.4f\u001b[39;00m\u001b[38;5;124m [\u001b[39m\u001b[38;5;132;01m%.1f\u001b[39;00m\u001b[38;5;124m s]\u001b[39m\u001b[38;5;124m'\u001b[39m \n\u001b[1;32m     50\u001b[0m               \u001b[38;5;241m%\u001b[39m (epoch,  t2\u001b[38;5;241m-\u001b[39mt1, hr, ndcg, p, r, loss_val, time()\u001b[38;5;241m-\u001b[39mt2))\n",
      "Cell \u001b[0;32mIn[6], line 17\u001b[0m, in \u001b[0;36mevaluate_model\u001b[0;34m(model, testRatings, testNegatives, K)\u001b[0m\n\u001b[1;32m     15\u001b[0m hits, ndcgs, precisions, recalls \u001b[38;5;241m=\u001b[39m [],[], [], []\n\u001b[1;32m     16\u001b[0m \u001b[38;5;28;01mfor\u001b[39;00m idx \u001b[38;5;129;01min\u001b[39;00m \u001b[38;5;28mrange\u001b[39m(\u001b[38;5;28mlen\u001b[39m(_testRatings)):\n\u001b[0;32m---> 17\u001b[0m     (hr,ndcg,p,r) \u001b[38;5;241m=\u001b[39m \u001b[43meval_one_user\u001b[49m\u001b[43m(\u001b[49m\u001b[43midx\u001b[49m\u001b[43m)\u001b[49m\n\u001b[1;32m     18\u001b[0m     hits\u001b[38;5;241m.\u001b[39mappend(hr)\n\u001b[1;32m     19\u001b[0m     ndcgs\u001b[38;5;241m.\u001b[39mappend(ndcg)   \n",
      "Cell \u001b[0;32mIn[6], line 40\u001b[0m, in \u001b[0;36meval_one_user\u001b[0;34m(idx)\u001b[0m\n\u001b[1;32m     37\u001b[0m items\u001b[38;5;241m.\u001b[39mpop()\n\u001b[1;32m     39\u001b[0m \u001b[38;5;66;03m# Evaluate top rank list\u001b[39;00m\n\u001b[0;32m---> 40\u001b[0m ranklist \u001b[38;5;241m=\u001b[39m \u001b[43mheapq\u001b[49m\u001b[38;5;241;43m.\u001b[39;49m\u001b[43mnlargest\u001b[49m\u001b[43m(\u001b[49m\u001b[43m_K\u001b[49m\u001b[43m,\u001b[49m\u001b[43m \u001b[49m\u001b[43mmap_item_score\u001b[49m\u001b[43m,\u001b[49m\u001b[43m \u001b[49m\u001b[43mkey\u001b[49m\u001b[38;5;241;43m=\u001b[39;49m\u001b[43mmap_item_score\u001b[49m\u001b[38;5;241;43m.\u001b[39;49m\u001b[43mget\u001b[49m\u001b[43m)\u001b[49m\n\u001b[1;32m     41\u001b[0m hr \u001b[38;5;241m=\u001b[39m getHR(ranklist, gtItems)\n\u001b[1;32m     42\u001b[0m ndcg \u001b[38;5;241m=\u001b[39m getNDCG(ranklist, gtItems)\n",
      "File \u001b[0;32m/usr/lib64/python3.9/heapq.py:573\u001b[0m, in \u001b[0;36mnlargest\u001b[0;34m(n, iterable, key)\u001b[0m\n\u001b[1;32m    571\u001b[0m k \u001b[38;5;241m=\u001b[39m key(elem)\n\u001b[1;32m    572\u001b[0m \u001b[38;5;28;01mif\u001b[39;00m top \u001b[38;5;241m<\u001b[39m k:\n\u001b[0;32m--> 573\u001b[0m     \u001b[43m_heapreplace\u001b[49m\u001b[43m(\u001b[49m\u001b[43mresult\u001b[49m\u001b[43m,\u001b[49m\u001b[43m \u001b[49m\u001b[43m(\u001b[49m\u001b[43mk\u001b[49m\u001b[43m,\u001b[49m\u001b[43m \u001b[49m\u001b[43morder\u001b[49m\u001b[43m,\u001b[49m\u001b[43m \u001b[49m\u001b[43melem\u001b[49m\u001b[43m)\u001b[49m\u001b[43m)\u001b[49m\n\u001b[1;32m    574\u001b[0m     top, _order, _elem \u001b[38;5;241m=\u001b[39m result[\u001b[38;5;241m0\u001b[39m]\n\u001b[1;32m    575\u001b[0m     order \u001b[38;5;241m-\u001b[39m\u001b[38;5;241m=\u001b[39m \u001b[38;5;241m1\u001b[39m\n",
      "\u001b[0;31mKeyboardInterrupt\u001b[0m: "
     ]
    }
   ],
   "source": [
    "# Build model and move it to GPU if available\n",
    "model = NeuMF(num_users, num_items, mf_dim, layers).to(device)\n",
    "    \n",
    "# Set optimizer    \n",
    "optimizer = optim.Adam(model.parameters(), lr=learning_rate)\n",
    "    \n",
    "# Check Init performance\n",
    "t1 = time()\n",
    "(hits, ndcgs, precisions, recalls) = evaluate_model(model, testRatings, testNegatives, topK)\n",
    "hr, ndcg, p, r = np.array(hits).mean(), np.array(ndcgs).mean(), np.array(precisions).mean(), np.array(recalls).mean()\n",
    "print('Init: HR = %.4f, NDCG = %.4f, Precision@k = %.4f, Recall@k = %.4f [%.1f]' %(hr, ndcg, p, r, time()-t1))\n",
    "    \n",
    "# Train model\n",
    "best_hr, best_ndcg, best_p, best_r, best_iter = hr, ndcg, p, r, -1\n",
    "loss_neumf = []\n",
    "hr_neumf = []\n",
    "recall_neumf = []\n",
    "\n",
    "for epoch in range(epochs):\n",
    "    t1 = time()\n",
    "    # Generate training instances\n",
    "    user_input, item_input, labels = get_train_instances(train, num_negatives)\n",
    "        \n",
    "    # Convert to tensors and move to GPU\n",
    "    user_input = torch.LongTensor(user_input).to(device)\n",
    "    item_input = torch.LongTensor(item_input).to(device)\n",
    "\n",
    "    labels = torch.FloatTensor(labels).to(device)  # Labels should be LongTensor for CrossEntropyLoss\n",
    "    \n",
    "    # Training        \n",
    "    model.train()\n",
    "    optimizer.zero_grad()\n",
    "    predictions = model(user_input, item_input)\n",
    "        \n",
    "    # Compute loss\n",
    "    labels = labels.unsqueeze(1)\n",
    "    loss_fn = nn.BCEWithLogitsLoss()\n",
    "    loss = loss_fn(predictions, labels)\n",
    "    loss.backward()\n",
    "    optimizer.step()\n",
    "\n",
    "    t2 = time()\n",
    "\n",
    "    # Evaluation\n",
    "    if epoch % verbose == 0:  # Utilisation de verbose pour afficher les résultats chaque X epochs\n",
    "        model.eval()\n",
    "        (hits, ndcgs, precisions, recalls) = evaluate_model(model, testRatings, testNegatives, topK)\n",
    "        hr, ndcg, p, r, loss_val = np.array(hits).mean(), np.array(ndcgs).mean(), np.array(precisions).mean(), np.array(recalls).mean(), loss.item()\n",
    "        print('Iteration %d [%.1f s]: HR = %.4f, NDCG = %.4f, Precision@k = %.4f, Recall@k = %.4f, loss = %.4f [%.1f s]' \n",
    "                  % (epoch,  t2-t1, hr, ndcg, p, r, loss_val, time()-t2))\n",
    "        loss_neumf.append(loss_val)\n",
    "        recall_neumf.append(r)\n",
    "        hr_neumf.append(hr)\n",
    "        if hr > best_hr:\n",
    "            best_hr, best_ndcg, best_p, best_r, best_iter = hr, ndcg, p, r, epoch\n",
    "\n",
    "print(\"End. Best Iteration %d:  HR = %.4f, NDCG = %.4f, Precision@k = %.4f, Recall@k = %.4f. \" %(best_iter, best_hr, best_ndcg, best_p, best_r))"
   ]
  },
  {
   "cell_type": "markdown",
   "metadata": {},
   "source": [
    "Let's plot our losses, hit-ratios, and recall@k to compare both models."
   ]
  },
  {
   "cell_type": "code",
   "execution_count": 13,
   "metadata": {},
   "outputs": [
    {
     "data": {
      "image/png": "[encoded data removed]",
      "text/plain": [
       "<Figure size 1000x600 with 1 Axes>"
      ]
     },
     "metadata": {},
     "output_type": "display_data"
    }
   ],
   "source": [
    "epochs = range(1, len(loss_mlp) + 1)\n",
    "\n",
    "# Create a DataFrame for Seaborn\n",
    "data = pd.DataFrame({\n",
    "    \"Epoch\": list(epochs) * 2,\n",
    "    \"Loss\": loss_mlp + loss_neumf,\n",
    "    \"Model\": [\"MLP\"] * len(loss_mlp) + [\"NeuMF\"] * len(loss_neumf)\n",
    "})\n",
    "\n",
    "# Plot\n",
    "sns.set(style=\"whitegrid\", font_scale=1.2)\n",
    "plt.figure(figsize=(10, 6))\n",
    "sns.lineplot(data=data, x=\"Epoch\", y=\"Loss\", hue=\"Model\", marker=\"o\")\n",
    "\n",
    "# Add labels and title\n",
    "plt.title(\"Loss Comparison Between MLP and NeuMF\", fontsize=16)\n",
    "plt.xlabel(\"Epoch\")\n",
    "plt.ylabel(\"Loss\")\n",
    "plt.legend(title=\"Model\")\n",
    "plt.tight_layout()\n",
    "plt.show()"
   ]
  }
 ],
 "metadata": {
  "kernelspec": {
   "display_name": "Python 3",
   "language": "python",
   "name": "python3"
  },
  "language_info": {
   "codemirror_mode": {
    "name": "ipython",
    "version": 3
   },
   "file_extension": ".py",
   "mimetype": "text/x-python",
   "name": "python",
   "nbconvert_exporter": "python",
   "pygments_lexer": "ipython3",
   "version": "3.9.21"
  }
 },
 "nbformat": 4,
 "nbformat_minor": 2
}
