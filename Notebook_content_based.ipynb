{
 "cells": [
  {
   "cell_type": "markdown",
   "metadata": {},
   "source": [
    "# Advanced ML, Recomendation project : "
   ]
  },
  {
   "cell_type": "markdown",
   "metadata": {},
   "source": [
    "### Description of the General topic:  \n",
    " \n",
    "A recommendation system is a class of machine learning tools designed to suggest \n",
    "relevant items to users based on their preferences, behaviors, and other users’ \n",
    "activities. They are widely used across e-commerce, streaming platforms, social \n",
    "media, and online advertising, aiming to enhance user experience by delivering \n",
    "personalized content or product suggestions."
   ]
  },
  {
   "cell_type": "markdown",
   "metadata": {},
   "source": [
    "## II - Content based filtering \n",
    "\n",
    "Content-based filtering recommends products based on item characteristics and user \n",
    "preferences. This approach analyzes the features of items (e.g., category, brand, price, \n",
    "description, etc.) and suggests items similar to those the user has interacted with in the \n",
    "past. \n",
    " \n",
    "In content-based Filtering we can use NLP similarity techniques such as tf-idf and \n",
    "Cosine similarity. \n",
    "Otherwise, we also can use Neural Networks: embeddings (Word2Vec, BERT \n",
    "embeddings) for textual data, we can capture richer semantic information about items."
   ]
  },
  {
   "cell_type": "markdown",
   "metadata": {},
   "source": []
  },
  {
   "cell_type": "markdown",
   "metadata": {},
   "source": [
    "Matrix factorization in recommendation systems generally works by decomposing a large user-item interaction matrix into two smaller matrices:\n",
    "\n",
    "User Matrix (U): Encodes latent features of users.\n",
    "\n",
    "Item Matrix (V): Encodes latent features of items. \n",
    "\n",
    "The goal is to predict ratings or user preferences using the product of these two matrices: \n",
    "$$ R ≈U⋅V^T $$\n",
    "\n",
    "Where R is the user-item interaction matrix."
   ]
  },
  {
   "cell_type": "markdown",
   "metadata": {},
   "source": [
    "**PAPER : MATRIX FACTORIZATION TECHNIQUES FOR RECOMMENDER SYSTEMS**\n",
    "- Yehuda Koren, Yahoo Research\n",
    "- Robert Bell and Chris Volinsky, AT&T Labs—Research"
   ]
  },
  {
   "cell_type": "code",
   "execution_count": null,
   "metadata": {},
   "outputs": [],
   "source": []
  },
  {
   "cell_type": "markdown",
   "metadata": {},
   "source": [
    "# **Matrix Factorization Algorithm**\n",
    "\n",
    "Matrix factorization is a collaborative filtering method used to predict missing entries in the user-item interaction matrix by decomposing it into two low-dimensional matrices:  U (user embeddings) and V (item embeddings).\n",
    "\n",
    "##### Initialize Matrices\n",
    "- Randomly initialize  U  and  V \n",
    "- Alternatively, use metadata embeddings to initialize these matrices.\n",
    "\n",
    "---\n",
    "\n",
    "##### Optimize for Loss Function\n",
    "The goal is to minimize the squared error with regularization:\n",
    "\n",
    "$$\n",
    "L = \\sum_{(i,j) \\in R} \\left( R_{ij} - U_i \\cdot V_j^\\top \\right)^2 + \\lambda \\left( \\|U\\|^2 + \\|V\\|^2 \\right)\n",
    "$$\n",
    "\n",
    "Where:\n",
    "- R : The user-item interaction matrix.\n",
    "- R_{ij}: Observed rating for user i and item j.\n",
    "- U_i : Latent vector for user i.\n",
    "- V_j : Latent vector for item j.\n",
    "- lambda : Regularization parameter to prevent overfitting.\n",
    "- |U|^2 and |V|^2 : Regularization terms for U and V.\n",
    "\n",
    "---\n",
    "\n",
    "##### Iterative Updates\n",
    "- Update U and V alternately to minimize the loss function L.\n",
    "- Common optimization techniques include:\n",
    "  \n",
    "  \n",
    "  - **Alternating Least Squares (ALS):**\n",
    "  \n",
    "    - Fix V and solve for U, then fix U and solve for V.\n",
    "  \n",
    "  - **Stochastic Gradient Descent (SGD):**\n",
    "  \n",
    "    - Update U and V by iteratively taking gradient steps on L.\n",
    "\n",
    "---\n",
    "\n",
    "##### Output\n",
    "- U : Captures user preferences in a latent space.\n",
    "- V : Captures item characteristics in the same latent space.\n",
    "\n",
    "The predicted rating for user  i and item j is given by:\n",
    "\n",
    "$$\n",
    "\\hat{R}_{ij} = U_i \\cdot V_j^\\top\n",
    "$$\n"
   ]
  },
  {
   "cell_type": "markdown",
   "metadata": {},
   "source": []
  },
  {
   "cell_type": "code",
   "execution_count": 20,
   "metadata": {},
   "outputs": [],
   "source": [
    "import numpy as np\n",
    "import pandas as pd\n",
    "from scipy.sparse import csr_matrix\n",
    "import json \n",
    "from sklearn.preprocessing import LabelEncoder\n",
    "from sklearn.model_selection import train_test_split"
   ]
  },
  {
   "cell_type": "markdown",
   "metadata": {},
   "source": [
    "### **Data loading :**"
   ]
  },
  {
   "cell_type": "code",
   "execution_count": 2,
   "metadata": {},
   "outputs": [],
   "source": [
    "# DATA LOADING : \n",
    "file = \"/Users/aminerazig/Desktop/ENSAE 3A/ADVANCED ML/Advanced ML-project/DATA/meta_Musical_Instruments.jsonl\"\n",
    "\n",
    "with open(file, 'r') as file:\n",
    "    metadata = [json.loads(line) for line in file]"
   ]
  },
  {
   "cell_type": "code",
   "execution_count": 27,
   "metadata": {},
   "outputs": [],
   "source": [
    "df_metadata = pd.DataFrame([\n",
    "    {\n",
    "        \"id\": item[\"parent_asin\"],\n",
    "        \"main_category\": item[\"main_category\"],\n",
    "        \"title\": item[\"title\"],\n",
    "        \"average_rating\": item[\"average_rating\"],\n",
    "        \"rating_number\": item[\"rating_number\"],\n",
    "        \"features\": item[\"features\"],\n",
    "        \"description\": item[\"description\"],\n",
    "        \"price\": item[\"price\"],\n",
    "        \"images\": item[\"images\"],\n",
    "        \"videos\": item[\"videos\"],\n",
    "        \"store\": item[\"store\"],\n",
    "        \"categories\": item[\"categories\"],\n",
    "        \"details\": item[\"details\"],\n",
    "        \"bought_together\": item[\"bought_together\"],\n",
    "    }\n",
    "    for item in metadata\n",
    "])\n"
   ]
  },
  {
   "cell_type": "code",
   "execution_count": 15,
   "metadata": {},
   "outputs": [
    {
     "data": {
      "text/html": [
       "<div>\n",
       "<style scoped>\n",
       "    .dataframe tbody tr th:only-of-type {\n",
       "        vertical-align: middle;\n",
       "    }\n",
       "\n",
       "    .dataframe tbody tr th {\n",
       "        vertical-align: top;\n",
       "    }\n",
       "\n",
       "    .dataframe thead th {\n",
       "        text-align: right;\n",
       "    }\n",
       "</style>\n",
       "<table border=\"1\" class=\"dataframe\">\n",
       "  <thead>\n",
       "    <tr style=\"text-align: right;\">\n",
       "      <th></th>\n",
       "      <th>id</th>\n",
       "      <th>main_category</th>\n",
       "      <th>title</th>\n",
       "      <th>average_rating</th>\n",
       "      <th>rating_number</th>\n",
       "      <th>features</th>\n",
       "      <th>description</th>\n",
       "      <th>price</th>\n",
       "      <th>images</th>\n",
       "      <th>videos</th>\n",
       "      <th>store</th>\n",
       "      <th>categories</th>\n",
       "      <th>details</th>\n",
       "      <th>bought_together</th>\n",
       "    </tr>\n",
       "  </thead>\n",
       "  <tbody>\n",
       "    <tr>\n",
       "      <th>0</th>\n",
       "      <td>B01M4HO6RK</td>\n",
       "      <td>Musical Instruments</td>\n",
       "      <td>Pearl Export Lacquer EXL725S/C249 5-Piece New ...</td>\n",
       "      <td>4.2</td>\n",
       "      <td>22</td>\n",
       "      <td>[Item may ship in more than one box and may ar...</td>\n",
       "      <td>[Introducing the best selling drum set of all ...</td>\n",
       "      <td>None</td>\n",
       "      <td>[{'thumb': 'https://m.media-amazon.com/images/...</td>\n",
       "      <td>[{'title': 'Best Selling Drum Set of All Time'...</td>\n",
       "      <td>Pearl</td>\n",
       "      <td>[Musical Instruments, Drums &amp; Percussion, Drum...</td>\n",
       "      <td>{'Item Weight': '33 pounds', 'Product Dimensio...</td>\n",
       "      <td>None</td>\n",
       "    </tr>\n",
       "    <tr>\n",
       "      <th>1</th>\n",
       "      <td>B00508JFE4</td>\n",
       "      <td>Musical Instruments</td>\n",
       "      <td>Behringer EUROPOWER EPQ900 Professional 900 Wa...</td>\n",
       "      <td>4.0</td>\n",
       "      <td>13</td>\n",
       "      <td>[2 x 390 Watts into 4 Ohms; 2 x 245 Watts into...</td>\n",
       "      <td>[BEHRINGER EUROPOWER EPQ900, Professional 900-...</td>\n",
       "      <td>None</td>\n",
       "      <td>[{'thumb': 'https://m.media-amazon.com/images/...</td>\n",
       "      <td>[]</td>\n",
       "      <td>Behringer</td>\n",
       "      <td>[Musical Instruments, Live Sound &amp; Stage, Powe...</td>\n",
       "      <td>{'Item Weight': '10.8 pounds', 'Product Dimens...</td>\n",
       "      <td>None</td>\n",
       "    </tr>\n",
       "  </tbody>\n",
       "</table>\n",
       "</div>"
      ],
      "text/plain": [
       "           id        main_category  \\\n",
       "0  B01M4HO6RK  Musical Instruments   \n",
       "1  B00508JFE4  Musical Instruments   \n",
       "\n",
       "                                               title  average_rating  \\\n",
       "0  Pearl Export Lacquer EXL725S/C249 5-Piece New ...             4.2   \n",
       "1  Behringer EUROPOWER EPQ900 Professional 900 Wa...             4.0   \n",
       "\n",
       "   rating_number                                           features  \\\n",
       "0             22  [Item may ship in more than one box and may ar...   \n",
       "1             13  [2 x 390 Watts into 4 Ohms; 2 x 245 Watts into...   \n",
       "\n",
       "                                         description price  \\\n",
       "0  [Introducing the best selling drum set of all ...  None   \n",
       "1  [BEHRINGER EUROPOWER EPQ900, Professional 900-...  None   \n",
       "\n",
       "                                              images  \\\n",
       "0  [{'thumb': 'https://m.media-amazon.com/images/...   \n",
       "1  [{'thumb': 'https://m.media-amazon.com/images/...   \n",
       "\n",
       "                                              videos      store  \\\n",
       "0  [{'title': 'Best Selling Drum Set of All Time'...      Pearl   \n",
       "1                                                 []  Behringer   \n",
       "\n",
       "                                          categories  \\\n",
       "0  [Musical Instruments, Drums & Percussion, Drum...   \n",
       "1  [Musical Instruments, Live Sound & Stage, Powe...   \n",
       "\n",
       "                                             details bought_together  \n",
       "0  {'Item Weight': '33 pounds', 'Product Dimensio...            None  \n",
       "1  {'Item Weight': '10.8 pounds', 'Product Dimens...            None  "
      ]
     },
     "execution_count": 15,
     "metadata": {},
     "output_type": "execute_result"
    }
   ],
   "source": [
    "df_metadata.head(2)"
   ]
  },
  {
   "cell_type": "code",
   "execution_count": 28,
   "metadata": {},
   "outputs": [
    {
     "data": {
      "text/html": [
       "<div>\n",
       "<style scoped>\n",
       "    .dataframe tbody tr th:only-of-type {\n",
       "        vertical-align: middle;\n",
       "    }\n",
       "\n",
       "    .dataframe tbody tr th {\n",
       "        vertical-align: top;\n",
       "    }\n",
       "\n",
       "    .dataframe thead th {\n",
       "        text-align: right;\n",
       "    }\n",
       "</style>\n",
       "<table border=\"1\" class=\"dataframe\">\n",
       "  <thead>\n",
       "    <tr style=\"text-align: right;\">\n",
       "      <th></th>\n",
       "      <th>user</th>\n",
       "      <th>id</th>\n",
       "      <th>rating</th>\n",
       "    </tr>\n",
       "  </thead>\n",
       "  <tbody>\n",
       "    <tr>\n",
       "      <th>0</th>\n",
       "      <td>AE23JYHGEN3D35CHE5OQQYJOW5RA</td>\n",
       "      <td>B000EEHKVY</td>\n",
       "      <td>5.0</td>\n",
       "    </tr>\n",
       "    <tr>\n",
       "      <th>1</th>\n",
       "      <td>AE23JYHGEN3D35CHE5OQQYJOW5RA</td>\n",
       "      <td>B000TGSM6E</td>\n",
       "      <td>5.0</td>\n",
       "    </tr>\n",
       "  </tbody>\n",
       "</table>\n",
       "</div>"
      ],
      "text/plain": [
       "                           user          id  rating\n",
       "0  AE23JYHGEN3D35CHE5OQQYJOW5RA  B000EEHKVY     5.0\n",
       "1  AE23JYHGEN3D35CHE5OQQYJOW5RA  B000TGSM6E     5.0"
      ]
     },
     "execution_count": 28,
     "metadata": {},
     "output_type": "execute_result"
    }
   ],
   "source": [
    "df_recommendation = pd.read_csv(\"base de donnée_20_20.csv\")\n",
    "df_recommendation.head(2)"
   ]
  },
  {
   "cell_type": "code",
   "execution_count": 29,
   "metadata": {},
   "outputs": [
    {
     "name": "stdout",
     "output_type": "stream",
     "text": [
      "(42626, 3)\n",
      "(42626, 16)\n"
     ]
    }
   ],
   "source": [
    "print(df_recommendation.shape)\n",
    "df_recommendation = pd.merge(df_recommendation, df_metadata, left_on='id', right_on='id', how='left')\n",
    "print(df_recommendation.shape)\n"
   ]
  },
  {
   "cell_type": "code",
   "execution_count": 19,
   "metadata": {},
   "outputs": [
    {
     "data": {
      "text/html": [
       "<div>\n",
       "<style scoped>\n",
       "    .dataframe tbody tr th:only-of-type {\n",
       "        vertical-align: middle;\n",
       "    }\n",
       "\n",
       "    .dataframe tbody tr th {\n",
       "        vertical-align: top;\n",
       "    }\n",
       "\n",
       "    .dataframe thead th {\n",
       "        text-align: right;\n",
       "    }\n",
       "</style>\n",
       "<table border=\"1\" class=\"dataframe\">\n",
       "  <thead>\n",
       "    <tr style=\"text-align: right;\">\n",
       "      <th></th>\n",
       "      <th>user</th>\n",
       "      <th>id</th>\n",
       "      <th>rating</th>\n",
       "      <th>main_category</th>\n",
       "      <th>title</th>\n",
       "      <th>average_rating</th>\n",
       "      <th>rating_number</th>\n",
       "      <th>features</th>\n",
       "      <th>description</th>\n",
       "      <th>price</th>\n",
       "      <th>images</th>\n",
       "      <th>videos</th>\n",
       "      <th>store</th>\n",
       "      <th>categories</th>\n",
       "      <th>details</th>\n",
       "      <th>bought_together</th>\n",
       "    </tr>\n",
       "  </thead>\n",
       "  <tbody>\n",
       "    <tr>\n",
       "      <th>0</th>\n",
       "      <td>AE23JYHGEN3D35CHE5OQQYJOW5RA</td>\n",
       "      <td>B000EEHKVY</td>\n",
       "      <td>5.0</td>\n",
       "      <td>Musical Instruments</td>\n",
       "      <td>Hercules GS414B A/G Guitar Stand</td>\n",
       "      <td>4.8</td>\n",
       "      <td>605</td>\n",
       "      <td>[AGS yoke System for security, SFF rubber on t...</td>\n",
       "      <td>[The Hercules GS414B Guitar stand features the...</td>\n",
       "      <td>55.99</td>\n",
       "      <td>[{'thumb': 'https://m.media-amazon.com/images/...</td>\n",
       "      <td>[{'title': 'Is it Worth it? Hercules Guitar St...</td>\n",
       "      <td>HERCULES</td>\n",
       "      <td>[Musical Instruments, Instrument Accessories, ...</td>\n",
       "      <td>{'Item Weight': '4.18 Pounds', 'Product Dimens...</td>\n",
       "      <td>None</td>\n",
       "    </tr>\n",
       "    <tr>\n",
       "      <th>1</th>\n",
       "      <td>AE23JYHGEN3D35CHE5OQQYJOW5RA</td>\n",
       "      <td>B000TGSM6E</td>\n",
       "      <td>5.0</td>\n",
       "      <td>Musical Instruments</td>\n",
       "      <td>D'Addario Accessories Gel Guitar Strap Pad - P...</td>\n",
       "      <td>4.5</td>\n",
       "      <td>788</td>\n",
       "      <td>[&lt;p&gt;The revolutionary Planet Waves gel pad tra...</td>\n",
       "      <td>[Product Description, Revolutionaly gel pads t...</td>\n",
       "      <td>14.89</td>\n",
       "      <td>[{'thumb': 'https://m.media-amazon.com/images/...</td>\n",
       "      <td>[{'title': 'An easy fix to prevent annoying gu...</td>\n",
       "      <td>D'Addario Accessories</td>\n",
       "      <td>[Musical Instruments, Instrument Accessories, ...</td>\n",
       "      <td>{'Item Weight': '5.6 ounces', 'Product Dimensi...</td>\n",
       "      <td>None</td>\n",
       "    </tr>\n",
       "  </tbody>\n",
       "</table>\n",
       "</div>"
      ],
      "text/plain": [
       "                           user          id  rating        main_category  \\\n",
       "0  AE23JYHGEN3D35CHE5OQQYJOW5RA  B000EEHKVY     5.0  Musical Instruments   \n",
       "1  AE23JYHGEN3D35CHE5OQQYJOW5RA  B000TGSM6E     5.0  Musical Instruments   \n",
       "\n",
       "                                               title  average_rating  \\\n",
       "0                   Hercules GS414B A/G Guitar Stand             4.8   \n",
       "1  D'Addario Accessories Gel Guitar Strap Pad - P...             4.5   \n",
       "\n",
       "   rating_number                                           features  \\\n",
       "0            605  [AGS yoke System for security, SFF rubber on t...   \n",
       "1            788  [<p>The revolutionary Planet Waves gel pad tra...   \n",
       "\n",
       "                                         description  price  \\\n",
       "0  [The Hercules GS414B Guitar stand features the...  55.99   \n",
       "1  [Product Description, Revolutionaly gel pads t...  14.89   \n",
       "\n",
       "                                              images  \\\n",
       "0  [{'thumb': 'https://m.media-amazon.com/images/...   \n",
       "1  [{'thumb': 'https://m.media-amazon.com/images/...   \n",
       "\n",
       "                                              videos                  store  \\\n",
       "0  [{'title': 'Is it Worth it? Hercules Guitar St...               HERCULES   \n",
       "1  [{'title': 'An easy fix to prevent annoying gu...  D'Addario Accessories   \n",
       "\n",
       "                                          categories  \\\n",
       "0  [Musical Instruments, Instrument Accessories, ...   \n",
       "1  [Musical Instruments, Instrument Accessories, ...   \n",
       "\n",
       "                                             details bought_together  \n",
       "0  {'Item Weight': '4.18 Pounds', 'Product Dimens...            None  \n",
       "1  {'Item Weight': '5.6 ounces', 'Product Dimensi...            None  "
      ]
     },
     "execution_count": 19,
     "metadata": {},
     "output_type": "execute_result"
    }
   ],
   "source": [
    "df_recommendation.head(2)\n"
   ]
  },
  {
   "cell_type": "code",
   "execution_count": null,
   "metadata": {},
   "outputs": [],
   "source": [
    "import EDA_functions\n",
    "\n",
    "EDA_functions.show_image(df_metadata[\"images\"][0][0].get(\"large\"))\n"
   ]
  },
  {
   "cell_type": "markdown",
   "metadata": {},
   "source": [
    "### **Recommendation System** :"
   ]
  },
  {
   "cell_type": "code",
   "execution_count": 30,
   "metadata": {},
   "outputs": [],
   "source": [
    "# Encode user and product IDs as integers\n",
    "user_encoder = LabelEncoder()\n",
    "item_encoder = LabelEncoder()\n",
    "\n",
    "df_recommendation['user_encoded'] = user_encoder.fit_transform(df_recommendation['user'])\n",
    "df_recommendation['item_encoded'] = item_encoder.fit_transform(df_recommendation['id'])\n",
    "df_recommendation['main_category_encoded'] = LabelEncoder().fit_transform(df_recommendation['main_category'])\n",
    "# Create a mapping for reverse lookups\n",
    "user_mapping = dict(zip(df_recommendation['user_encoded'], df_recommendation['user']))\n",
    "item_mapping = dict(zip(df_recommendation['item_encoded'], df_recommendation['id']))\n",
    "\n",
    "# Split data into training and testing sets\n",
    "train, test = train_test_split(df_recommendation, test_size=0.2, random_state=42)\n"
   ]
  },
  {
   "cell_type": "code",
   "execution_count": 31,
   "metadata": {},
   "outputs": [],
   "source": [
    "# Neural network for embedding metadata : \n",
    "\n",
    "import torch\n",
    "import torch.nn as nn\n",
    "import torch.optim as optim\n",
    "\n",
    "\n",
    "class MetadataEmbedding(nn.Module):\n",
    "    def __init__(self, main_category_vocab_size, embedding_dim=50):\n",
    "        super(MetadataEmbedding, self).__init__()\n",
    "        # Embedding layer for main category\n",
    "        self.main_category_embedding = nn.Embedding(main_category_vocab_size, embedding_dim)\n",
    "        # Dense layers for other metadata\n",
    "        self.fc = nn.Sequential(\n",
    "            nn.Linear(embedding_dim + 1, 128),\n",
    "            nn.ReLU(),\n",
    "            nn.Linear(128, embedding_dim)\n",
    "        )\n",
    "\n",
    "    def forward(self, main_category, price):\n",
    "        # Embed main category\n",
    "        main_category_embedded = self.main_category_embedding(main_category)\n",
    "        # Concatenate with price (normalize price if needed)\n",
    "        x = torch.cat([main_category_embedded, price.unsqueeze(1)], dim=1)\n",
    "        # Pass through dense layers\n",
    "        return self.fc(x)\n"
   ]
  },
  {
   "cell_type": "code",
   "execution_count": 50,
   "metadata": {},
   "outputs": [],
   "source": [
    "class MatrixFactorizationWithMetadata(nn.Module):\n",
    "    def __init__(self, n_users, n_items, metadata_embedding_model, embedding_dim=50):\n",
    "        super(MatrixFactorizationWithMetadata, self).__init__()\n",
    "        self.user_embedding = nn.Embedding(n_users, embedding_dim)\n",
    "        self.item_embedding = nn.Embedding(n_items, embedding_dim)\n",
    "        self.metadata_embedding_model = metadata_embedding_model\n",
    "        self.fc = nn.Sequential(\n",
    "            nn.Linear(embedding_dim * 2, 128),\n",
    "            nn.ReLU(),\n",
    "            nn.Linear(128, 1)  # Predict rating\n",
    "        )\n",
    "\n",
    "    def forward(self, user, item, metadata):\n",
    "        user_embedded = self.user_embedding(user)\n",
    "        item_embedded = self.item_embedding(item)\n",
    "\n",
    "        # Ensure metadata matches item dimensions\n",
    "        main_category, price = metadata\n",
    "        metadata_embedded = self.metadata_embedding_model(main_category, price)\n",
    "\n",
    "        # Ensure item_embedded and metadata_embedded shapes match\n",
    "        metadata_embedded = metadata_embedded[:item_embedded.size(0)]  # Truncate metadata to match items if needed\n",
    "\n",
    "        # Combine item embedding with metadata embedding\n",
    "        item_embedded = item_embedded + metadata_embedded\n",
    "        # Concatenate user and item embeddings\n",
    "        x = torch.cat([user_embedded, item_embedded], dim=1)\n",
    "        return self.fc(x)\n",
    "\n"
   ]
  },
  {
   "cell_type": "code",
   "execution_count": 52,
   "metadata": {},
   "outputs": [
    {
     "name": "stdout",
     "output_type": "stream",
     "text": [
      "Epoch 1, Train Loss: 21.3363, Test Loss: 19.0558\n",
      "Epoch 2, Train Loss: 19.0258, Test Loss: 17.1676\n",
      "Epoch 3, Train Loss: 17.1264, Test Loss: 15.6005\n",
      "Epoch 4, Train Loss: 15.5549, Test Loss: 14.4407\n",
      "Epoch 5, Train Loss: 14.4009, Test Loss: 13.7988\n",
      "Epoch 6, Train Loss: 13.7790, Test Loss: 13.5574\n",
      "Epoch 7, Train Loss: 13.5633, Test Loss: 13.2602\n",
      "Epoch 8, Train Loss: 13.2815, Test Loss: 12.6653\n",
      "Epoch 9, Train Loss: 12.6868, Test Loss: 11.8981\n",
      "Epoch 10, Train Loss: 11.9116, Test Loss: 11.1203\n",
      "Epoch 11, Train Loss: 11.1241, Test Loss: 10.4146\n",
      "Epoch 12, Train Loss: 10.4078, Test Loss: 9.8105\n",
      "Epoch 13, Train Loss: 9.7975, Test Loss: 9.2684\n",
      "Epoch 14, Train Loss: 9.2543, Test Loss: 8.7136\n",
      "Epoch 15, Train Loss: 8.7007, Test Loss: 8.1098\n",
      "Epoch 16, Train Loss: 8.1029, Test Loss: 7.4356\n",
      "Epoch 17, Train Loss: 7.4366, Test Loss: 6.7234\n",
      "Epoch 18, Train Loss: 6.7343, Test Loss: 6.0188\n",
      "Epoch 19, Train Loss: 6.0418, Test Loss: 5.3318\n",
      "Epoch 20, Train Loss: 5.3667, Test Loss: 4.6560\n",
      "Epoch 21, Train Loss: 4.6987, Test Loss: 3.9716\n",
      "Epoch 22, Train Loss: 4.0165, Test Loss: 3.2847\n",
      "Epoch 23, Train Loss: 3.3292, Test Loss: 2.6596\n",
      "Epoch 24, Train Loss: 2.7027, Test Loss: 2.1963\n",
      "Epoch 25, Train Loss: 2.2398, Test Loss: 1.9424\n",
      "Epoch 26, Train Loss: 1.9870, Test Loss: 1.8944\n",
      "Epoch 27, Train Loss: 1.9390, Test Loss: 2.0187\n",
      "Epoch 28, Train Loss: 2.0598, Test Loss: 2.2433\n",
      "Epoch 29, Train Loss: 2.2799, Test Loss: 2.4532\n",
      "Epoch 30, Train Loss: 2.4863, Test Loss: 2.5399\n",
      "Epoch 31, Train Loss: 2.5717, Test Loss: 2.4710\n",
      "Epoch 32, Train Loss: 2.5039, Test Loss: 2.2917\n",
      "Epoch 33, Train Loss: 2.3266, Test Loss: 2.0725\n",
      "Epoch 34, Train Loss: 2.1092, Test Loss: 1.8666\n",
      "Epoch 35, Train Loss: 1.9041, Test Loss: 1.7010\n",
      "Epoch 36, Train Loss: 1.7380, Test Loss: 1.5888\n",
      "Epoch 37, Train Loss: 1.6242, Test Loss: 1.5353\n",
      "Epoch 38, Train Loss: 1.5677, Test Loss: 1.5314\n",
      "Epoch 39, Train Loss: 1.5605, Test Loss: 1.5494\n",
      "Epoch 40, Train Loss: 1.5761, Test Loss: 1.5619\n",
      "Epoch 41, Train Loss: 1.5865, Test Loss: 1.5613\n",
      "Epoch 42, Train Loss: 1.5835, Test Loss: 1.5496\n",
      "Epoch 43, Train Loss: 1.5694, Test Loss: 1.5246\n",
      "Epoch 44, Train Loss: 1.5427, Test Loss: 1.4815\n",
      "Epoch 45, Train Loss: 1.4977, Test Loss: 1.4233\n",
      "Epoch 46, Train Loss: 1.4378, Test Loss: 1.3635\n",
      "Epoch 47, Train Loss: 1.3764, Test Loss: 1.3123\n",
      "Epoch 48, Train Loss: 1.3237, Test Loss: 1.2691\n",
      "Epoch 49, Train Loss: 1.2793, Test Loss: 1.2317\n",
      "Epoch 50, Train Loss: 1.2413, Test Loss: 1.2045\n",
      "Epoch 51, Train Loss: 1.2137, Test Loss: 1.1905\n",
      "Epoch 52, Train Loss: 1.1991, Test Loss: 1.1871\n",
      "Epoch 53, Train Loss: 1.1951, Test Loss: 1.1868\n",
      "Epoch 54, Train Loss: 1.1939, Test Loss: 1.1850\n",
      "Epoch 55, Train Loss: 1.1913, Test Loss: 1.1797\n",
      "Epoch 56, Train Loss: 1.1854, Test Loss: 1.1734\n",
      "Epoch 57, Train Loss: 1.1782, Test Loss: 1.1638\n",
      "Epoch 58, Train Loss: 1.1673, Test Loss: 1.1503\n",
      "Epoch 59, Train Loss: 1.1526, Test Loss: 1.1386\n",
      "Epoch 60, Train Loss: 1.1397, Test Loss: 1.1313\n",
      "Epoch 61, Train Loss: 1.1311, Test Loss: 1.1258\n",
      "Epoch 62, Train Loss: 1.1243, Test Loss: 1.1211\n",
      "Epoch 63, Train Loss: 1.1185, Test Loss: 1.1176\n",
      "Epoch 64, Train Loss: 1.1140, Test Loss: 1.1125\n",
      "Epoch 65, Train Loss: 1.1080, Test Loss: 1.1063\n",
      "Epoch 66, Train Loss: 1.1014, Test Loss: 1.0982\n",
      "Epoch 67, Train Loss: 1.0928, Test Loss: 1.0903\n",
      "Epoch 68, Train Loss: 1.0847, Test Loss: 1.0825\n",
      "Epoch 69, Train Loss: 1.0768, Test Loss: 1.0758\n",
      "Epoch 70, Train Loss: 1.0700, Test Loss: 1.0712\n",
      "Epoch 71, Train Loss: 1.0652, Test Loss: 1.0678\n",
      "Epoch 72, Train Loss: 1.0616, Test Loss: 1.0650\n",
      "Epoch 73, Train Loss: 1.0584, Test Loss: 1.0624\n",
      "Epoch 74, Train Loss: 1.0555, Test Loss: 1.0600\n",
      "Epoch 75, Train Loss: 1.0526, Test Loss: 1.0571\n",
      "Epoch 76, Train Loss: 1.0489, Test Loss: 1.0539\n",
      "Epoch 77, Train Loss: 1.0447, Test Loss: 1.0512\n",
      "Epoch 78, Train Loss: 1.0409, Test Loss: 1.0491\n",
      "Epoch 79, Train Loss: 1.0377, Test Loss: 1.0471\n",
      "Epoch 80, Train Loss: 1.0347, Test Loss: 1.0453\n",
      "Epoch 81, Train Loss: 1.0320, Test Loss: 1.0439\n",
      "Epoch 82, Train Loss: 1.0296, Test Loss: 1.0422\n",
      "Epoch 83, Train Loss: 1.0270, Test Loss: 1.0401\n",
      "Epoch 84, Train Loss: 1.0240, Test Loss: 1.0380\n",
      "Epoch 85, Train Loss: 1.0211, Test Loss: 1.0361\n",
      "Epoch 86, Train Loss: 1.0183, Test Loss: 1.0338\n",
      "Epoch 87, Train Loss: 1.0153, Test Loss: 1.0319\n",
      "Epoch 88, Train Loss: 1.0129, Test Loss: 1.0304\n",
      "Epoch 89, Train Loss: 1.0108, Test Loss: 1.0291\n",
      "Epoch 90, Train Loss: 1.0088, Test Loss: 1.0285\n",
      "Epoch 91, Train Loss: 1.0075, Test Loss: 1.0263\n",
      "Epoch 92, Train Loss: 1.0047, Test Loss: 1.0253\n",
      "Epoch 93, Train Loss: 1.0031, Test Loss: 1.0235\n",
      "Epoch 94, Train Loss: 1.0005, Test Loss: 1.0226\n",
      "Epoch 95, Train Loss: 0.9988, Test Loss: 1.0213\n",
      "Epoch 96, Train Loss: 0.9968, Test Loss: 1.0195\n",
      "Epoch 97, Train Loss: 0.9944, Test Loss: 1.0184\n",
      "Epoch 98, Train Loss: 0.9928, Test Loss: 1.0170\n",
      "Epoch 99, Train Loss: 0.9907, Test Loss: 1.0158\n",
      "Epoch 100, Train Loss: 0.9889, Test Loss: 1.0146\n"
     ]
    }
   ],
   "source": [
    "# Prepare data\n",
    "n_users = df_recommendation['user_encoded'].max() + 1\n",
    "n_items = df_recommendation['item_encoded'].max() + 1\n",
    "main_category_vocab_size = df_recommendation['main_category_encoded'].max() + 1\n",
    "\n",
    "metadata_embedding_model = MetadataEmbedding(main_category_vocab_size, embedding_dim=50)\n",
    "model = MatrixFactorizationWithMetadata(n_users, n_items, metadata_embedding_model, embedding_dim=50)\n",
    "\n",
    "# Loss and optimizer\n",
    "criterion = nn.MSELoss()\n",
    "optimizer = optim.Adam(model.parameters(), lr=0.001)\n",
    "\n",
    "# Convert data to PyTorch tensors\n",
    "train_users = torch.tensor(train['user_encoded'].values, dtype=torch.long)\n",
    "train_items = torch.tensor(train['item_encoded'].values, dtype=torch.long)\n",
    "train_ratings = torch.tensor(train['rating'].values, dtype=torch.float32)\n",
    "train_main_category = torch.tensor(train['main_category_encoded'].values, dtype=torch.long)\n",
    "#train_price = torch.tensor(train['price'].values, dtype=torch.float32)\n",
    "\n",
    "test_users = torch.tensor(test['user_encoded'].values, dtype=torch.long)\n",
    "test_items = torch.tensor(test['item_encoded'].values, dtype=torch.long)\n",
    "test_ratings = torch.tensor(test['rating'].values, dtype=torch.float32)\n",
    "test_main_category = torch.tensor(test['main_category_encoded'].values, dtype=torch.long)\n",
    "#test_price = torch.tensor(test['price'].values, dtype=torch.float32)\n",
    "# Ensure 'price' column is numeric\n",
    "train['price'] = pd.to_numeric(train['price'], errors='coerce')\n",
    "test['price'] = pd.to_numeric(test['price'], errors='coerce')\n",
    "\n",
    "# Replace NaN values with a default (e.g., 0.0)\n",
    "train['price'] = train['price'].fillna(0.0)\n",
    "test['price'] = test['price'].fillna(0.0)\n",
    "\n",
    "# Convert to PyTorch tensors\n",
    "train_price = torch.tensor(train['price'].values, dtype=torch.float32)\n",
    "test_price = torch.tensor(test['price'].values, dtype=torch.float32)\n",
    "\n",
    "# Training loop\n",
    "for epoch in range(100):\n",
    "    model.train()\n",
    "    optimizer.zero_grad()\n",
    "    # Forward pass\n",
    "    predictions = model(train_users, train_items, (train_main_category, train_price)).squeeze()\n",
    "    loss = criterion(predictions, train_ratings)\n",
    "    # Backward pass\n",
    "    loss.backward()\n",
    "    optimizer.step()\n",
    "\n",
    "    # Evaluate on test set\n",
    "    model.eval()\n",
    "    with torch.no_grad():\n",
    "        test_predictions = model(test_users, test_items, (test_main_category, test_price)).squeeze()\n",
    "        test_loss = criterion(test_predictions, test_ratings)\n",
    "    print(f\"Epoch {epoch+1}, Train Loss: {loss.item():.4f}, Test Loss: {test_loss.item():.4f}\")\n"
   ]
  },
  {
   "cell_type": "code",
   "execution_count": 41,
   "metadata": {},
   "outputs": [],
   "source": [
    "# Create reverse mapping\n",
    "user_index_mapping = {v: k for k, v in user_mapping.items()}\n"
   ]
  },
  {
   "cell_type": "code",
   "execution_count": 45,
   "metadata": {},
   "outputs": [],
   "source": [
    "# Ensure 'price' column is numeric\n",
    "df_recommendation['price'] = pd.to_numeric(df_recommendation['price'], errors='coerce')\n",
    "df_recommendation['price'] = df_recommendation['price'].fillna(0.0)"
   ]
  },
  {
   "cell_type": "code",
   "execution_count": null,
   "metadata": {},
   "outputs": [],
   "source": [
    "def recommend(user_id, model, df, user_index_mapping, item_mapping, n_recommendations=5):\n",
    "    # Get user index\n",
    "    user_idx = user_index_mapping[user_id]\n",
    "    all_items = torch.arange(n_items)\n",
    "    user_tensor = torch.tensor([user_idx] * n_items, dtype=torch.long)\n",
    "\n",
    "    # Filter metadata for the items in all_items\n",
    "    item_ids = df.loc[df['item_encoded'].isin(all_items.numpy()), 'item_encoded'].values\n",
    "    filtered_metadata = df[df['item_encoded'].isin(item_ids)]\n",
    "    \n",
    "    metadata_main_category = torch.tensor(filtered_metadata['main_category_encoded'].values, dtype=torch.long)\n",
    "    metadata_price = torch.tensor(filtered_metadata['price'].values, dtype=torch.float32)\n",
    "    metadata = (metadata_main_category, metadata_price)\n",
    "\n",
    "    # Predict scores\n",
    "    scores = model(user_tensor, all_items, metadata).squeeze().detach().numpy()\n",
    "\n",
    "    # Get top recommendations\n",
    "    top_indices = np.argsort(scores)[::-1][:n_recommendations]\n",
    "    recommended_items = [item_mapping[idx] for idx in top_indices]\n",
    "    return recommended_items\n",
    "\n"
   ]
  },
  {
   "cell_type": "markdown",
   "metadata": {},
   "source": [
    "### **RECOMMENDATION :**"
   ]
  },
  {
   "cell_type": "code",
   "execution_count": 80,
   "metadata": {},
   "outputs": [
    {
     "name": "stdout",
     "output_type": "stream",
     "text": [
      "Top recommendations for user AE23WLBRYKEC67DM43M6E2MF7GPQ: ['B0BXT41XC6', 'B0B176CWVM', 'B0158GWWJ2', 'B09R6GDRV4', 'B07JL1KFT3']\n"
     ]
    }
   ],
   "source": [
    "user_id = \"AE23WLBRYKEC67DM43M6E2MF7GPQ\"\n",
    "recommendations = recommend(user_id, model, df_recommendation, user_index_mapping, item_mapping)\n",
    "print(f\"Top recommendations for user {user_id}: {recommendations}\")"
   ]
  },
  {
   "cell_type": "code",
   "execution_count": 82,
   "metadata": {},
   "outputs": [
    {
     "name": "stdout",
     "output_type": "stream",
     "text": [
      " Recommendation number 1 : JIM DUNLOP 498P1.0 Jazz III XL, Blue, 1.0mm, 12/Player's Pack \n",
      " - Description :['498P1.0 Tortex Jazz3 Xl-12/Pp']  \n",
      " Price :4.99  \n",
      " -Categories :['Musical Instruments', 'Instrument Accessories', 'Guitar & Bass Accessories', 'Picks & Pick Holders', 'Picks']  \n",
      "\n"
     ]
    },
    {
     "data": {
      "text/html": [
       "<img src=\"https://m.media-amazon.com/images/I/41dxRYA7qVL._AC_US40_.jpg\"/>"
      ],
      "text/plain": [
       "<IPython.core.display.Image object>"
      ]
     },
     "metadata": {},
     "output_type": "display_data"
    },
    {
     "name": "stdout",
     "output_type": "stream",
     "text": [
      " Recommendation number 1 : Shubb S1 Stainless Steel Guitar Capo for Steel String Guitars \n",
      " - Description :['The Shubb Deluxe S Capo is made of stainless steel with a new roller design that resists wear and opens and closes more smoothly that the original Shubb capo. Restyled lever makes the Deluxe Capo easier to handle.']  \n",
      " Price :21.99  \n",
      " -Categories :['Musical Instruments', 'Instrument Accessories', 'Guitar & Bass Accessories', 'Capos']  \n",
      "\n"
     ]
    },
    {
     "data": {
      "text/html": [
       "<img src=\"https://m.media-amazon.com/images/I/41Mrt4PzcvL._AC_US40_.jpg\"/>"
      ],
      "text/plain": [
       "<IPython.core.display.Image object>"
      ]
     },
     "metadata": {},
     "output_type": "display_data"
    },
    {
     "name": "stdout",
     "output_type": "stream",
     "text": [
      " Recommendation number 1 : Musiclily Fuzz Pedal, Pro Octave Fuzz Guitar Pedal, DC 9V Adapter Powered True Bypass for Electric Guitar and Bass (Green) \n",
      " - Description :[]  \n",
      " Price :30.61  \n",
      " -Categories :['Musical Instruments', 'Amplifiers & Effects', 'Guitar Effects', 'Electric Guitar Effects', 'Distortion & Overdrive']  \n",
      "\n"
     ]
    },
    {
     "data": {
      "text/html": [
       "<img src=\"https://m.media-amazon.com/images/I/41t+1pDqk6L._AC_US40_.jpg\"/>"
      ],
      "text/plain": [
       "<IPython.core.display.Image object>"
      ]
     },
     "metadata": {},
     "output_type": "display_data"
    },
    {
     "name": "stdout",
     "output_type": "stream",
     "text": [
      " Recommendation number 1 : Wampler Ego Compressor V2 Guitar Effects Pedal \n",
      " - Description :['From silky smooth sustain to full out country chicken-picken territory, the Wampler Ego Compressor is the most versatile compressor pedal on the market.']  \n",
      " Price :199.97  \n",
      " -Categories :['Musical Instruments', 'Amplifiers & Effects', 'Guitar Effects', 'Electric Guitar Effects', 'Compression']  \n",
      "\n"
     ]
    },
    {
     "data": {
      "text/html": [
       "<img src=\"https://m.media-amazon.com/images/I/51uO3KpV++L._AC_US40_.jpg\"/>"
      ],
      "text/plain": [
       "<IPython.core.display.Image object>"
      ]
     },
     "metadata": {},
     "output_type": "display_data"
    },
    {
     "name": "stdout",
     "output_type": "stream",
     "text": [
      " Recommendation number 1 : Fender 3-Position Vintage-Style Stratocaster/Telecaster Pickup Selector Switch \n",
      " - Description :['Whether replacing a worn switch or just adding tonal variety to your favorite instrument, Fender offers high-quality switches with knobs and mounting hardware.']  \n",
      " Price :9.99  \n",
      " -Categories :['Musical Instruments', 'Instrument Accessories', 'Guitar & Bass Accessories', 'Electric Guitar Parts', 'Electronics']  \n",
      "\n"
     ]
    },
    {
     "data": {
      "text/html": [
       "<img src=\"https://m.media-amazon.com/images/I/41V+eb3JrnL._AC_US40_.jpg\"/>"
      ],
      "text/plain": [
       "<IPython.core.display.Image object>"
      ]
     },
     "metadata": {},
     "output_type": "display_data"
    }
   ],
   "source": [
    "recommended_info = df_metadata[df_metadata['id'].isin(recommendations)]\n",
    "\n",
    "i = 1\n",
    "for index, row in recommended_info.iterrows(): \n",
    "    print (f\" Recommendation number {i} : { row['title']} \\n - Description :{ row['description']}  \\n Price :{ row['price']}  \\n -Categories :{ row['categories']}  \\n\")\n",
    "    try : \n",
    "        EDA_functions.show_image(row[\"images\"][0].get(\"thumb\"))\n",
    "    except : \n",
    "        print (\"No image available\")\n"
   ]
  },
  {
   "cell_type": "code",
   "execution_count": null,
   "metadata": {},
   "outputs": [],
   "source": []
  }
 ],
 "metadata": {
  "interpreter": {
   "hash": "5e59cd04a9cdc53c5128ea57bd8f9b712fba8f1ae7bfd07c006521541be527e5"
  },
  "kernelspec": {
   "display_name": "Python 3.11.5 ('base')",
   "language": "python",
   "name": "python3"
  },
  "language_info": {
   "codemirror_mode": {
    "name": "ipython",
    "version": 3
   },
   "file_extension": ".py",
   "mimetype": "text/x-python",
   "name": "python",
   "nbconvert_exporter": "python",
   "pygments_lexer": "ipython3",
   "version": "3.11.5"
  },
  "orig_nbformat": 4
 },
 "nbformat": 4,
 "nbformat_minor": 2
}
