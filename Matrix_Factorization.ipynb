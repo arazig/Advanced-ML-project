{
 "cells": [
  {
   "cell_type": "markdown",
   "metadata": {},
   "source": [
    "# **Matrix Factorization Algorithm**\n",
    "\n",
    "Matrix factorization is a collaborative filtering method used to predict missing entries in the user-item interaction matrix by decomposing it into two low-dimensional matrices:  Q (user embeddings) and P (item embeddings).\n",
    "\n",
    "##### Initialize Matrices\n",
    "- Randomly initialize  Q  and  P \n",
    "- Alternatively, use metadata embeddings to initialize these matrices.\n",
    "\n",
    "---\n",
    "\n",
    "##### Optimize for Loss Function\n",
    "The goal is to minimize the squared error with regularization:\n",
    "\n",
    "$$\n",
    "L = \\sum_{(i,j) \\in R} \\left( R_{ij} - Q_i \\cdot P_j^\\top \\right)^2 + \\lambda \\left( \\|Q_{i}\\|^2 + \\|P_{j}\\|^2 \\right)\n",
    "$$\n",
    "\n",
    "Where:\n",
    "- R : The user-item interaction matrix.\n",
    "- $R_{ij}$: Observed rating for user i and item j.\n",
    "- $Q_i$ : Latent vector for user i.\n",
    "- $P_j$ : Latent vector for item j.\n",
    "- lambda : Regularization parameter to prevent overfitting.\n",
    "- $|Q|^2$\n",
    "---\n",
    "\n",
    "##### Iterative Updates\n",
    "- Update Q and P alternately to minimize the loss function L.\n",
    "- Common optimization techniques include:\n",
    "  \n",
    "  \n",
    "  - **Alternating Least Squares (ALS):**\n",
    "  \n",
    "    - Fix P and solve for Q, then fix Q and solve for P.\n",
    "  \n",
    "  - **Stochastic Gradient Descent (SGD):**\n",
    "  \n",
    "    - Update Q and P by iteratively taking gradient steps on L.\n",
    "\n",
    "---\n",
    "\n",
    "##### Output\n",
    "- Q : Captures user preferences in a latent space.\n",
    "- P : Captures item characteristics in the same latent space.\n",
    "\n",
    "The predicted rating for user  i and item j is given by:\n",
    "\n",
    "$$\n",
    "\\hat{R}_{ij} = Q_i \\cdot P_j^\\top\n",
    "$$\n"
   ]
  },
  {
   "cell_type": "code",
   "execution_count": 23,
   "metadata": {},
   "outputs": [],
   "source": [
    "import numpy as np\n",
    "import pandas as pd\n",
    "from sklearn.model_selection import train_test_split\n",
    "import matplotlib.pyplot as plt \n",
    "from sklearn.metrics import confusion_matrix\n",
    "import seaborn as sns\n",
    "import matplotlib.pyplot as plt"
   ]
  },
  {
   "cell_type": "code",
   "execution_count": 97,
   "metadata": {},
   "outputs": [
    {
     "name": "stdout",
     "output_type": "stream",
     "text": [
      "Training data size: 37519\n",
      "Testing data size: 4875\n"
     ]
    }
   ],
   "source": [
    "\n",
    "# Example of the 'ratings' DataFrame\n",
    "# \n",
    "df_recommendation = pd.read_csv(\"data/base de donnée_20_20.csv\")\n",
    "ratings = df_recommendation[['user', 'id', 'rating']]\n",
    "\n",
    "# Create user-item interaction matrix\n",
    "user_ids = ratings['user'].unique()\n",
    "item_ids = ratings['id'].unique()\n",
    "user_id_map = {id: idx for idx, id in enumerate(user_ids)}\n",
    "item_id_map = {id: idx for idx, id in enumerate(item_ids)}\n",
    "\n",
    "ratings['user_idx'] = ratings['user'].map(user_id_map)\n",
    "ratings['item_idx'] = ratings['id'].map(item_id_map)\n",
    "\n",
    "# Train-Test Split using Leave-One-Out (for each user)\n",
    "train_data, test_data = [], []\n",
    "\n",
    "for user in ratings['user_idx'].unique():\n",
    "    user_data = ratings[ratings['user_idx'] == user]\n",
    "    if len(user_data) > 1:\n",
    "        # Leave one out: use all but one interaction for training\n",
    "        train_data.append(user_data.iloc[:-1])\n",
    "        test_data.append(user_data.iloc[-1:])  # Last rating is used for testing\n",
    "\n",
    "train_data = pd.concat(train_data, axis=0)\n",
    "test_data = pd.concat(test_data, axis=0)\n",
    "\n",
    "print(f\"Training data size: {len(train_data)}\")\n",
    "print(f\"Testing data size: {len(test_data)}\")\n"
   ]
  },
  {
   "cell_type": "markdown",
   "metadata": {},
   "source": [
    "##### Loss function $\\mathbf{L}$ :\n",
    "\n",
    "$$\n",
    "L = \\sum_{(i,j) \\in R} \\left( R_{ij} - Q_i \\cdot P_j^\\top \\right)^2 + \\lambda \\left( \\|Q_{i}\\|^2 + \\|P_{j}\\|^2 \\right)\n",
    "$$\n",
    "\n",
    "##### Dérivée par rapport à $\\mathbf{p}_u$ :\n",
    "\n",
    "$$\n",
    "\n",
    "\\frac{\\partial L}{\\partial \\mathbf{p}_u} = -2 (r_{ui} - \\mathbf{q}_i^\\top \\mathbf{p}_u) \\mathbf{q}_i + 2\\lambda \\mathbf{p}_u\n",
    "$$\n",
    "\n",
    "\n",
    "##### Dérivée par rapport à $\\mathbf{q}_i$ :\n",
    "\n",
    "$$\n",
    "\n",
    "\\frac{\\partial L}{\\partial \\mathbf{q}_i} = -2 (r_{ui} - \\mathbf{q}_i^\\top \\mathbf{p}_u) \\mathbf{p}_u + 2\\lambda \\mathbf{q}_i\n",
    "$$\n"
   ]
  },
  {
   "cell_type": "markdown",
   "metadata": {},
   "source": [
    "##### **1rst Training  with fixed regularization term on latent vectors** : \n",
    "##### Optimizer : Gradient descent algo"
   ]
  },
  {
   "cell_type": "code",
   "execution_count": 81,
   "metadata": {},
   "outputs": [
    {
     "data": {
      "text/html": [
       "<div>\n",
       "<style scoped>\n",
       "    .dataframe tbody tr th:only-of-type {\n",
       "        vertical-align: middle;\n",
       "    }\n",
       "\n",
       "    .dataframe tbody tr th {\n",
       "        vertical-align: top;\n",
       "    }\n",
       "\n",
       "    .dataframe thead th {\n",
       "        text-align: right;\n",
       "    }\n",
       "</style>\n",
       "<table border=\"1\" class=\"dataframe\">\n",
       "  <thead>\n",
       "    <tr style=\"text-align: right;\">\n",
       "      <th></th>\n",
       "      <th>user</th>\n",
       "      <th>id</th>\n",
       "      <th>rating</th>\n",
       "      <th>user_idx</th>\n",
       "      <th>item_idx</th>\n",
       "    </tr>\n",
       "  </thead>\n",
       "  <tbody>\n",
       "    <tr>\n",
       "      <th>0</th>\n",
       "      <td>AE23JYHGEN3D35CHE5OQQYJOW5RA</td>\n",
       "      <td>B000EEHKVY</td>\n",
       "      <td>5.0</td>\n",
       "      <td>0</td>\n",
       "      <td>0</td>\n",
       "    </tr>\n",
       "    <tr>\n",
       "      <th>1</th>\n",
       "      <td>AE23JYHGEN3D35CHE5OQQYJOW5RA</td>\n",
       "      <td>B000TGSM6E</td>\n",
       "      <td>5.0</td>\n",
       "      <td>0</td>\n",
       "      <td>1</td>\n",
       "    </tr>\n",
       "    <tr>\n",
       "      <th>2</th>\n",
       "      <td>AE23JYHGEN3D35CHE5OQQYJOW5RA</td>\n",
       "      <td>B003WZ6VVM</td>\n",
       "      <td>3.0</td>\n",
       "      <td>0</td>\n",
       "      <td>2</td>\n",
       "    </tr>\n",
       "    <tr>\n",
       "      <th>3</th>\n",
       "      <td>AE23JYHGEN3D35CHE5OQQYJOW5RA</td>\n",
       "      <td>B008FDSWJ0</td>\n",
       "      <td>5.0</td>\n",
       "      <td>0</td>\n",
       "      <td>3</td>\n",
       "    </tr>\n",
       "    <tr>\n",
       "      <th>4</th>\n",
       "      <td>AE23JYHGEN3D35CHE5OQQYJOW5RA</td>\n",
       "      <td>B00EF8VGWE</td>\n",
       "      <td>5.0</td>\n",
       "      <td>0</td>\n",
       "      <td>4</td>\n",
       "    </tr>\n",
       "  </tbody>\n",
       "</table>\n",
       "</div>"
      ],
      "text/plain": [
       "                           user          id  rating  user_idx  item_idx\n",
       "0  AE23JYHGEN3D35CHE5OQQYJOW5RA  B000EEHKVY     5.0         0         0\n",
       "1  AE23JYHGEN3D35CHE5OQQYJOW5RA  B000TGSM6E     5.0         0         1\n",
       "2  AE23JYHGEN3D35CHE5OQQYJOW5RA  B003WZ6VVM     3.0         0         2\n",
       "3  AE23JYHGEN3D35CHE5OQQYJOW5RA  B008FDSWJ0     5.0         0         3\n",
       "4  AE23JYHGEN3D35CHE5OQQYJOW5RA  B00EF8VGWE     5.0         0         4"
      ]
     },
     "execution_count": 81,
     "metadata": {},
     "output_type": "execute_result"
    }
   ],
   "source": [
    "train_data.head(5)"
   ]
  },
  {
   "cell_type": "code",
   "execution_count": 80,
   "metadata": {},
   "outputs": [
    {
     "data": {
      "text/html": [
       "<div>\n",
       "<style scoped>\n",
       "    .dataframe tbody tr th:only-of-type {\n",
       "        vertical-align: middle;\n",
       "    }\n",
       "\n",
       "    .dataframe tbody tr th {\n",
       "        vertical-align: top;\n",
       "    }\n",
       "\n",
       "    .dataframe thead th {\n",
       "        text-align: right;\n",
       "    }\n",
       "</style>\n",
       "<table border=\"1\" class=\"dataframe\">\n",
       "  <thead>\n",
       "    <tr style=\"text-align: right;\">\n",
       "      <th></th>\n",
       "      <th>user</th>\n",
       "      <th>id</th>\n",
       "      <th>rating</th>\n",
       "      <th>user_idx</th>\n",
       "      <th>item_idx</th>\n",
       "    </tr>\n",
       "  </thead>\n",
       "  <tbody>\n",
       "    <tr>\n",
       "      <th>21</th>\n",
       "      <td>AE23JYHGEN3D35CHE5OQQYJOW5RA</td>\n",
       "      <td>B0BRS8M3VJ</td>\n",
       "      <td>5.0</td>\n",
       "      <td>0</td>\n",
       "      <td>21</td>\n",
       "    </tr>\n",
       "    <tr>\n",
       "      <th>52</th>\n",
       "      <td>AE23LDQTB7L76AP6E6WPBFVYL5DA</td>\n",
       "      <td>B0BSR996X8</td>\n",
       "      <td>5.0</td>\n",
       "      <td>1</td>\n",
       "      <td>52</td>\n",
       "    </tr>\n",
       "    <tr>\n",
       "      <th>106</th>\n",
       "      <td>AE23WLBRYKEC67DM43M6E2MF7GPQ</td>\n",
       "      <td>B0C613YGWL</td>\n",
       "      <td>4.0</td>\n",
       "      <td>2</td>\n",
       "      <td>106</td>\n",
       "    </tr>\n",
       "    <tr>\n",
       "      <th>209</th>\n",
       "      <td>AE23ZFVUOMPKR57BVSWXV34QLMVA</td>\n",
       "      <td>B0C61YVW4K</td>\n",
       "      <td>2.0</td>\n",
       "      <td>3</td>\n",
       "      <td>207</td>\n",
       "    </tr>\n",
       "    <tr>\n",
       "      <th>230</th>\n",
       "      <td>AE24I2EU3AJAAKBXF367XSV37U6Q</td>\n",
       "      <td>B0C994NVQK</td>\n",
       "      <td>5.0</td>\n",
       "      <td>4</td>\n",
       "      <td>227</td>\n",
       "    </tr>\n",
       "  </tbody>\n",
       "</table>\n",
       "</div>"
      ],
      "text/plain": [
       "                             user          id  rating  user_idx  item_idx\n",
       "21   AE23JYHGEN3D35CHE5OQQYJOW5RA  B0BRS8M3VJ     5.0         0        21\n",
       "52   AE23LDQTB7L76AP6E6WPBFVYL5DA  B0BSR996X8     5.0         1        52\n",
       "106  AE23WLBRYKEC67DM43M6E2MF7GPQ  B0C613YGWL     4.0         2       106\n",
       "209  AE23ZFVUOMPKR57BVSWXV34QLMVA  B0C61YVW4K     2.0         3       207\n",
       "230  AE24I2EU3AJAAKBXF367XSV37U6Q  B0C994NVQK     5.0         4       227"
      ]
     },
     "execution_count": 80,
     "metadata": {},
     "output_type": "execute_result"
    }
   ],
   "source": [
    "test_data.head(5)"
   ]
  },
  {
   "cell_type": "markdown",
   "metadata": {},
   "source": [
    "### **Metrics definition ( RMSE, MAE, HR, NDCG) :**\n"
   ]
  },
  {
   "cell_type": "code",
   "execution_count": null,
   "metadata": {},
   "outputs": [],
   "source": [
    "def prediction_rating ( user_id , item_id ,P , Q ,verbose = True) :\n",
    "    user_idx = user_id_map[user_id] # nous permer d'avoir l'indice i \n",
    "    item_idx = item_id_map[item_id] # nous permet d'avoir l'indice j de la formule\n",
    "\n",
    "    # If no convertion \n",
    "    # predicted_rating = np.dot(P[user_idx], Q[item_idx])\n",
    "    \n",
    "    # If integer between 1 and 5 convertion\n",
    "    predicted_rating = np.dot(P[user_idx], Q[item_idx])\n",
    "    predicted_rating = round(predicted_rating) \n",
    "    predicted_rating = max(1, min(5, predicted_rating))\n",
    "\n",
    "\n",
    "    if verbose : \n",
    "        print(f\"Predicted Rating for user-item pair: {predicted_rating:.2f}\")\n",
    "\n",
    "    return predicted_rating\n"
   ]
  },
  {
   "cell_type": "markdown",
   "metadata": {},
   "source": [
    "####    **Evaluation with the leave one out (HR and NDCG) :**\n",
    "#### General approach:\n",
    "\n",
    "For each user in the test game, we have:\n",
    "\n",
    "- The positive element (in id).\n",
    "\n",
    "- The 99 negative elements (in negative_1, ..., negative_99).\n",
    "\n",
    "The predictions for these 100 elements (1 positive + 99 negative) are calculated using the prediction_rating function.\n",
    "\n",
    "We sort the elements according to the predicted scores. HR and NDCG are evaluated on the top-K elements."
   ]
  },
  {
   "cell_type": "code",
   "execution_count": 111,
   "metadata": {},
   "outputs": [],
   "source": [
    "def evaluate_model(test_data, P, Q, verbose = False):\n",
    "    total_mae = 0\n",
    "    total_rmse = 0\n",
    "    num_test_samples = len(test_data)\n",
    "\n",
    "    for _, row in test_data.iterrows():\n",
    "        u, i, r_ui = int(row['user_idx']), int(row['item_idx']), int(row['rating'])\n",
    "        prediction = np.dot(P[u], Q[i])\n",
    "        total_mae += abs(r_ui - prediction)\n",
    "        total_rmse += (r_ui - prediction) ** 2\n",
    "\n",
    "    mae = total_mae / num_test_samples\n",
    "    rmse = np.sqrt(total_rmse / num_test_samples)\n",
    "    if verbose : \n",
    "        print(f\"Evaluation Results:\\nMAE: {mae:.4f}, RMSE: {rmse:.4f}\")\n",
    "    return mae, rmse\n",
    "\n",
    "def generate_negative_items(test_data, all_items, num_negatives=99):\n",
    "    \"\"\"\n",
    "    Générer des items négatifs pour chaque utilisateur.\n",
    "    \"\"\"\n",
    "    negative_samples = []\n",
    "    for _, row in test_data.iterrows():\n",
    "        user_id = row['user']\n",
    "        positive_item = row['id']\n",
    "        # Exclure l'item positif des échantillons négatifs\n",
    "        negative_items = np.random.choice(\n",
    "            list(all_items - {positive_item}), \n",
    "            size=num_negatives, \n",
    "            # replace=False\n",
    "        )\n",
    "        negative_samples.append((user_id, positive_item, negative_items))\n",
    "    return negative_samples\n",
    "\n",
    "def evaluate_hr_ndcg(test_data, P, Q, user_id_map, item_id_map, K=10):\n",
    "    \"\"\"\n",
    "    Évaluer HR@K et NDCG@K pour un test set donné.\n",
    "    \"\"\"\n",
    "    all_items = set(item_id_map.keys())\n",
    "    negative_samples = generate_negative_items(test_data, all_items)\n",
    "\n",
    "    hr_list = []\n",
    "    ndcg_list = []\n",
    "\n",
    "    for user_id, positive_item, negative_items in negative_samples:\n",
    "        user_idx = user_id_map[user_id]\n",
    "        \n",
    "        # Créer une liste contenant l'item positif et les négatifs\n",
    "        candidate_items = [positive_item] + list(negative_items)\n",
    "        candidate_indices = [item_id_map[item] for item in candidate_items]\n",
    "        \n",
    "        # Calculer les scores prédits pour tous les items candidats\n",
    "        scores = [np.dot(P[user_idx], Q[item_idx]) for item_idx in candidate_indices]\n",
    "        \n",
    "        # Trier les items par score décroissant\n",
    "        ranked_indices = np.argsort(scores)[::-1]  # Indices triés (scores décroissants)\n",
    "        ranked_items = [candidate_items[i] for i in ranked_indices]\n",
    "        \n",
    "        # HR@K : Est-ce que l'item positif est dans le top K ?\n",
    "        if positive_item in ranked_items[:K]:\n",
    "            hr_list.append(1)\n",
    "        else:\n",
    "            hr_list.append(0)\n",
    "        \n",
    "        # NDCG@K : Position de l'item positif dans le classement\n",
    "        if positive_item in ranked_items[:K]:\n",
    "            position = ranked_items.index(positive_item)\n",
    "            ndcg_list.append(1 / np.log2(position + 2))  # +2 car index commence à 0\n",
    "        else:\n",
    "            ndcg_list.append(0)\n",
    "\n",
    "    # Moyennes sur tous les utilisateurs\n",
    "    hr = np.mean(hr_list)\n",
    "    ndcg = np.mean(ndcg_list)\n",
    "\n",
    "    return hr, ndcg\n"
   ]
  },
  {
   "cell_type": "markdown",
   "metadata": {},
   "source": [
    "### **Training :**"
   ]
  },
  {
   "cell_type": "code",
   "execution_count": 113,
   "metadata": {},
   "outputs": [
    {
     "name": "stdout",
     "output_type": "stream",
     "text": [
      "Epoch 1/50, Loss: 497294.5430 -- MAE: 4.4975 -- RMSE: 4.6004 -- HR: 0.0989 -- NDCG: 0.0481\n",
      "Epoch 2/50, Loss: 497736.4358 -- MAE: 4.4725 -- RMSE: 4.5753 -- HR: 0.1434 -- NDCG: 0.0835\n",
      "Epoch 3/50, Loss: 498971.0203 -- MAE: 4.3108 -- RMSE: 4.4345 -- HR: 0.2115 -- NDCG: 0.1373\n",
      "Epoch 4/50, Loss: 484850.1347 -- MAE: 3.7897 -- RMSE: 4.0011 -- HR: 0.2689 -- NDCG: 0.1691\n",
      "Epoch 5/50, Loss: 420469.6193 -- MAE: 2.9333 -- RMSE: 3.2752 -- HR: 0.2697 -- NDCG: 0.1648\n",
      "Epoch 6/50, Loss: 308161.4316 -- MAE: 2.1282 -- RMSE: 2.5256 -- HR: 0.2552 -- NDCG: 0.1442\n",
      "Epoch 7/50, Loss: 202317.5359 -- MAE: 1.5445 -- RMSE: 1.9229 -- HR: 0.2289 -- NDCG: 0.1220\n",
      "Epoch 8/50, Loss: 140461.1744 -- MAE: 1.1675 -- RMSE: 1.4965 -- HR: 0.1992 -- NDCG: 0.1014\n",
      "Epoch 9/50, Loss: 109391.4273 -- MAE: 0.9375 -- RMSE: 1.2220 -- HR: 0.1768 -- NDCG: 0.0854\n",
      "Epoch 10/50, Loss: 94330.5744 -- MAE: 0.8005 -- RMSE: 1.0539 -- HR: 0.1631 -- NDCG: 0.0778\n",
      "Epoch 11/50, Loss: 86717.4632 -- MAE: 0.7187 -- RMSE: 0.9523 -- HR: 0.1524 -- NDCG: 0.0744\n",
      "Epoch 12/50, Loss: 82351.9908 -- MAE: 0.6679 -- RMSE: 0.8877 -- HR: 0.1456 -- NDCG: 0.0703\n",
      "Epoch 13/50, Loss: 79524.8577 -- MAE: 0.6331 -- RMSE: 0.8412 -- HR: 0.1432 -- NDCG: 0.0690\n",
      "Epoch 14/50, Loss: 77521.9991 -- MAE: 0.6090 -- RMSE: 0.8090 -- HR: 0.1389 -- NDCG: 0.0677\n",
      "Epoch 15/50, Loss: 76000.8698 -- MAE: 0.5904 -- RMSE: 0.7820 -- HR: 0.1352 -- NDCG: 0.0652\n",
      "Epoch 16/50, Loss: 74949.5229 -- MAE: 0.5748 -- RMSE: 0.7596 -- HR: 0.1387 -- NDCG: 0.0675\n",
      "Epoch 17/50, Loss: 74038.9357 -- MAE: 0.5611 -- RMSE: 0.7396 -- HR: 0.1298 -- NDCG: 0.0639\n",
      "Epoch 18/50, Loss: 73117.5347 -- MAE: 0.5493 -- RMSE: 0.7220 -- HR: 0.1282 -- NDCG: 0.0626\n",
      "Epoch 19/50, Loss: 72562.4848 -- MAE: 0.5393 -- RMSE: 0.7067 -- HR: 0.1276 -- NDCG: 0.0616\n",
      "Epoch 20/50, Loss: 71826.6734 -- MAE: 0.5296 -- RMSE: 0.6924 -- HR: 0.1268 -- NDCG: 0.0608\n",
      "Epoch 21/50, Loss: 71167.8973 -- MAE: 0.5204 -- RMSE: 0.6779 -- HR: 0.1292 -- NDCG: 0.0620\n",
      "Epoch 22/50, Loss: 70744.2238 -- MAE: 0.5126 -- RMSE: 0.6660 -- HR: 0.1262 -- NDCG: 0.0621\n",
      "Epoch 23/50, Loss: 70164.1039 -- MAE: 0.5049 -- RMSE: 0.6540 -- HR: 0.1309 -- NDCG: 0.0645\n",
      "Epoch 24/50, Loss: 69761.7092 -- MAE: 0.4979 -- RMSE: 0.6431 -- HR: 0.1303 -- NDCG: 0.0613\n",
      "Epoch 25/50, Loss: 69322.3422 -- MAE: 0.4911 -- RMSE: 0.6324 -- HR: 0.1280 -- NDCG: 0.0625\n",
      "Epoch 26/50, Loss: 68852.4095 -- MAE: 0.4848 -- RMSE: 0.6218 -- HR: 0.1280 -- NDCG: 0.0621\n",
      "Epoch 27/50, Loss: 68482.1788 -- MAE: 0.4785 -- RMSE: 0.6124 -- HR: 0.1315 -- NDCG: 0.0633\n",
      "Epoch 28/50, Loss: 68119.6911 -- MAE: 0.4731 -- RMSE: 0.6033 -- HR: 0.1317 -- NDCG: 0.0625\n",
      "Epoch 29/50, Loss: 67786.9138 -- MAE: 0.4677 -- RMSE: 0.5945 -- HR: 0.1290 -- NDCG: 0.0614\n",
      "Epoch 30/50, Loss: 67518.1451 -- MAE: 0.4624 -- RMSE: 0.5864 -- HR: 0.1374 -- NDCG: 0.0664\n",
      "Epoch 31/50, Loss: 67235.5902 -- MAE: 0.4577 -- RMSE: 0.5785 -- HR: 0.1348 -- NDCG: 0.0656\n",
      "Epoch 32/50, Loss: 66952.0731 -- MAE: 0.4534 -- RMSE: 0.5717 -- HR: 0.1342 -- NDCG: 0.0657\n",
      "Epoch 33/50, Loss: 66664.5465 -- MAE: 0.4491 -- RMSE: 0.5645 -- HR: 0.1352 -- NDCG: 0.0656\n",
      "Epoch 34/50, Loss: 66352.0628 -- MAE: 0.4448 -- RMSE: 0.5574 -- HR: 0.1292 -- NDCG: 0.0620\n",
      "Epoch 35/50, Loss: 66073.0908 -- MAE: 0.4408 -- RMSE: 0.5508 -- HR: 0.1368 -- NDCG: 0.0656\n",
      "Epoch 36/50, Loss: 65925.6990 -- MAE: 0.4367 -- RMSE: 0.5450 -- HR: 0.1389 -- NDCG: 0.0648\n",
      "Epoch 37/50, Loss: 65609.3656 -- MAE: 0.4342 -- RMSE: 0.5397 -- HR: 0.1333 -- NDCG: 0.0642\n",
      "Epoch 38/50, Loss: 65472.3229 -- MAE: 0.4301 -- RMSE: 0.5338 -- HR: 0.1368 -- NDCG: 0.0648\n",
      "Epoch 39/50, Loss: 65221.8356 -- MAE: 0.4266 -- RMSE: 0.5283 -- HR: 0.1319 -- NDCG: 0.0632\n",
      "Epoch 40/50, Loss: 64951.8821 -- MAE: 0.4234 -- RMSE: 0.5232 -- HR: 0.1303 -- NDCG: 0.0630\n",
      "Epoch 41/50, Loss: 64723.4976 -- MAE: 0.4209 -- RMSE: 0.5185 -- HR: 0.1323 -- NDCG: 0.0624\n",
      "Epoch 42/50, Loss: 64539.2618 -- MAE: 0.4179 -- RMSE: 0.5140 -- HR: 0.1294 -- NDCG: 0.0613\n",
      "Epoch 43/50, Loss: 64321.5471 -- MAE: 0.4149 -- RMSE: 0.5096 -- HR: 0.1298 -- NDCG: 0.0621\n",
      "Epoch 44/50, Loss: 64236.2377 -- MAE: 0.4119 -- RMSE: 0.5049 -- HR: 0.1301 -- NDCG: 0.0610\n",
      "Epoch 45/50, Loss: 63974.0391 -- MAE: 0.4103 -- RMSE: 0.5017 -- HR: 0.1319 -- NDCG: 0.0635\n",
      "Epoch 46/50, Loss: 63892.6639 -- MAE: 0.4078 -- RMSE: 0.4981 -- HR: 0.1309 -- NDCG: 0.0625\n",
      "Epoch 47/50, Loss: 63558.0061 -- MAE: 0.4064 -- RMSE: 0.4954 -- HR: 0.1311 -- NDCG: 0.0628\n",
      "Epoch 48/50, Loss: 63514.7748 -- MAE: 0.4042 -- RMSE: 0.4916 -- HR: 0.1348 -- NDCG: 0.0649\n",
      "Epoch 49/50, Loss: 63346.2681 -- MAE: 0.4022 -- RMSE: 0.4886 -- HR: 0.1298 -- NDCG: 0.0624\n",
      "Epoch 50/50, Loss: 63187.1702 -- MAE: 0.4000 -- RMSE: 0.4854 -- HR: 0.1317 -- NDCG: 0.0626\n"
     ]
    }
   ],
   "source": [
    "\n",
    "# Hyperparameters\n",
    "num_factors = 10  # Latent space dimensionality\n",
    "learning_rate = 0.01\n",
    "reg_lambda = 0.1\n",
    "num_epochs = 50\n",
    "\n",
    "# Initialization of the latent factor matrices\n",
    "num_users = len(user_ids)\n",
    "num_items = len(item_ids)\n",
    "P = np.random.normal(0, 0.1, (num_users, num_factors))  # User latent factors\n",
    "Q = np.random.normal(0, 0.1, (num_items, num_factors))  # Item latent factors\n",
    "\n",
    "# Training set\n",
    "train_data = train_data[['user_idx', 'item_idx', 'rating']]\n",
    "#train_data  = pd.read_csv('data\\train20_10.csv')\n",
    "\n",
    "# User and item frequency dictionaries for regularization\n",
    "user_frequencies = train_data['user_idx'].value_counts().to_dict()\n",
    "item_frequencies = train_data['item_idx'].value_counts().to_dict()\n",
    "\n",
    "# To store the matrices P and Q at different epochs\n",
    "stored_P = [P]\n",
    "stored_Q = [Q]\n",
    "\n",
    "loss_evolution = []\n",
    "mae_evolution = []\n",
    "rmse_evolution = []\n",
    "hr_evolution = []\n",
    "ndcg_evolution = []\n",
    "\n",
    "\n",
    "# Training loop\n",
    "for epoch in range(num_epochs):\n",
    "    total_loss = 0\n",
    "    for _, row in train_data.iterrows():\n",
    "        u, i, r_ui = int(row['user_idx']), int(row['item_idx']), int(row['rating'])\n",
    "        \n",
    "        # Frequency-based regularization\n",
    "        freq_user = user_frequencies[u]\n",
    "        freq_item = item_frequencies[i]\n",
    "        \n",
    "        prediction = np.dot(P[u], Q[i])\n",
    "        #error = r_ui - prediction \n",
    "\n",
    "        # Convert to class \n",
    "        predicted_rating = round(prediction) \n",
    "        predicted_rating = max(1, min(5, predicted_rating))\n",
    "        error = r_ui - predicted_rating\n",
    "\n",
    "        # Regularization terms for user and item\n",
    "        reg_u = reg_lambda / np.sqrt(freq_user)  # Regularization for user\n",
    "        reg_i = reg_lambda / np.sqrt(freq_item)  # Regularization for item\n",
    "\n",
    "        # Update user and item latent factors by gradient descent\n",
    "        P[u] += learning_rate * (error * Q[i] - reg_u * P[u])\n",
    "        Q[i] += learning_rate * (error * P[u] - reg_i * Q[i])\n",
    "\n",
    "        # Accumulate loss (including regularization)\n",
    "        total_loss += error ** 2 + reg_lambda * (np.linalg.norm(P[u]) ** 2 + np.linalg.norm(Q[i]) ** 2)\n",
    "    \n",
    "\n",
    "    if (epoch + 1) % 5 == 0:\n",
    "        stored_P.append(P.copy())\n",
    "        stored_Q.append(Q.copy())\n",
    "\n",
    "    loss_evolution.append(total_loss)\n",
    "    # Evaluation of model on test set and  MAE & RMSE after each epoch\n",
    "    mae, rmse = evaluate_model(train_data, P, Q)\n",
    "    hr, ndcg = evaluate_hr_ndcg(test_data, P, Q, user_id_map, item_id_map, K=10)\n",
    "\n",
    "    mae_evolution.append(mae)\n",
    "    rmse_evolution.append(rmse)\n",
    "    hr_evolution.append(hr)\n",
    "    ndcg_evolution.append(ndcg)\n",
    "\n",
    "    print(f\"Epoch {epoch + 1}/{num_epochs}, Loss: {total_loss:.4f} -- MAE: {mae:.4f} -- RMSE: {rmse:.4f} -- HR: {hr:.4f} -- NDCG: {ndcg:.4f}\")\n",
    "\n"
   ]
  },
  {
   "cell_type": "code",
   "execution_count": 123,
   "metadata": {},
   "outputs": [
    {
     "data": {
      "image/png": "[encoded data removed]",
      "text/plain": [
       "<Figure size 1600x600 with 3 Axes>"
      ]
     },
     "metadata": {},
     "output_type": "display_data"
    }
   ],
   "source": [
    "# Plotting Loss, MAE, and RMSE over epochs\n",
    "plt.figure(figsize=(16, 6))\n",
    "\n",
    "# Plotting Loss\n",
    "plt.subplot(1, 3, 1)\n",
    "plt.plot(range(1, num_epochs + 1), loss_evolution, marker='o', color='b', label=\"Loss\",markersize=4)\n",
    "plt.title('Loss Evolution')\n",
    "plt.xlabel('Epoch')\n",
    "plt.ylabel('Loss')\n",
    "plt.grid(True)\n",
    "\n",
    "# Plotting MAE\n",
    "plt.subplot(1, 3, 2)\n",
    "plt.plot(range(1, num_epochs + 1), mae_evolution, marker='o', color='g', label=\"MAE\",markersize=4)\n",
    "plt.title('MAE Evolution')\n",
    "plt.xlabel('Epoch')\n",
    "plt.ylabel('MAE')\n",
    "plt.grid(True)\n",
    "\n",
    "# Plotting RMSE\n",
    "plt.subplot(1, 3, 3)\n",
    "plt.plot(range(1, num_epochs + 1), rmse_evolution, marker='o', color='r', label=\"RMSE\",markersize=4)\n",
    "plt.title('RMSE Evolution')\n",
    "plt.xlabel('Epoch')\n",
    "plt.ylabel('RMSE')\n",
    "plt.grid(True)\n",
    "\n",
    "\n",
    "plt.tight_layout()\n",
    "plt.show()"
   ]
  },
  {
   "cell_type": "code",
   "execution_count": 114,
   "metadata": {},
   "outputs": [
    {
     "data": {
      "image/png": "[encoded data removed]",
      "text/plain": [
       "<Figure size 1200x600 with 2 Axes>"
      ]
     },
     "metadata": {},
     "output_type": "display_data"
    }
   ],
   "source": [
    "# Plotting HR , NDCG over epochs\n",
    "plt.figure(figsize=(12, 6))\n",
    "\n",
    "# Plotting Loss\n",
    "plt.subplot(1, 2, 1)\n",
    "plt.plot(range(1, num_epochs + 1), hr_evolution, marker='o', color='b', label=\"Loss\",markersize=4)\n",
    "plt.title('HR Evolution')\n",
    "plt.xlabel('Epoch')\n",
    "plt.ylabel('HR')\n",
    "plt.grid(True)\n",
    "\n",
    "# Plotting MAE\n",
    "plt.subplot(1, 2, 2)\n",
    "plt.plot(range(1, num_epochs + 1), ndcg_evolution, marker='o', color='g', label=\"MAE\",markersize=4)\n",
    "plt.title('NDCG Evolution')\n",
    "plt.xlabel('Epoch')\n",
    "plt.ylabel('NDCG')\n",
    "plt.grid(True)\n",
    "\n",
    "\n",
    "plt.tight_layout()\n",
    "plt.show()"
   ]
  },
  {
   "cell_type": "markdown",
   "metadata": {},
   "source": [
    "### **Evaluation : (test set) RMSE and MAE**"
   ]
  },
  {
   "cell_type": "code",
   "execution_count": 116,
   "metadata": {},
   "outputs": [
    {
     "name": "stdout",
     "output_type": "stream",
     "text": [
      "Evaluation Results:\n",
      "MAE: 1.0776, RMSE: 1.4746\n"
     ]
    }
   ],
   "source": [
    "# After training the model, evaluation using test_data\n",
    "mae_evaluate, rmse_evaluate = evaluate_model(test_data, P, Q, verbose = True)"
   ]
  },
  {
   "cell_type": "code",
   "execution_count": 117,
   "metadata": {},
   "outputs": [
    {
     "data": {
      "image/png": "[encoded data removed]",
      "text/plain": [
       "<Figure size 600x500 with 2 Axes>"
      ]
     },
     "metadata": {},
     "output_type": "display_data"
    }
   ],
   "source": [
    "\n",
    "# Prédictions sur l'ensemble de test\n",
    "y_true = []  \n",
    "y_pred = []  \n",
    "\n",
    "for _, row in test_data.iterrows():\n",
    "    user_id = row['user']\n",
    "    item_id = row['id']\n",
    "    true_rating = row['rating']\n",
    "    \n",
    "    pred_rating = prediction_rating(user_id, item_id, P, Q, verbose = False)\n",
    "    \n",
    "    y_true.append(true_rating)\n",
    "    y_pred.append(pred_rating)\n",
    "\n",
    "conf_matrix = confusion_matrix(y_true, y_pred)\n",
    "\n",
    "plt.figure(figsize=(6, 5))\n",
    "sns.heatmap(conf_matrix, annot=True, fmt=\"d\", cmap=\"Blues\", xticklabels=[1, 2, 3, 4, 5], yticklabels=[1, 2, 3, 4, 5])\n",
    "plt.title(\"Confusion Matrix for Test Set\")\n",
    "plt.xlabel(\"Predicted Rating\")\n",
    "plt.ylabel(\"True Rating\")\n",
    "plt.show()\n"
   ]
  },
  {
   "cell_type": "markdown",
   "metadata": {},
   "source": [
    "### **Prediction  distibution :** "
   ]
  },
  {
   "cell_type": "code",
   "execution_count": 119,
   "metadata": {},
   "outputs": [
    {
     "name": "stdout",
     "output_type": "stream",
     "text": [
      "Predicted Rating for user-item pair: 2.00\n",
      "The true rating is  : \n"
     ]
    },
    {
     "data": {
      "text/html": [
       "<div>\n",
       "<style scoped>\n",
       "    .dataframe tbody tr th:only-of-type {\n",
       "        vertical-align: middle;\n",
       "    }\n",
       "\n",
       "    .dataframe tbody tr th {\n",
       "        vertical-align: top;\n",
       "    }\n",
       "\n",
       "    .dataframe thead th {\n",
       "        text-align: right;\n",
       "    }\n",
       "</style>\n",
       "<table border=\"1\" class=\"dataframe\">\n",
       "  <thead>\n",
       "    <tr style=\"text-align: right;\">\n",
       "      <th></th>\n",
       "      <th>user</th>\n",
       "      <th>id</th>\n",
       "      <th>rating</th>\n",
       "      <th>user_idx</th>\n",
       "      <th>item_idx</th>\n",
       "    </tr>\n",
       "  </thead>\n",
       "  <tbody>\n",
       "    <tr>\n",
       "      <th>104</th>\n",
       "      <td>AE2BETZH5DRTVRVCBYP7PA4NDBPA</td>\n",
       "      <td>B07ZWHY5TD</td>\n",
       "      <td>2.0</td>\n",
       "      <td>10</td>\n",
       "      <td>99</td>\n",
       "    </tr>\n",
       "  </tbody>\n",
       "</table>\n",
       "</div>"
      ],
      "text/plain": [
       "                             user          id  rating  user_idx  item_idx\n",
       "104  AE2BETZH5DRTVRVCBYP7PA4NDBPA  B07ZWHY5TD     2.0        10        99"
      ]
     },
     "execution_count": 119,
     "metadata": {},
     "output_type": "execute_result"
    }
   ],
   "source": [
    "\n",
    "# Example 1 : \n",
    "user_id = \"AE2BETZH5DRTVRVCBYP7PA4NDBPA\"\n",
    "item_id = \"B07ZWHY5TD\"\n",
    "\n",
    "pred = prediction_rating( user_id , item_id, P, Q )\n",
    "print(\"The true rating is  : \")\n",
    "ratings.query(f'user == \"{user_id}\" and id == \"{item_id}\"')"
   ]
  },
  {
   "cell_type": "code",
   "execution_count": 120,
   "metadata": {},
   "outputs": [
    {
     "name": "stdout",
     "output_type": "stream",
     "text": [
      "Predicted Rating for user-item pair: 5.00\n",
      "The true rating is  : \n"
     ]
    },
    {
     "data": {
      "text/html": [
       "<div>\n",
       "<style scoped>\n",
       "    .dataframe tbody tr th:only-of-type {\n",
       "        vertical-align: middle;\n",
       "    }\n",
       "\n",
       "    .dataframe tbody tr th {\n",
       "        vertical-align: top;\n",
       "    }\n",
       "\n",
       "    .dataframe thead th {\n",
       "        text-align: right;\n",
       "    }\n",
       "</style>\n",
       "<table border=\"1\" class=\"dataframe\">\n",
       "  <thead>\n",
       "    <tr style=\"text-align: right;\">\n",
       "      <th></th>\n",
       "      <th>user</th>\n",
       "      <th>id</th>\n",
       "      <th>rating</th>\n",
       "      <th>user_idx</th>\n",
       "      <th>item_idx</th>\n",
       "    </tr>\n",
       "  </thead>\n",
       "  <tbody>\n",
       "    <tr>\n",
       "      <th>42621</th>\n",
       "      <td>AHZYZ2BUDD7WAJPW5G6K2DK5LYPQ</td>\n",
       "      <td>B095XZJ99J</td>\n",
       "      <td>5.0</td>\n",
       "      <td>5106</td>\n",
       "      <td>403</td>\n",
       "    </tr>\n",
       "  </tbody>\n",
       "</table>\n",
       "</div>"
      ],
      "text/plain": [
       "                               user          id  rating  user_idx  item_idx\n",
       "42621  AHZYZ2BUDD7WAJPW5G6K2DK5LYPQ  B095XZJ99J     5.0      5106       403"
      ]
     },
     "execution_count": 120,
     "metadata": {},
     "output_type": "execute_result"
    }
   ],
   "source": [
    "# Example 2 : \n",
    "user_id = \"AHZYZ2BUDD7WAJPW5G6K2DK5LYPQ\"\n",
    "item_id = \"B095XZJ99J\"\n",
    "pred = prediction_rating( user_id , item_id, P, Q )\n",
    "print(\"The true rating is  : \")\n",
    "ratings.query(f'user == \"{user_id}\" and id == \"{item_id}\"')"
   ]
  },
  {
   "cell_type": "code",
   "execution_count": 46,
   "metadata": {},
   "outputs": [
    {
     "data": {
      "text/plain": [
       "<Axes: ylabel='Count'>"
      ]
     },
     "execution_count": 46,
     "metadata": {},
     "output_type": "execute_result"
    },
    {
     "data": {
      "image/png": "[encoded data removed]",
      "text/plain": [
       "<Figure size 640x480 with 1 Axes>"
      ]
     },
     "metadata": {},
     "output_type": "display_data"
    }
   ],
   "source": [
    "\n",
    "ratings_list = []\n",
    "for _, row in ratings.iterrows() : \n",
    "    user_id = row['user']\n",
    "    item_id =  row['id']\n",
    "    pred = prediction_rating( user_id , item_id , verbose = False)\n",
    "    ratings_list.append(pred)\n",
    "    \n",
    "import seaborn as sns\n",
    "sns.set_style('whitegrid')\n",
    "sns.histplot(ratings_list)"
   ]
  },
  {
   "cell_type": "code",
   "execution_count": 121,
   "metadata": {},
   "outputs": [
    {
     "data": {
      "application/vnd.jupyter.widget-view+json": {
       "model_id": "0076f700a72246b69bcf06e051452808",
       "version_major": 2,
       "version_minor": 0
      },
      "text/plain": [
       "interactive(children=(IntSlider(value=5, description='epoch', max=10), Output()), _dom_classes=('widget-intera…"
      ]
     },
     "metadata": {},
     "output_type": "display_data"
    },
    {
     "data": {
      "text/plain": [
       "<function __main__.plot_histogram(epoch)>"
      ]
     },
     "execution_count": 121,
     "metadata": {},
     "output_type": "execute_result"
    }
   ],
   "source": [
    "from ipywidgets import interact\n",
    "\n",
    "def plot_histogram(epoch):\n",
    "    ratings_list = []\n",
    "    \n",
    "    # Calcul des prédictions pour l'époque sélectionnée\n",
    "    P_epoch = stored_P[epoch]\n",
    "    Q_epoch = stored_Q[epoch]\n",
    "\n",
    "    for _, row in ratings.iterrows():\n",
    "        user_id = row['user']\n",
    "        item_id = row['id']\n",
    "        pred = prediction_rating(user_id, item_id, P_epoch, Q_epoch, verbose = False)\n",
    "        ratings_list.append(pred)\n",
    "\n",
    "    # Tracer l'histogramme\n",
    "    plt.figure(figsize=(10, 6))\n",
    "    sns.histplot(ratings_list, bins=5, kde=False, color=\"blue\")\n",
    "    plt.title(f\"Distribution of Predicted Ratings at Epoch {(epoch )*5}\")\n",
    "    plt.xlabel(\"Predicted Rating\")\n",
    "    plt.ylabel(\"Frequency\")\n",
    "    plt.show()\n",
    "\n",
    "# Créer un curseur interactif pour changer l'époque et afficher l'histogramme\n",
    "interact(plot_histogram, epoch=(0, (num_epochs // 5)+ 1- 1))"
   ]
  },
  {
   "cell_type": "markdown",
   "metadata": {},
   "source": [
    "## **Annexe :**"
   ]
  },
  {
   "cell_type": "code",
   "execution_count": 94,
   "metadata": {},
   "outputs": [
    {
     "name": "stdout",
     "output_type": "stream",
     "text": [
      "HR@10: 0.1061, NDCG@10: 0.0499\n"
     ]
    }
   ],
   "source": [
    "\n",
    "# Simulation : \n",
    "num_users = test_data['user_idx'].max() + 1\n",
    "num_items = test_data['item_idx'].max() + 1\n",
    "P = np.random.rand(num_users, 10)  # Dimension utilisateur\n",
    "Q = np.random.rand(num_items, 10)  # Dimension article\n",
    "\n",
    "user_id_map = {user: idx for idx, user in enumerate(test_data['user'])}\n",
    "item_id_map = {item: idx for idx, item in enumerate(test_data['id'])}\n",
    "\n",
    "# Calcule HR@10 et NDCG@10\n",
    "hr, ndcg = evaluate_hr_ndcg(test_data, P, Q, user_id_map, item_id_map, K=10)\n",
    "\n",
    "print(f\"HR@10: {hr:.4f}, NDCG@10: {ndcg:.4f}\")\n"
   ]
  },
  {
   "cell_type": "code",
   "execution_count": null,
   "metadata": {},
   "outputs": [],
   "source": [
    "########################################################\n",
    "########## POUR METHODE AVEC LE FICHIER NEGTIVE DIRECT / \n",
    "\n",
    "test_negative = pd.read_csv(\"data/test_negative20_10.csv\")\n",
    "\n",
    "\n",
    "\n",
    "def hit_ratio_and_ndcg(test_data, P, Q, K=10):\n",
    "    \"\"\"\n",
    "    Évalue le modèle sur Hit Ratio (HR) et NDCG.\n",
    "\n",
    "    Args:\n",
    "        test_data (DataFrame): Jeu de données test avec colonnes `user`, `id`, `negative_1`, ..., `negative_99`.\n",
    "        P (ndarray): Matrice des utilisateurs.\n",
    "        Q (ndarray): Matrice des items.\n",
    "        K (int): Nombre d'éléments dans le top-K.\n",
    "\n",
    "    Returns:\n",
    "        float, float: Moyenne de HR et NDCG sur tous les utilisateurs.\n",
    "    \"\"\"\n",
    "    hits, ndcgs = [], []\n",
    "\n",
    "    for _, row in test_data.iterrows():\n",
    "        user_id = row['user']\n",
    "        positive_item = row['id']\n",
    "        negative_items = row[4:].values  # Les colonnes `negative_1` à `negative_99`.\n",
    "\n",
    "        # Construire la liste des items (1 positif + 99 négatifs)\n",
    "        items = [positive_item] + list(negative_items)\n",
    "        \n",
    "        # Calculer les prédictions pour ces items\n",
    "        print(f\"{items}\") ['B09YDBKT7M', 7]\n",
    "        scores = [prediction_rating(user_id, item_id, P, Q, verbose=False) for item_id in items]\n",
    "\n",
    "        # Trier les items selon les scores prédits (ordre décroissant)\n",
    "        ranked_items = np.argsort(scores)[::-1]  # Indices triés par ordre décroissant\n",
    "\n",
    "        # HR et NDCG pour cet utilisateur\n",
    "        if 0 in ranked_items[:K]:  # L'élément positif est au rang 0 dans `items`\n",
    "            hits.append(1)\n",
    "            rank = np.where(ranked_items == 0)[0][0] + 1  # Rang réel du positif\n",
    "            ndcgs.append(1 / np.log2(rank + 1))\n",
    "        else:\n",
    "            hits.append(0)\n",
    "            ndcgs.append(0)\n",
    "\n",
    "    # Moyenne des métriques\n",
    "    mean_hr = np.mean(hits)\n",
    "    mean_ndcg = np.mean(ndcgs)\n",
    "\n",
    "    return mean_hr, mean_ndcg"
   ]
  }
 ],
 "metadata": {
  "interpreter": {
   "hash": "e7370f93d1d0cde622a1f8e1c04877d8463912d04d973331ad4851f04de6915a"
  },
  "kernelspec": {
   "display_name": "Python 3.9.21 64-bit",
   "language": "python",
   "name": "python3"
  },
  "language_info": {
   "codemirror_mode": {
    "name": "ipython",
    "version": 3
   },
   "file_extension": ".py",
   "mimetype": "text/x-python",
   "name": "python",
   "nbconvert_exporter": "python",
   "pygments_lexer": "ipython3",
   "version": "3.9.21"
  },
  "orig_nbformat": 4
 },
 "nbformat": 4,
 "nbformat_minor": 2
}
